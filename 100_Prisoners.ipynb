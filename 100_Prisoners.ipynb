{
  "nbformat": 4,
  "nbformat_minor": 0,
  "metadata": {
    "colab": {
      "name": "100_Prisoners.ipynb",
      "provenance": [],
      "collapsed_sections": [],
      "authorship_tag": "ABX9TyMAwT3DcbGCRsHdZNecusLo",
      "include_colab_link": true
    },
    "kernelspec": {
      "name": "python3",
      "display_name": "Python 3"
    },
    "language_info": {
      "name": "python"
    }
  },
  "cells": [
    {
      "cell_type": "markdown",
      "metadata": {
        "id": "view-in-github",
        "colab_type": "text"
      },
      "source": [
        "<a href=\"https://colab.research.google.com/github/abm4github/My_IITM_works/blob/main/100_Prisoners.ipynb\" target=\"_parent\"><img src=\"https://colab.research.google.com/assets/colab-badge.svg\" alt=\"Open In Colab\"/></a>"
      ]
    },
    {
      "cell_type": "code",
      "source": [
        "import random"
      ],
      "metadata": {
        "id": "Id0IWUfatlOD"
      },
      "execution_count": 2,
      "outputs": []
    },
    {
      "cell_type": "code",
      "source": [
        "n_prisoners = int(input(\"Enter the number of prisoners: \"))\n",
        "n_repetitions = int(input(\"Enter the number, as many times the experiment is to be repeated: \"))\n",
        "max_collection = []\n",
        "boxes_count = 0\n",
        "for iter in range(n_repetitions):\n",
        "  L = random.sample(range(1, n_prisoners+1), n_prisoners)\n",
        "  d = {}\n",
        "  for i in range(1,n_prisoners+1):\n",
        "    d[i] = L[i-1]\n",
        "    max_boxes = 0\n",
        "  for j in d.keys():\n",
        "    n_box = d[j]\n",
        "    boxes_opened = 1\n",
        "    while j != d[n_box]:\n",
        "      n_box = d[n_box]\n",
        "      boxes_opened += 1\n",
        "    boxes_count += boxes_opened \n",
        "    if boxes_opened >= max_boxes:\n",
        "      max_boxes = boxes_opened\n",
        "  if max_boxes <= n_prisoners//2:\n",
        "      max_collection.append(max_boxes)\n",
        "print(f\"The probability of prisoners escaping death penalty: {len(max_collection)/n_repetitions}\")    \n",
        "print(f\"The average number of boxes to be opened to find desired number: {boxes_count/(n_prisoners*n_repetitions)}\")"
      ],
      "metadata": {
        "colab": {
          "base_uri": "https://localhost:8080/"
        },
        "id": "ntwIw5o5S30L",
        "outputId": "823da4bc-ffc0-4213-cc7c-f0be8f97b4a6"
      },
      "execution_count": 6,
      "outputs": [
        {
          "output_type": "stream",
          "name": "stdout",
          "text": [
            "Enter the number of prisoners: 100\n",
            "Enter the number, as many times the experiment is to be repeated: 10000\n",
            "The probability of prisoners escaping death penalty: 0.3276\n",
            "The average number of boxes to be opened to find desired number: 49.479994\n"
          ]
        }
      ]
    },
    {
      "cell_type": "code",
      "source": [
        ""
      ],
      "metadata": {
        "id": "2RyuvyUQbYHQ"
      },
      "execution_count": 13,
      "outputs": []
    }
  ]
}