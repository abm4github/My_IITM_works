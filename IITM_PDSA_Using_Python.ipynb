{
  "nbformat": 4,
  "nbformat_minor": 0,
  "metadata": {
    "colab": {
      "name": "IITM_PDSA_Using_Python.ipynb",
      "provenance": [],
      "authorship_tag": "ABX9TyNFU0aWlFd7eO2byjaGIXSh",
      "include_colab_link": true
    },
    "kernelspec": {
      "name": "python3",
      "display_name": "Python 3"
    },
    "language_info": {
      "name": "python"
    }
  },
  "cells": [
    {
      "cell_type": "markdown",
      "metadata": {
        "id": "view-in-github",
        "colab_type": "text"
      },
      "source": [
        "<a href=\"https://colab.research.google.com/github/abm4github/My_IITM_works/blob/main/IITM_PDSA_Using_Python.ipynb\" target=\"_parent\"><img src=\"https://colab.research.google.com/assets/colab-badge.svg\" alt=\"Open In Colab\"/></a>"
      ]
    },
    {
      "cell_type": "markdown",
      "source": [
        "# Programming Data Structures and Algorithms"
      ],
      "metadata": {
        "id": "hOtqLD7Qo2zN"
      }
    },
    {
      "cell_type": "markdown",
      "source": [
        "##Week 1"
      ],
      "metadata": {
        "id": "dQuRYkAJpGVE"
      }
    },
    {
      "cell_type": "code",
      "source": [
        ""
      ],
      "metadata": {
        "id": "18gegv9cpJvk"
      },
      "execution_count": null,
      "outputs": []
    },
    {
      "cell_type": "markdown",
      "source": [
        "##Week 2"
      ],
      "metadata": {
        "id": "Rid2RsdspKgS"
      }
    },
    {
      "cell_type": "markdown",
      "source": [
        "Insertion Sort"
      ],
      "metadata": {
        "id": "N5wgpenwpPf6"
      }
    },
    {
      "cell_type": "code",
      "source": [
        "#insertion sort by creating new list\n",
        "\n",
        "def InsertionSort(L):\n",
        "  li = [L[0]]\n",
        "  for i in range(1, len(L)):\n",
        "    j = 0\n",
        "    if L[i] > li[-1]:\n",
        "        li.append(L[i])\n",
        "    else:\n",
        "        while L[i] > li[j] and j < len(li)-1:\n",
        "            j += 1\n",
        "        li.insert(j, L[i])\n",
        "  return li\n",
        "\n",
        "L = [74,32,89,55,21,64]\n",
        "InsertionSort(L)"
      ],
      "metadata": {
        "colab": {
          "base_uri": "https://localhost:8080/"
        },
        "id": "v8AJwCOwsFpK",
        "outputId": "7c568b2d-63d9-433d-e410-00bd73365f4b"
      },
      "execution_count": 24,
      "outputs": [
        {
          "output_type": "execute_result",
          "data": {
            "text/plain": [
              "[21, 32, 55, 64, 74, 89]"
            ]
          },
          "metadata": {},
          "execution_count": 24
        }
      ]
    },
    {
      "cell_type": "code",
      "execution_count": 23,
      "metadata": {
        "colab": {
          "base_uri": "https://localhost:8080/"
        },
        "id": "BAxTCR5louuM",
        "outputId": "2a042cbb-13c0-41e4-cd6a-f2489ff16afe"
      },
      "outputs": [
        {
          "output_type": "execute_result",
          "data": {
            "text/plain": [
              "[21, 32, 55, 64, 74, 89]"
            ]
          },
          "metadata": {},
          "execution_count": 23
        }
      ],
      "source": [
        "#insertion sort without creating new list\n",
        "\n",
        "def InsertionSort(L):\n",
        "  n = len(L)\n",
        "  if n < 1:\n",
        "    return(L)\n",
        "  for i in range(1, n):\n",
        "    j = i\n",
        "    while j > 0 and L[j] < L[j-1]:\n",
        "      L[j], L[j-1] = L[j-1], L[j]\n",
        "      j -= 1\n",
        "  return L\n",
        "\n",
        "L = [74,32,89,55,21,64]\n",
        "InsertionSort(L)"
      ]
    },
    {
      "cell_type": "code",
      "source": [
        "#insertion sort through recursion\n",
        "#it produces new list without disturbing original one\n",
        "\n",
        "def Insert(L,v):\n",
        "  n = len(L)\n",
        "  if n == 0:\n",
        "    return [v]\n",
        "  if v >= L[-1]:\n",
        "    return L+[v]\n",
        "  else:\n",
        "    return Insert(L[:-1],v) + L[-1:]\n",
        "\n",
        "def ISort(L):\n",
        "  n = len(L)\n",
        "  if n <= 1:\n",
        "    return L\n",
        "  L = Insert(ISort(L[:-1]), L[-1])\n",
        "  return(L)\n",
        "\n",
        "L = [74,32,89,55,21,64]\n",
        "ISort(L)"
      ],
      "metadata": {
        "colab": {
          "base_uri": "https://localhost:8080/"
        },
        "id": "bBMXdR9O5c-4",
        "outputId": "a3c2e5dd-89f3-4606-a57a-2be544d6140f"
      },
      "execution_count": 26,
      "outputs": [
        {
          "output_type": "execute_result",
          "data": {
            "text/plain": [
              "[21, 32, 55, 64, 74, 89]"
            ]
          },
          "metadata": {},
          "execution_count": 26
        }
      ]
    },
    {
      "cell_type": "code",
      "source": [
        ""
      ],
      "metadata": {
        "id": "qRY4bxRL6w2v"
      },
      "execution_count": null,
      "outputs": []
    }
  ]
}