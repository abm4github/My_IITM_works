{
  "nbformat": 4,
  "nbformat_minor": 0,
  "metadata": {
    "colab": {
      "provenance": [],
      "collapsed_sections": [],
      "authorship_tag": "ABX9TyN3KoD+UjG1a+lyiIHm50/i",
      "include_colab_link": true
    },
    "kernelspec": {
      "name": "python3",
      "display_name": "Python 3"
    },
    "language_info": {
      "name": "python"
    }
  },
  "cells": [
    {
      "cell_type": "markdown",
      "metadata": {
        "id": "view-in-github",
        "colab_type": "text"
      },
      "source": [
        "<a href=\"https://colab.research.google.com/github/abm4github/My_IITM_works/blob/main/IITM_PDSA_Using_Python.ipynb\" target=\"_parent\"><img src=\"https://colab.research.google.com/assets/colab-badge.svg\" alt=\"Open In Colab\"/></a>"
      ]
    },
    {
      "cell_type": "markdown",
      "source": [
        "#Programming Data Structures and Algorithms"
      ],
      "metadata": {
        "id": "hOtqLD7Qo2zN"
      }
    },
    {
      "cell_type": "markdown",
      "source": [
        "##Week 1"
      ],
      "metadata": {
        "id": "dQuRYkAJpGVE"
      }
    },
    {
      "cell_type": "markdown",
      "source": [
        "###Computing gcd\n",
        "gcd stands for '**greatest common divisor**' which is a largest number that can divide all the given numbers"
      ],
      "metadata": {
        "id": "PzYCF9pBu0ve"
      }
    },
    {
      "cell_type": "code",
      "source": [
        "def gcd(m,n):\n",
        "  cf = []\n",
        "  for i in range(1, min(m,n)+1):  # In range(a,b), a is inclusive but b is NOT inclusive\n",
        "    if m%i == 0 and n%i == 0:\n",
        "      cf.append(i) \n",
        "  return(cf[-1])\n",
        "  # alternatively return(cf[len(cf)-1])\n",
        "\n",
        "\n",
        "gcd(21, 42)"
      ],
      "metadata": {
        "colab": {
          "base_uri": "https://localhost:8080/"
        },
        "id": "mhy_GWwluz47",
        "outputId": "0f92617a-630c-405c-8b2c-18eaf5e195c8"
      },
      "execution_count": null,
      "outputs": [
        {
          "output_type": "execute_result",
          "data": {
            "text/plain": [
              "21"
            ]
          },
          "metadata": {},
          "execution_count": 1
        }
      ]
    },
    {
      "cell_type": "code",
      "source": [
        "def gcd(m,n):\n",
        "  for i in range(1, min(m,n)+1):\n",
        "    if m%i == 0 and n%i == 0:\n",
        "      mostRecent_cf = i\n",
        "  return(mostRecent_cf)\n",
        "\n",
        "\n",
        "gcd(21, 42)"
      ],
      "metadata": {
        "id": "18gegv9cpJvk",
        "colab": {
          "base_uri": "https://localhost:8080/"
        },
        "outputId": "ac444e86-855c-42d4-aa70-a722ee0ce8cf"
      },
      "execution_count": null,
      "outputs": [
        {
          "output_type": "execute_result",
          "data": {
            "text/plain": [
              "21"
            ]
          },
          "metadata": {},
          "execution_count": 2
        }
      ]
    },
    {
      "cell_type": "code",
      "source": [
        "# note1: The above two codes take time proportional to min(m,n), it has scope for improvement\n",
        "# note2: Efficiency is based on worst cases"
      ],
      "metadata": {
        "id": "TKd0nwRDybDJ"
      },
      "execution_count": null,
      "outputs": []
    },
    {
      "cell_type": "markdown",
      "source": [
        "###Checking primality\n",
        "A number is said to be prime, if it has exactly **two** factors, 1 and itself"
      ],
      "metadata": {
        "id": "BM0Dmc6H1K1f"
      }
    },
    {
      "cell_type": "code",
      "source": [
        "def factors(n):\n",
        "  factors_list = []\n",
        "  for i in range(1,n+1):\n",
        "    if n % i == 0:\n",
        "      factors_list.append(i)\n",
        "  return factors_list\n",
        "\n",
        "def prime(n):\n",
        "  return(factors(n) == [1,n])   # its output would be either True or False \n",
        "  # above line of code makes use of function/definition called factors\n",
        "\n",
        "prime(1)"
      ],
      "metadata": {
        "colab": {
          "base_uri": "https://localhost:8080/"
        },
        "id": "JDqbB5TE1WLt",
        "outputId": "a7fb7768-3476-4cfb-e432-8e5c62d2ebbb"
      },
      "execution_count": null,
      "outputs": [
        {
          "output_type": "execute_result",
          "data": {
            "text/plain": [
              "False"
            ]
          },
          "metadata": {},
          "execution_count": 11
        }
      ]
    },
    {
      "cell_type": "code",
      "source": [
        "# note: 1 is neither prime (as it has no two factors namely 1 and itsef) nor \n",
        "# composite (as it has not got more than two factors)"
      ],
      "metadata": {
        "id": "tN1fg0vz1V0H"
      },
      "execution_count": null,
      "outputs": []
    },
    {
      "cell_type": "markdown",
      "source": [
        "###Counting primes / finding primes"
      ],
      "metadata": {
        "id": "P5dIzkB-6biF"
      }
    },
    {
      "cell_type": "code",
      "source": [
        "# counting/finding primes upto a given number\n",
        "\n",
        "def primesupto(m):\n",
        "  pl = []\n",
        "  for i in range(1, m+1):\n",
        "    if prime(i):\n",
        "      pl.append(i)\n",
        "  return(pl)   # This returns a list comprising even numbers upto given number\n",
        "  # if we want the count of those even numbers we use, return(len(pl))\n",
        "\n",
        "\n",
        "primesupto(17)"
      ],
      "metadata": {
        "colab": {
          "base_uri": "https://localhost:8080/"
        },
        "id": "ZLkSni_T6hjO",
        "outputId": "5df7ceb8-9fa1-47bf-b76c-b500eb2b8567"
      },
      "execution_count": null,
      "outputs": [
        {
          "output_type": "execute_result",
          "data": {
            "text/plain": [
              "[2, 3, 5, 7, 11, 13, 17]"
            ]
          },
          "metadata": {},
          "execution_count": 16
        }
      ]
    },
    {
      "cell_type": "code",
      "source": [
        "#  finding first 'given number' of prime numbers\n",
        "\n",
        "def firstprimes(m):\n",
        "  (count, i, pl) = (0, 1, [])  # here 3 variables are initiated in a single line\n",
        "  while count < m:\n",
        "    if prime(i):\n",
        "      (count, pl) = (count+1, pl + [i])\n",
        "    i += 1\n",
        "  return pl   # it return list of first 'given number' of prime numbers\n",
        "  # if we want the count of those even numbers we use, return(len(pl))\n",
        "\n",
        "\n",
        "firstprimes(17)"
      ],
      "metadata": {
        "colab": {
          "base_uri": "https://localhost:8080/"
        },
        "id": "XWcQBoy96hVQ",
        "outputId": "e7771712-1534-4402-f9b7-d98455ca2860"
      },
      "execution_count": null,
      "outputs": [
        {
          "output_type": "execute_result",
          "data": {
            "text/plain": [
              "[2, 3, 5, 7, 11, 13, 17, 19, 23, 29, 31, 37, 41, 43, 47, 53, 59]"
            ]
          },
          "metadata": {},
          "execution_count": 19
        }
      ]
    },
    {
      "cell_type": "code",
      "source": [
        "# while vs for loop:\n",
        "# this needs to be completed"
      ],
      "metadata": {
        "id": "kIxwXMdC_eTF"
      },
      "execution_count": null,
      "outputs": []
    },
    {
      "cell_type": "code",
      "source": [
        "# error\n",
        "def prime(n):\n",
        "  result = True\n",
        "  for i in range(2,n):\n",
        "    if n%i == 0:\n",
        "      result = False\n",
        "      break   # terminates the loop\n",
        "  return(result)\n",
        "\n",
        "# alternate:\n",
        "# def prime(n):\n",
        "#   for i in range(2,n):\n",
        "#     if n%i == 0:\n",
        "#       return False\n",
        "#   return True\n",
        "\n",
        "\n",
        "prime(1)   # but 1 is not a prime number "
      ],
      "metadata": {
        "colab": {
          "base_uri": "https://localhost:8080/"
        },
        "id": "GegCUK7fBzVJ",
        "outputId": "ba376b57-ceaf-44e4-9ad9-eabd962d5410"
      },
      "execution_count": null,
      "outputs": [
        {
          "output_type": "execute_result",
          "data": {
            "text/plain": [
              "True"
            ]
          },
          "metadata": {},
          "execution_count": 28
        }
      ]
    },
    {
      "cell_type": "code",
      "source": [
        "# 2 errors\n",
        "# the following code considers 1 and 4 as primes\n",
        "\n",
        "import math\n",
        "def prime(n):\n",
        "  result,i = True, 2\n",
        "  while result and i < math.sqrt(n):\n",
        "    if n%i == 0:\n",
        "      result = False\n",
        "    i = i+1\n",
        "  return result\n",
        "\n",
        "\n",
        "prime(4)   # but 1 is not a prime number"
      ],
      "metadata": {
        "colab": {
          "base_uri": "https://localhost:8080/"
        },
        "id": "JmlIUWiCBzGP",
        "outputId": "f452a895-fd53-4461-937b-7e75c2d36ce1"
      },
      "execution_count": 18,
      "outputs": [
        {
          "output_type": "execute_result",
          "data": {
            "text/plain": [
              "True"
            ]
          },
          "metadata": {},
          "execution_count": 18
        }
      ]
    },
    {
      "cell_type": "code",
      "source": [
        "# correction to above\n",
        "# code to find if the given number is prime or not\n",
        "\n",
        "def prime(n):\n",
        "  if n < 2:\n",
        "    return False\n",
        "  result,i = True, 2\n",
        "  while result and i < n**(1/2)+1:\n",
        "    if n%i == 0:\n",
        "      result = False\n",
        "    i = i+1\n",
        "  return result\n",
        "\n",
        "\n",
        "prime(4)"
      ],
      "metadata": {
        "colab": {
          "base_uri": "https://localhost:8080/"
        },
        "id": "D2Pwwcavu30U",
        "outputId": "d1553cba-2c41-4d39-fc73-2074fd422497"
      },
      "execution_count": 24,
      "outputs": [
        {
          "output_type": "execute_result",
          "data": {
            "text/plain": [
              "False"
            ]
          },
          "metadata": {},
          "execution_count": 24
        }
      ]
    },
    {
      "cell_type": "code",
      "source": [
        "# code to observe, frequencies of difference between any two consecutive primes\n",
        "\n",
        "def prime_diffs(n):\n",
        "  last_prime = 2\n",
        "  prime_diff_freq = {}\n",
        "  for i in range(3,n+1):\n",
        "    if prime(i):\n",
        "      diff = i - last_prime\n",
        "      last_prime = i\n",
        "      if diff in prime_diff_freq.keys():\n",
        "        prime_diff_freq[diff] += 1\n",
        "      else:\n",
        "        prime_diff_freq[diff] = 1\n",
        "  return prime_diff_freq\n",
        "\n",
        "prime_diffs(1000)"
      ],
      "metadata": {
        "colab": {
          "base_uri": "https://localhost:8080/"
        },
        "id": "pIxAUDnzmoxy",
        "outputId": "8fc65434-fb14-4b3a-8869-8be3e939c784"
      },
      "execution_count": 32,
      "outputs": [
        {
          "output_type": "execute_result",
          "data": {
            "text/plain": [
              "{1: 1, 2: 35, 4: 40, 6: 44, 8: 15, 14: 7, 10: 16, 12: 7, 18: 1, 20: 1}"
            ]
          },
          "metadata": {},
          "execution_count": 32
        }
      ]
    },
    {
      "cell_type": "code",
      "source": [
        "# Assignment\n",
        "# code to find twin primes and their count\n",
        "\n",
        "\n",
        "def twin_primes(n):\n",
        "  countt = 0\n",
        "  last_prime = 2\n",
        "  twin_primes = []\n",
        "  for i in range(3,n+1):\n",
        "    if prime(i):\n",
        "      if i - last_prime == 2:\n",
        "        twin_primes.append((last_prime, i))\n",
        "        countt += 1\n",
        "      last_prime = i\n",
        "  return twin_primes, countt\n",
        "\n",
        "\n",
        "twin_primes(100)  "
      ],
      "metadata": {
        "colab": {
          "base_uri": "https://localhost:8080/"
        },
        "id": "uYTRlriY1xN8",
        "outputId": "0a24633e-12bc-45ba-ad70-f28db2666789"
      },
      "execution_count": 39,
      "outputs": [
        {
          "output_type": "execute_result",
          "data": {
            "text/plain": [
              "([(3, 5), (5, 7), (11, 13), (17, 19), (29, 31), (41, 43), (59, 61), (71, 73)],\n",
              " 8)"
            ]
          },
          "metadata": {},
          "execution_count": 39
        }
      ]
    },
    {
      "cell_type": "markdown",
      "source": [
        "##Week 2"
      ],
      "metadata": {
        "id": "Rid2RsdspKgS"
      }
    },
    {
      "cell_type": "markdown",
      "source": [
        "Insertion Sort"
      ],
      "metadata": {
        "id": "N5wgpenwpPf6"
      }
    },
    {
      "cell_type": "code",
      "source": [
        "#insertion sort by creating new list\n",
        "\n",
        "def InsertionSort(L):\n",
        "  li = [L[0]]\n",
        "  for i in range(1, len(L)):\n",
        "    j = 0\n",
        "    if L[i] > li[-1]:\n",
        "        li.append(L[i])\n",
        "    else:\n",
        "        while L[i] > li[j] and j < len(li)-1:\n",
        "            j += 1\n",
        "        li.insert(j, L[i])\n",
        "  return li\n",
        "\n",
        "L = [74,32,89,55,21,64]\n",
        "InsertionSort(L)"
      ],
      "metadata": {
        "colab": {
          "base_uri": "https://localhost:8080/"
        },
        "id": "v8AJwCOwsFpK",
        "outputId": "7c568b2d-63d9-433d-e410-00bd73365f4b"
      },
      "execution_count": null,
      "outputs": [
        {
          "output_type": "execute_result",
          "data": {
            "text/plain": [
              "[21, 32, 55, 64, 74, 89]"
            ]
          },
          "metadata": {},
          "execution_count": 24
        }
      ]
    },
    {
      "cell_type": "code",
      "execution_count": null,
      "metadata": {
        "colab": {
          "base_uri": "https://localhost:8080/"
        },
        "id": "BAxTCR5louuM",
        "outputId": "2a042cbb-13c0-41e4-cd6a-f2489ff16afe"
      },
      "outputs": [
        {
          "output_type": "execute_result",
          "data": {
            "text/plain": [
              "[21, 32, 55, 64, 74, 89]"
            ]
          },
          "metadata": {},
          "execution_count": 23
        }
      ],
      "source": [
        "#insertion sort without creating new list\n",
        "\n",
        "def InsertionSort(L):\n",
        "  n = len(L)\n",
        "  if n < 1:\n",
        "    return(L)\n",
        "  for i in range(1, n):\n",
        "    j = i\n",
        "    while j > 0 and L[j] < L[j-1]:\n",
        "      L[j], L[j-1] = L[j-1], L[j]\n",
        "      j -= 1\n",
        "  return L\n",
        "\n",
        "L = [74,32,89,55,21,64]\n",
        "InsertionSort(L)"
      ]
    },
    {
      "cell_type": "code",
      "source": [
        "#insertion sort through recursion\n",
        "#it produces new list without disturbing original one\n",
        "\n",
        "def Insert(L,v):\n",
        "  n = len(L)\n",
        "  if n == 0:\n",
        "    return [v]\n",
        "  if v >= L[-1]:\n",
        "    return L+[v]\n",
        "  else:\n",
        "    return Insert(L[:-1],v) + L[-1:]\n",
        "\n",
        "def ISort(L):\n",
        "  n = len(L)\n",
        "  if n <= 1:\n",
        "    return L\n",
        "  L = Insert(ISort(L[:-1]), L[-1])\n",
        "  return(L)\n",
        "\n",
        "L = [74,32,89,55,21,64]\n",
        "ISort(L)"
      ],
      "metadata": {
        "colab": {
          "base_uri": "https://localhost:8080/"
        },
        "id": "bBMXdR9O5c-4",
        "outputId": "a3c2e5dd-89f3-4606-a57a-2be544d6140f"
      },
      "execution_count": null,
      "outputs": [
        {
          "output_type": "execute_result",
          "data": {
            "text/plain": [
              "[21, 32, 55, 64, 74, 89]"
            ]
          },
          "metadata": {},
          "execution_count": 26
        }
      ]
    },
    {
      "cell_type": "markdown",
      "source": [
        "Merge Sort"
      ],
      "metadata": {
        "id": "dw0hl1yyIHRK"
      }
    },
    {
      "cell_type": "code",
      "source": [
        "def Merge(L1,L2):\n",
        "  i, j = 0, 0\n",
        "  ans = []\n",
        "  while L1[i:] != [] and L2[j:] != []:\n",
        "    if L1[i] < L2[j]:\n",
        "      ans.append(L1[i])\n",
        "      i += 1\n",
        "    elif L1[i] > L2[j]:\n",
        "      ans.append(L2[j])\n",
        "      j += 1\n",
        "    else:\n",
        "      ans.append(L1[i])\n",
        "      ans.append(L2[j])\n",
        "      i += 1\n",
        "      j += 1\n",
        "  if  L1[i:] == []:\n",
        "    ans += L2[j:]  \n",
        "  elif L2[j:] == []:\n",
        "    ans += L1[i:]\n",
        "  return ans \n",
        "\n",
        "def MergeSort(L):\n",
        "  n = len(L)\n",
        "  if n <= 1:\n",
        "    return L\n",
        "  l = MergeSort(L[:n//2])\n",
        "  r = MergeSort(L[n//2:])\n",
        "\n",
        "  ans  = Merge(l,r)\n",
        "  return ans"
      ],
      "metadata": {
        "id": "qRY4bxRL6w2v"
      },
      "execution_count": null,
      "outputs": []
    },
    {
      "cell_type": "code",
      "source": [
        "L1 = [1,3,5,7]\n",
        "L2 = [0,2,3,4,6,8]\n",
        "\n",
        "Merge(L1,L2)"
      ],
      "metadata": {
        "colab": {
          "base_uri": "https://localhost:8080/"
        },
        "id": "Rk3Y-wTALT-B",
        "outputId": "6000dbf1-f791-4a6e-c544-91696604caf6"
      },
      "execution_count": null,
      "outputs": [
        {
          "output_type": "execute_result",
          "data": {
            "text/plain": [
              "[0, 1, 2, 3, 3, 4, 5, 6, 7, 8]"
            ]
          },
          "metadata": {},
          "execution_count": 16
        }
      ]
    },
    {
      "cell_type": "code",
      "source": [
        "L = [0,9,8,7,1,2,3,0,2,8,1,7,3,0]\n",
        "MergeSort(L)"
      ],
      "metadata": {
        "colab": {
          "base_uri": "https://localhost:8080/"
        },
        "id": "jLZQb1DPLecY",
        "outputId": "edfd149a-8a7b-4447-9c95-c3c3f2850e94"
      },
      "execution_count": null,
      "outputs": [
        {
          "output_type": "execute_result",
          "data": {
            "text/plain": [
              "[0, 0, 0, 1, 1, 2, 2, 3, 3, 7, 7, 8, 8, 9]"
            ]
          },
          "metadata": {},
          "execution_count": 17
        }
      ]
    },
    {
      "cell_type": "code",
      "source": [],
      "metadata": {
        "id": "kKkNbwTSOsd9"
      },
      "execution_count": null,
      "outputs": []
    }
  ]
}