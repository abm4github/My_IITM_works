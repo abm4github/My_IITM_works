{
  "nbformat": 4,
  "nbformat_minor": 0,
  "metadata": {
    "colab": {
      "name": "IITM_Python_File_Handling and_Functional_Programming.ipynb",
      "provenance": [],
      "collapsed_sections": [],
      "mount_file_id": "187UfGqQQZm1H-Yge2BdUm0BmC1EJXsu2",
      "authorship_tag": "ABX9TyNSb4mY+KRKLq7C38KSPq9C",
      "include_colab_link": true
    },
    "kernelspec": {
      "name": "python3",
      "display_name": "Python 3"
    },
    "language_info": {
      "name": "python"
    }
  },
  "cells": [
    {
      "cell_type": "markdown",
      "metadata": {
        "id": "view-in-github",
        "colab_type": "text"
      },
      "source": [
        "<a href=\"https://colab.research.google.com/github/abm4github/My_IITM_works/blob/main/IITM_Python_File_Handling_and_Functional_Programming.ipynb\" target=\"_parent\"><img src=\"https://colab.research.google.com/assets/colab-badge.svg\" alt=\"Open In Colab\"/></a>"
      ]
    },
    {
      "cell_type": "markdown",
      "source": [
        "## File Handling"
      ],
      "metadata": {
        "id": "cu7YTKk97hYy"
      }
    },
    {
      "cell_type": "markdown",
      "source": [
        "File writing starts from here"
      ],
      "metadata": {
        "id": "qNUMddsu5Dd8"
      }
    },
    {
      "cell_type": "code",
      "source": [
        "f = open('mytext.txt', 'w')"
      ],
      "metadata": {
        "id": "Fsb3UCB9PZSk"
      },
      "execution_count": 1,
      "outputs": []
    },
    {
      "cell_type": "code",
      "source": [
        "f.write('Hi Folks,') # no space provided after h"
      ],
      "metadata": {
        "colab": {
          "base_uri": "https://localhost:8080/"
        },
        "id": "96DYrgiaP32N",
        "outputId": "f3270734-f6a0-4967-cfec-0a01eea763b9"
      },
      "execution_count": 2,
      "outputs": [
        {
          "output_type": "execute_result",
          "data": {
            "text/plain": [
              "9"
            ]
          },
          "metadata": {},
          "execution_count": 2
        }
      ]
    },
    {
      "cell_type": "code",
      "source": [
        "f.write('How') # space provided after T"
      ],
      "metadata": {
        "colab": {
          "base_uri": "https://localhost:8080/"
        },
        "id": "7S1uJxFRP8zl",
        "outputId": "ad65bfea-b88e-48ab-a9ca-7bc06141f34c"
      },
      "execution_count": 3,
      "outputs": [
        {
          "output_type": "execute_result",
          "data": {
            "text/plain": [
              "3"
            ]
          },
          "metadata": {},
          "execution_count": 3
        }
      ]
    },
    {
      "cell_type": "code",
      "source": [
        "f.write('are')"
      ],
      "metadata": {
        "colab": {
          "base_uri": "https://localhost:8080/"
        },
        "id": "zyyTdZI7QCQh",
        "outputId": "39771415-bf69-4803-8692-ed48c8052ee7"
      },
      "execution_count": 4,
      "outputs": [
        {
          "output_type": "execute_result",
          "data": {
            "text/plain": [
              "3"
            ]
          },
          "metadata": {},
          "execution_count": 4
        }
      ]
    },
    {
      "cell_type": "code",
      "source": [
        "f.write('you')"
      ],
      "metadata": {
        "colab": {
          "base_uri": "https://localhost:8080/"
        },
        "id": "khxZLhutQIHY",
        "outputId": "cd010d40-e98a-489c-d5c8-10686e6ef184"
      },
      "execution_count": 5,
      "outputs": [
        {
          "output_type": "execute_result",
          "data": {
            "text/plain": [
              "3"
            ]
          },
          "metadata": {},
          "execution_count": 5
        }
      ]
    },
    {
      "cell_type": "code",
      "source": [
        "f.write('all?\\n') #note adding \\n to move to a next line"
      ],
      "metadata": {
        "colab": {
          "base_uri": "https://localhost:8080/"
        },
        "id": "xk2BrAlx69Jy",
        "outputId": "761a973d-1aa1-44f7-fba7-d275743e2b74"
      },
      "execution_count": 6,
      "outputs": [
        {
          "output_type": "execute_result",
          "data": {
            "text/plain": [
              "5"
            ]
          },
          "metadata": {},
          "execution_count": 6
        }
      ]
    },
    {
      "cell_type": "code",
      "source": [
        "f.write(\"Hi Folks, \") # same thing again with spaces"
      ],
      "metadata": {
        "colab": {
          "base_uri": "https://localhost:8080/"
        },
        "id": "mbqRU-e2a9iq",
        "outputId": "66c72f55-cbaa-4b55-b93a-d5457dc95ee1"
      },
      "execution_count": 7,
      "outputs": [
        {
          "output_type": "execute_result",
          "data": {
            "text/plain": [
              "10"
            ]
          },
          "metadata": {},
          "execution_count": 7
        }
      ]
    },
    {
      "cell_type": "code",
      "source": [
        "f.write(\"How \")"
      ],
      "metadata": {
        "colab": {
          "base_uri": "https://localhost:8080/"
        },
        "id": "qO182TEy7GWc",
        "outputId": "424a3735-e124-4172-9886-04639ff4ba4d"
      },
      "execution_count": 8,
      "outputs": [
        {
          "output_type": "execute_result",
          "data": {
            "text/plain": [
              "4"
            ]
          },
          "metadata": {},
          "execution_count": 8
        }
      ]
    },
    {
      "cell_type": "code",
      "source": [
        "f.write(\"are \")"
      ],
      "metadata": {
        "colab": {
          "base_uri": "https://localhost:8080/"
        },
        "id": "yHt_9Ksi7GGU",
        "outputId": "7bb03391-fa02-402f-f7e5-a986876a45dd"
      },
      "execution_count": 9,
      "outputs": [
        {
          "output_type": "execute_result",
          "data": {
            "text/plain": [
              "4"
            ]
          },
          "metadata": {},
          "execution_count": 9
        }
      ]
    },
    {
      "cell_type": "code",
      "source": [
        "f.write(\"you \")"
      ],
      "metadata": {
        "colab": {
          "base_uri": "https://localhost:8080/"
        },
        "id": "F7MpjHA_7GDF",
        "outputId": "b7b3558e-37c5-43f0-ad25-56b9c1187f0d"
      },
      "execution_count": 10,
      "outputs": [
        {
          "output_type": "execute_result",
          "data": {
            "text/plain": [
              "4"
            ]
          },
          "metadata": {},
          "execution_count": 10
        }
      ]
    },
    {
      "cell_type": "code",
      "source": [
        "f.write(\"all?\\n\")"
      ],
      "metadata": {
        "colab": {
          "base_uri": "https://localhost:8080/"
        },
        "id": "TOJHglaW7GBe",
        "outputId": "05e9e3c1-72c9-47ad-ef84-8ee1602672fc"
      },
      "execution_count": 11,
      "outputs": [
        {
          "output_type": "execute_result",
          "data": {
            "text/plain": [
              "5"
            ]
          },
          "metadata": {},
          "execution_count": 11
        }
      ]
    },
    {
      "cell_type": "code",
      "source": [
        "f.write(\"Line 3\\n\")"
      ],
      "metadata": {
        "colab": {
          "base_uri": "https://localhost:8080/"
        },
        "id": "RFwjPxvTa9fQ",
        "outputId": "90e6326f-9bb3-4e48-d6d7-e37ba4ae8a50"
      },
      "execution_count": 12,
      "outputs": [
        {
          "output_type": "execute_result",
          "data": {
            "text/plain": [
              "7"
            ]
          },
          "metadata": {},
          "execution_count": 12
        }
      ]
    },
    {
      "cell_type": "code",
      "source": [
        "f.write(\"Line 4\\n\")"
      ],
      "metadata": {
        "colab": {
          "base_uri": "https://localhost:8080/"
        },
        "id": "NEkdq4ATa9cy",
        "outputId": "9879b8ef-e2c4-47e1-819c-0ba0be4aebf5"
      },
      "execution_count": 13,
      "outputs": [
        {
          "output_type": "execute_result",
          "data": {
            "text/plain": [
              "7"
            ]
          },
          "metadata": {},
          "execution_count": 13
        }
      ]
    },
    {
      "cell_type": "code",
      "source": [
        "f.write(\"Line 5\\n\")"
      ],
      "metadata": {
        "colab": {
          "base_uri": "https://localhost:8080/"
        },
        "id": "oW8uoLVJbHVO",
        "outputId": "00f4a055-bdd6-48a6-9c6d-edf88838ce94"
      },
      "execution_count": 14,
      "outputs": [
        {
          "output_type": "execute_result",
          "data": {
            "text/plain": [
              "7"
            ]
          },
          "metadata": {},
          "execution_count": 14
        }
      ]
    },
    {
      "cell_type": "code",
      "source": [
        "f.write('0')"
      ],
      "metadata": {
        "colab": {
          "base_uri": "https://localhost:8080/"
        },
        "id": "XMtFeHjTgmU_",
        "outputId": "20f24937-6a2a-4e5e-ed24-a35008ba01bc"
      },
      "execution_count": 15,
      "outputs": [
        {
          "output_type": "execute_result",
          "data": {
            "text/plain": [
              "1"
            ]
          },
          "metadata": {},
          "execution_count": 15
        }
      ]
    },
    {
      "cell_type": "code",
      "source": [
        "f.close()"
      ],
      "metadata": {
        "id": "_9TOXJ8EQNMD"
      },
      "execution_count": 16,
      "outputs": []
    },
    {
      "cell_type": "markdown",
      "source": [
        "file reading starts from here"
      ],
      "metadata": {
        "id": "dfZ-KuzJ47LN"
      }
    },
    {
      "cell_type": "code",
      "source": [
        "x = open('mytext.txt', 'r')"
      ],
      "metadata": {
        "id": "C6Vb7e6lQOmj"
      },
      "execution_count": 17,
      "outputs": []
    },
    {
      "cell_type": "code",
      "source": [
        "x.seek(0)\n",
        "for line in x:\n",
        "  print(line)\n",
        "x.tell()     \n",
        "\n",
        "# here is a space between any two lines due to the fact that \n",
        "# while we write in file, we end or start lines with \\n in order to have them written in a new line"
      ],
      "metadata": {
        "colab": {
          "base_uri": "https://localhost:8080/"
        },
        "id": "3d7vMKwK2vfm",
        "outputId": "9816b220-2526-443f-874d-4dd16fc68891"
      },
      "execution_count": 18,
      "outputs": [
        {
          "output_type": "stream",
          "name": "stdout",
          "text": [
            "Hi Folks,Howareyouall?\n",
            "\n",
            "Hi Folks, How are you all?\n",
            "\n",
            "Line 3\n",
            "\n",
            "Line 4\n",
            "\n",
            "Line 5\n",
            "\n",
            "0\n"
          ]
        },
        {
          "output_type": "execute_result",
          "data": {
            "text/plain": [
              "72"
            ]
          },
          "metadata": {},
          "execution_count": 18
        }
      ]
    },
    {
      "cell_type": "code",
      "source": [
        "#In order to avoid same i am printing as follows\n",
        "x.seek(0)\n",
        "for line in x:\n",
        "  print(line[:-1]) # the difference is in this line\n",
        "x.tell()           # IMPORTANT: here 0 of last line is missing"
      ],
      "metadata": {
        "colab": {
          "base_uri": "https://localhost:8080/"
        },
        "id": "Fi_diA730IsA",
        "outputId": "bfa13d0b-ccc7-4e71-a631-531b2838d8ea"
      },
      "execution_count": 19,
      "outputs": [
        {
          "output_type": "stream",
          "name": "stdout",
          "text": [
            "Hi Folks,Howareyouall?\n",
            "Hi Folks, How are you all?\n",
            "Line 3\n",
            "Line 4\n",
            "Line 5\n",
            "\n"
          ]
        },
        {
          "output_type": "execute_result",
          "data": {
            "text/plain": [
              "72"
            ]
          },
          "metadata": {},
          "execution_count": 19
        }
      ]
    },
    {
      "cell_type": "code",
      "source": [
        "#In order to avoid same i am printing as follows\n",
        "x.seek(0)\n",
        "for line in x:\n",
        "  if len(line)>1:\n",
        "    print(line[:-1]) \n",
        "  else:\n",
        "    print(line)     #now its perfect"
      ],
      "metadata": {
        "colab": {
          "base_uri": "https://localhost:8080/"
        },
        "outputId": "4ad2c0e0-6875-4c9f-f486-a12ff65ff88f",
        "id": "2PlQyI7R4R6f"
      },
      "execution_count": 20,
      "outputs": [
        {
          "output_type": "stream",
          "name": "stdout",
          "text": [
            "Hi Folks,Howareyouall?\n",
            "Hi Folks, How are you all?\n",
            "Line 3\n",
            "Line 4\n",
            "Line 5\n",
            "0\n"
          ]
        }
      ]
    },
    {
      "cell_type": "code",
      "source": [
        "x.seek(0)\n",
        "x.readlines()  \n",
        "# Note:this too prints all lines but all lines are enclosed in a list as strings"
      ],
      "metadata": {
        "colab": {
          "base_uri": "https://localhost:8080/"
        },
        "id": "h5Fne0ih4hfh",
        "outputId": "9ab7fb4e-278c-470e-ca8f-c9c63219a135"
      },
      "execution_count": 21,
      "outputs": [
        {
          "output_type": "execute_result",
          "data": {
            "text/plain": [
              "['Hi Folks,Howareyouall?\\n',\n",
              " 'Hi Folks, How are you all?\\n',\n",
              " 'Line 3\\n',\n",
              " 'Line 4\\n',\n",
              " 'Line 5\\n',\n",
              " '0']"
            ]
          },
          "metadata": {},
          "execution_count": 21
        }
      ]
    },
    {
      "cell_type": "code",
      "source": [
        "x.seek(0)\n",
        "print(x.readline(2))\n",
        "\n",
        "x.seek(3)\n",
        "print(x.readline(2))\n",
        "\n",
        "print(x.tell())\n",
        "print(x.readline(3))\n",
        "print(x.tell())"
      ],
      "metadata": {
        "colab": {
          "base_uri": "https://localhost:8080/"
        },
        "id": "_p18zU0-4cNg",
        "outputId": "3a2b915c-35ef-476e-ad76-1025cd25fa16"
      },
      "execution_count": 22,
      "outputs": [
        {
          "output_type": "stream",
          "name": "stdout",
          "text": [
            "Hi\n",
            "Fo\n",
            "5\n",
            "lks\n",
            "8\n"
          ]
        }
      ]
    },
    {
      "cell_type": "code",
      "source": [
        "type(x)"
      ],
      "metadata": {
        "colab": {
          "base_uri": "https://localhost:8080/"
        },
        "id": "vx4JUKHj5wlY",
        "outputId": "4e6140d0-fe83-436f-89ad-a1a7e0b54156"
      },
      "execution_count": 23,
      "outputs": [
        {
          "output_type": "execute_result",
          "data": {
            "text/plain": [
              "_io.TextIOWrapper"
            ]
          },
          "metadata": {},
          "execution_count": 23
        }
      ]
    },
    {
      "cell_type": "code",
      "source": [
        "x.seek(0)\n",
        "s = x.readline()\n",
        "print(s)\n",
        "print(type(s))"
      ],
      "metadata": {
        "id": "JelVhpfFQehF",
        "colab": {
          "base_uri": "https://localhost:8080/"
        },
        "outputId": "b6c0a8ff-aa7e-4832-a78e-0da84ea83e21"
      },
      "execution_count": 24,
      "outputs": [
        {
          "output_type": "stream",
          "name": "stdout",
          "text": [
            "Hi Folks,Howareyouall?\n",
            "\n",
            "<class 'str'>\n"
          ]
        }
      ]
    },
    {
      "cell_type": "code",
      "source": [
        "x.seek(0)\n",
        "s = x.readlines()\n",
        "print(s)\n",
        "print(type(s))"
      ],
      "metadata": {
        "colab": {
          "base_uri": "https://localhost:8080/"
        },
        "id": "JEvWeJmc0GTk",
        "outputId": "e6b9f642-a57e-4e8a-e4f2-e93d836eb409"
      },
      "execution_count": 25,
      "outputs": [
        {
          "output_type": "stream",
          "name": "stdout",
          "text": [
            "['Hi Folks,Howareyouall?\\n', 'Hi Folks, How are you all?\\n', 'Line 3\\n', 'Line 4\\n', 'Line 5\\n', '0']\n",
            "<class 'list'>\n"
          ]
        }
      ]
    },
    {
      "cell_type": "code",
      "source": [
        "x.close()"
      ],
      "metadata": {
        "id": "0Uey2mqBQn2D"
      },
      "execution_count": 26,
      "outputs": []
    },
    {
      "cell_type": "code",
      "source": [
        "f  = open('textfile.txt', 'w')\n",
        "f.write('Abdullah')\n",
        "f.write('Bin')\n",
        "f.write('Mohammed')\n",
        "f.write('is')\n",
        "f.write('an')\n",
        "f.write('iitian')\n",
        "f.close()"
      ],
      "metadata": {
        "id": "C_U79KW7wnhN"
      },
      "execution_count": 27,
      "outputs": []
    },
    {
      "cell_type": "code",
      "source": [
        "f  = open('textfile.txt', 'r')\n",
        "l = f.readline()\n",
        "while l != '':\n",
        "  print(l)\n",
        "  l = f.readline()\n",
        "f.close()"
      ],
      "metadata": {
        "colab": {
          "base_uri": "https://localhost:8080/"
        },
        "id": "GWZ1KUFVxL3g",
        "outputId": "4f9d5157-8779-47f2-f72b-cf9f6548741e"
      },
      "execution_count": 28,
      "outputs": [
        {
          "output_type": "stream",
          "name": "stdout",
          "text": [
            "AbdullahBinMohammedisaniitian\n"
          ]
        }
      ]
    },
    {
      "cell_type": "code",
      "source": [
        "f  = open('textfile.txt', 'r')\n",
        "l = f.readline(2)\n",
        "while l != '':\n",
        "  print(l)\n",
        "  l = f.readline(2)\n",
        "f.close()"
      ],
      "metadata": {
        "colab": {
          "base_uri": "https://localhost:8080/"
        },
        "id": "9otoYdMnxwvK",
        "outputId": "a82e676a-ca19-47fc-d768-e804a1ff349a"
      },
      "execution_count": 29,
      "outputs": [
        {
          "output_type": "stream",
          "name": "stdout",
          "text": [
            "Ab\n",
            "du\n",
            "ll\n",
            "ah\n",
            "Bi\n",
            "nM\n",
            "oh\n",
            "am\n",
            "me\n",
            "di\n",
            "sa\n",
            "ni\n",
            "it\n",
            "ia\n",
            "n\n"
          ]
        }
      ]
    },
    {
      "cell_type": "code",
      "source": [
        "f  = open('textfile.txt', 'r')\n",
        "l = f.read()\n",
        "while l != '':\n",
        "  print(l)\n",
        "  l = f.read()\n",
        "f.close()"
      ],
      "metadata": {
        "colab": {
          "base_uri": "https://localhost:8080/"
        },
        "id": "eWVorPa0xpfR",
        "outputId": "142b1e20-839d-4da1-dc2c-b9a3d3c0b5dc"
      },
      "execution_count": 30,
      "outputs": [
        {
          "output_type": "stream",
          "name": "stdout",
          "text": [
            "AbdullahBinMohammedisaniitian\n"
          ]
        }
      ]
    },
    {
      "cell_type": "code",
      "source": [
        "f  = open('textfile.txt', 'r')\n",
        "l = f.read(2)\n",
        "while l != '':\n",
        "  print(l)\n",
        "  l = f.read(2)\n",
        "f.close()"
      ],
      "metadata": {
        "colab": {
          "base_uri": "https://localhost:8080/"
        },
        "id": "3ObRfrU_yPnj",
        "outputId": "12b3a568-8745-4196-b7e9-696ae0a6e238"
      },
      "execution_count": 31,
      "outputs": [
        {
          "output_type": "stream",
          "name": "stdout",
          "text": [
            "Ab\n",
            "du\n",
            "ll\n",
            "ah\n",
            "Bi\n",
            "nM\n",
            "oh\n",
            "am\n",
            "me\n",
            "di\n",
            "sa\n",
            "ni\n",
            "it\n",
            "ia\n",
            "n\n"
          ]
        }
      ]
    },
    {
      "cell_type": "code",
      "source": [
        "f  = open('textfile.txt', 'w')\n",
        "f.write('Abdullah ')\n",
        "f.write('Bin ')\n",
        "f.write('Mohammed ')\n",
        "f.write('is ')\n",
        "f.write('an ')\n",
        "f.write('iitian')\n",
        "f.close()"
      ],
      "metadata": {
        "id": "IivTXxWzzRGt"
      },
      "execution_count": 32,
      "outputs": []
    },
    {
      "cell_type": "code",
      "source": [
        "f  = open('textfile.txt', 'r')\n",
        "l = f.readline()\n",
        "while l != '':\n",
        "  print(l)\n",
        "  l = f.readline()\n",
        "f.close()"
      ],
      "metadata": {
        "colab": {
          "base_uri": "https://localhost:8080/"
        },
        "outputId": "8351a6d8-025f-441c-e458-5a72c19ce349",
        "id": "9elBB74fzRG0"
      },
      "execution_count": 33,
      "outputs": [
        {
          "output_type": "stream",
          "name": "stdout",
          "text": [
            "Abdullah Bin Mohammed is an iitian\n"
          ]
        }
      ]
    },
    {
      "cell_type": "code",
      "source": [
        "f  = open('textfile.txt', 'r')\n",
        "l = f.readline(2)\n",
        "while l != '':\n",
        "  print(l)\n",
        "  l = f.readline(2)\n",
        "f.close()"
      ],
      "metadata": {
        "colab": {
          "base_uri": "https://localhost:8080/"
        },
        "outputId": "3cb29be2-93f2-490c-fb4c-3858db3a34bf",
        "id": "hN4TmLVJzRG1"
      },
      "execution_count": 34,
      "outputs": [
        {
          "output_type": "stream",
          "name": "stdout",
          "text": [
            "Ab\n",
            "du\n",
            "ll\n",
            "ah\n",
            " B\n",
            "in\n",
            " M\n",
            "oh\n",
            "am\n",
            "me\n",
            "d \n",
            "is\n",
            " a\n",
            "n \n",
            "ii\n",
            "ti\n",
            "an\n"
          ]
        }
      ]
    },
    {
      "cell_type": "code",
      "source": [
        "f  = open('textfile.txt', 'r')\n",
        "l = f.read()\n",
        "while l != '':\n",
        "  print(l)\n",
        "  l = f.read()\n",
        "f.close()"
      ],
      "metadata": {
        "colab": {
          "base_uri": "https://localhost:8080/"
        },
        "outputId": "9ddfbea1-b248-4294-a3b6-635724b6e335",
        "id": "fMd9uXubzRG1"
      },
      "execution_count": 35,
      "outputs": [
        {
          "output_type": "stream",
          "name": "stdout",
          "text": [
            "Abdullah Bin Mohammed is an iitian\n"
          ]
        }
      ]
    },
    {
      "cell_type": "code",
      "source": [
        "f  = open('textfile.txt', 'r')\n",
        "l = f.read(2)\n",
        "while l != '':\n",
        "  print(l)\n",
        "  l = f.read(2)\n",
        "f.close()"
      ],
      "metadata": {
        "colab": {
          "base_uri": "https://localhost:8080/"
        },
        "outputId": "b6e71782-0442-4da3-f651-babfd8229c7d",
        "id": "C1oYfxHvzRG1"
      },
      "execution_count": 36,
      "outputs": [
        {
          "output_type": "stream",
          "name": "stdout",
          "text": [
            "Ab\n",
            "du\n",
            "ll\n",
            "ah\n",
            " B\n",
            "in\n",
            " M\n",
            "oh\n",
            "am\n",
            "me\n",
            "d \n",
            "is\n",
            " a\n",
            "n \n",
            "ii\n",
            "ti\n",
            "an\n"
          ]
        }
      ]
    },
    {
      "cell_type": "code",
      "source": [
        "f  = open('textfile.txt', 'w')\n",
        "f.write('Abdullah sir\\n')\n",
        "f.write('Bin\\n')\n",
        "f.write('Mohammed\\n')\n",
        "f.write('is\\n')\n",
        "f.write('an\\n')\n",
        "f.write('iitian')\n",
        "f.close()"
      ],
      "metadata": {
        "id": "bPYTBLTuxGET"
      },
      "execution_count": 37,
      "outputs": []
    },
    {
      "cell_type": "code",
      "source": [
        "f  = open('textfile.txt', 'r')\n",
        "l = f.readline()\n",
        "while l != '':\n",
        "  print(l)\n",
        "  l = f.readline()\n",
        "f.close()"
      ],
      "metadata": {
        "colab": {
          "base_uri": "https://localhost:8080/"
        },
        "id": "_X8kNd0IyV9B",
        "outputId": "d027f6bc-a3c2-48b8-dd90-841ab24ebc95"
      },
      "execution_count": 38,
      "outputs": [
        {
          "output_type": "stream",
          "name": "stdout",
          "text": [
            "Abdullah sir\n",
            "\n",
            "Bin\n",
            "\n",
            "Mohammed\n",
            "\n",
            "is\n",
            "\n",
            "an\n",
            "\n",
            "iitian\n"
          ]
        }
      ]
    },
    {
      "cell_type": "code",
      "source": [
        "f  = open('textfile.txt', 'r')\n",
        "l = f.readline(2)\n",
        "while l != '':\n",
        "  print(l)\n",
        "  l = f.readline(2)\n",
        "f.close()"
      ],
      "metadata": {
        "colab": {
          "base_uri": "https://localhost:8080/"
        },
        "id": "4VnvUY_qyV9C",
        "outputId": "63445a0b-f979-42a9-965b-cfb9f5f828e0"
      },
      "execution_count": 39,
      "outputs": [
        {
          "output_type": "stream",
          "name": "stdout",
          "text": [
            "Ab\n",
            "du\n",
            "ll\n",
            "ah\n",
            " s\n",
            "ir\n",
            "\n",
            "\n",
            "Bi\n",
            "n\n",
            "\n",
            "Mo\n",
            "ha\n",
            "mm\n",
            "ed\n",
            "\n",
            "\n",
            "is\n",
            "\n",
            "\n",
            "an\n",
            "\n",
            "\n",
            "ii\n",
            "ti\n",
            "an\n"
          ]
        }
      ]
    },
    {
      "cell_type": "code",
      "source": [
        "f  = open('textfile.txt', 'r')\n",
        "l = f.read()\n",
        "while l != '':\n",
        "  print(l)\n",
        "  l = f.read()\n",
        "f.close()"
      ],
      "metadata": {
        "colab": {
          "base_uri": "https://localhost:8080/"
        },
        "id": "tT8qihn6yV9C",
        "outputId": "fd81bd0a-13aa-4d79-ed1e-01e2eaa7ac6c"
      },
      "execution_count": 40,
      "outputs": [
        {
          "output_type": "stream",
          "name": "stdout",
          "text": [
            "Abdullah sir\n",
            "Bin\n",
            "Mohammed\n",
            "is\n",
            "an\n",
            "iitian\n"
          ]
        }
      ]
    },
    {
      "cell_type": "code",
      "source": [
        "f  = open('textfile.txt', 'r')\n",
        "l = f.read(2)\n",
        "while l != '':\n",
        "  print(l)\n",
        "  l = f.read(2)\n",
        "f.close()"
      ],
      "metadata": {
        "colab": {
          "base_uri": "https://localhost:8080/"
        },
        "id": "uTHyvogNyV9C",
        "outputId": "1742d3a7-d509-405e-8170-c2e673587323"
      },
      "execution_count": 41,
      "outputs": [
        {
          "output_type": "stream",
          "name": "stdout",
          "text": [
            "Ab\n",
            "du\n",
            "ll\n",
            "ah\n",
            " s\n",
            "ir\n",
            "\n",
            "B\n",
            "in\n",
            "\n",
            "M\n",
            "oh\n",
            "am\n",
            "me\n",
            "d\n",
            "\n",
            "is\n",
            "\n",
            "a\n",
            "n\n",
            "\n",
            "ii\n",
            "ti\n",
            "an\n"
          ]
        }
      ]
    },
    {
      "cell_type": "code",
      "source": [
        "f  = open('textfile.txt', 'r')\n",
        "l = f.readlines()\n",
        "while l != [] and l != '':\n",
        "  print(l)\n",
        "  print(type(l))\n",
        "  print(len(l))\n",
        "  for i in l:\n",
        "    print(i)\n",
        "    print(type(i))\n",
        "  l = f.readlines()\n",
        "f.close()"
      ],
      "metadata": {
        "colab": {
          "base_uri": "https://localhost:8080/"
        },
        "id": "7Dn22j9X1tRV",
        "outputId": "0b164b5c-5090-47d5-eef5-d8ed8c2b1830"
      },
      "execution_count": 42,
      "outputs": [
        {
          "output_type": "stream",
          "name": "stdout",
          "text": [
            "['Abdullah sir\\n', 'Bin\\n', 'Mohammed\\n', 'is\\n', 'an\\n', 'iitian']\n",
            "<class 'list'>\n",
            "6\n",
            "Abdullah sir\n",
            "\n",
            "<class 'str'>\n",
            "Bin\n",
            "\n",
            "<class 'str'>\n",
            "Mohammed\n",
            "\n",
            "<class 'str'>\n",
            "is\n",
            "\n",
            "<class 'str'>\n",
            "an\n",
            "\n",
            "<class 'str'>\n",
            "iitian\n",
            "<class 'str'>\n"
          ]
        }
      ]
    },
    {
      "cell_type": "code",
      "source": [
        "f  = open('textfile.txt', 'r')\n",
        "l = f.readlines()\n",
        "while l != [] and l != '':\n",
        "  print(l)\n",
        "  print(type(l))\n",
        "  print(len(l))\n",
        "  print('_________________________')\n",
        "  for i in l:\n",
        "    print(i)\n",
        "    print(len(i))\n",
        "    print(type(i))\n",
        "    print(\"___________\")\n",
        "  l = f.readlines()\n",
        "f.close()"
      ],
      "metadata": {
        "colab": {
          "base_uri": "https://localhost:8080/"
        },
        "id": "yscFM6jpBKsN",
        "outputId": "fab88d1a-24f6-4f44-ab79-a8a48169d9e2"
      },
      "execution_count": 62,
      "outputs": [
        {
          "output_type": "stream",
          "name": "stdout",
          "text": [
            "['Abdullah sir\\n', 'Bin\\n', 'Mohammed\\n', 'is\\n', 'an\\n', 'iitian']\n",
            "<class 'list'>\n",
            "6\n",
            "_________________________\n",
            "Abdullah sir\n",
            "\n",
            "13\n",
            "<class 'str'>\n",
            "___________\n",
            "Bin\n",
            "\n",
            "4\n",
            "<class 'str'>\n",
            "___________\n",
            "Mohammed\n",
            "\n",
            "9\n",
            "<class 'str'>\n",
            "___________\n",
            "is\n",
            "\n",
            "3\n",
            "<class 'str'>\n",
            "___________\n",
            "an\n",
            "\n",
            "3\n",
            "<class 'str'>\n",
            "___________\n",
            "iitian\n",
            "6\n",
            "<class 'str'>\n",
            "___________\n"
          ]
        }
      ]
    },
    {
      "cell_type": "markdown",
      "source": [
        "## Functional programming"
      ],
      "metadata": {
        "id": "3u1mLySRA1cS"
      }
    },
    {
      "cell_type": "code",
      "source": [
        "fruits= [\"mango\",\"apple\",\"banana\",\"orange\",\"pineapple\",\"watermelon\",\"guava\",\"kiwi\"]\n",
        "new_list = [fruit.upper() if 'n' in fruit else fruit.lower() for fruit in fruits]\n",
        "print(new_list)"
      ],
      "metadata": {
        "colab": {
          "base_uri": "https://localhost:8080/"
        },
        "id": "my-Z4qTKAznD",
        "outputId": "92465380-ef54-46ca-c480-289d55130e9f"
      },
      "execution_count": 44,
      "outputs": [
        {
          "output_type": "stream",
          "name": "stdout",
          "text": [
            "['MANGO', 'apple', 'BANANA', 'ORANGE', 'PINEAPPLE', 'WATERMELON', 'guava', 'kiwi']\n"
          ]
        }
      ]
    },
    {
      "cell_type": "code",
      "source": [
        "n = int(input())\n",
        "L = [(i,\"even\") if i % 2 == 0 else (i,\"odd\") for i in range(1,n+1)]\n",
        "print(L)"
      ],
      "metadata": {
        "colab": {
          "base_uri": "https://localhost:8080/"
        },
        "id": "FIWv8IEOE0P3",
        "outputId": "42f90a24-029d-419c-af57-0716c90bf9d0"
      },
      "execution_count": 45,
      "outputs": [
        {
          "output_type": "stream",
          "name": "stdout",
          "text": [
            "30\n",
            "[(1, 'odd'), (2, 'even'), (3, 'odd'), (4, 'even'), (5, 'odd'), (6, 'even'), (7, 'odd'), (8, 'even'), (9, 'odd'), (10, 'even'), (11, 'odd'), (12, 'even'), (13, 'odd'), (14, 'even'), (15, 'odd'), (16, 'even'), (17, 'odd'), (18, 'even'), (19, 'odd'), (20, 'even'), (21, 'odd'), (22, 'even'), (23, 'odd'), (24, 'even'), (25, 'odd'), (26, 'even'), (27, 'odd'), (28, 'even'), (29, 'odd'), (30, 'even')]\n"
          ]
        }
      ]
    },
    {
      "cell_type": "markdown",
      "source": [
        "Rough cells follows you may ignore them"
      ],
      "metadata": {
        "id": "LfBHTUQ_6eaF"
      }
    },
    {
      "cell_type": "code",
      "source": [
        "(90+80+100+100+70+95+65+75+85+95)/10\n"
      ],
      "metadata": {
        "colab": {
          "base_uri": "https://localhost:8080/"
        },
        "id": "Q79RC407mMpj",
        "outputId": "0e30adcf-564b-4802-d913-1bcb43eac1e8"
      },
      "execution_count": 46,
      "outputs": [
        {
          "output_type": "execute_result",
          "data": {
            "text/plain": [
              "85.5"
            ]
          },
          "metadata": {},
          "execution_count": 46
        }
      ]
    },
    {
      "cell_type": "code",
      "source": [
        "L = [90,80,100,100,70,95,65,75,85,95]\n",
        "L.sort()\n",
        "print(L)"
      ],
      "metadata": {
        "colab": {
          "base_uri": "https://localhost:8080/"
        },
        "id": "7KX_SUyOng-z",
        "outputId": "7bf41bf5-3eba-41fe-f9a9-3a5725d96ed7"
      },
      "execution_count": 47,
      "outputs": [
        {
          "output_type": "stream",
          "name": "stdout",
          "text": [
            "[65, 70, 75, 80, 85, 90, 95, 95, 100, 100]\n"
          ]
        }
      ]
    },
    {
      "cell_type": "code",
      "source": [
        "mid = len(L)//2\n",
        "if len(L) % 2 == 0:\n",
        "     print((L[mid] + L[mid - 1]) // 2)\n",
        "else:\n",
        "    print(L[mid])"
      ],
      "metadata": {
        "colab": {
          "base_uri": "https://localhost:8080/"
        },
        "id": "VxDhfTVqoDt5",
        "outputId": "4a6aa068-d198-4fba-e1d4-17143acf1216"
      },
      "execution_count": 48,
      "outputs": [
        {
          "output_type": "stream",
          "name": "stdout",
          "text": [
            "87\n"
          ]
        }
      ]
    },
    {
      "cell_type": "code",
      "source": [
        "letters = 'abcdefghijklmnopqrstuvwxyz'\n",
        "n = len(letters) // 2\n",
        "for i in range(n):\n",
        "    line = letters[i] + letters[-1 - i]\n",
        "    print(line)"
      ],
      "metadata": {
        "colab": {
          "base_uri": "https://localhost:8080/"
        },
        "id": "l_fxgVs6oTDf",
        "outputId": "436614fd-9d18-4570-e74f-38015aabc746"
      },
      "execution_count": 49,
      "outputs": [
        {
          "output_type": "stream",
          "name": "stdout",
          "text": [
            "az\n",
            "by\n",
            "cx\n",
            "dw\n",
            "ev\n",
            "fu\n",
            "gt\n",
            "hs\n",
            "ir\n",
            "jq\n",
            "kp\n",
            "lo\n",
            "mn\n"
          ]
        }
      ]
    },
    {
      "cell_type": "code",
      "source": [
        "f = open('pattern.txt', 'w')\n",
        "letters = 'abcdefghijklmnopqrstuvwxyz'\n",
        "n = len(letters)\n",
        "for i in range(n):\n",
        "    line = letters[i] + letters[-1 - i]\n",
        "    if i != n - 1:\n",
        "        line = line + '\\n'\n",
        "    print(line)"
      ],
      "metadata": {
        "colab": {
          "base_uri": "https://localhost:8080/"
        },
        "id": "PvIalkbiqPhX",
        "outputId": "eda751cf-ed0c-4523-8fac-6a050fa87460"
      },
      "execution_count": 50,
      "outputs": [
        {
          "output_type": "stream",
          "name": "stdout",
          "text": [
            "az\n",
            "\n",
            "by\n",
            "\n",
            "cx\n",
            "\n",
            "dw\n",
            "\n",
            "ev\n",
            "\n",
            "fu\n",
            "\n",
            "gt\n",
            "\n",
            "hs\n",
            "\n",
            "ir\n",
            "\n",
            "jq\n",
            "\n",
            "kp\n",
            "\n",
            "lo\n",
            "\n",
            "mn\n",
            "\n",
            "nm\n",
            "\n",
            "ol\n",
            "\n",
            "pk\n",
            "\n",
            "qj\n",
            "\n",
            "ri\n",
            "\n",
            "sh\n",
            "\n",
            "tg\n",
            "\n",
            "uf\n",
            "\n",
            "ve\n",
            "\n",
            "wd\n",
            "\n",
            "xc\n",
            "\n",
            "yb\n",
            "\n",
            "za\n"
          ]
        }
      ]
    }
  ]
}