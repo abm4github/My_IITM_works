{
  "nbformat": 4,
  "nbformat_minor": 0,
  "metadata": {
    "colab": {
      "name": "IIT-M_Python_for_Data_Science_Week_2.ipynb",
      "provenance": [],
      "collapsed_sections": [],
      "authorship_tag": "ABX9TyO7Q5VxapTCuvdU9W+PPFyY",
      "include_colab_link": true
    },
    "kernelspec": {
      "name": "python3",
      "display_name": "Python 3"
    },
    "language_info": {
      "name": "python"
    }
  },
  "cells": [
    {
      "cell_type": "markdown",
      "metadata": {
        "id": "view-in-github",
        "colab_type": "text"
      },
      "source": [
        "<a href=\"https://colab.research.google.com/github/abm4github/My_IITM_works/blob/main/IIT_M_Python_for_Data_Science_Week_2.ipynb\" target=\"_parent\"><img src=\"https://colab.research.google.com/assets/colab-badge.svg\" alt=\"Open In Colab\"/></a>"
      ]
    },
    {
      "cell_type": "markdown",
      "source": [
        "#String Methods"
      ],
      "metadata": {
        "id": "-PNbTvLVWa5Z"
      }
    },
    {
      "cell_type": "markdown",
      "source": [
        "methods with non boolean output"
      ],
      "metadata": {
        "id": "BnPxfcg1pKd3"
      }
    },
    {
      "cell_type": "code",
      "execution_count": null,
      "metadata": {
        "id": "7vIYmbAbUQWM"
      },
      "outputs": [],
      "source": [
        "a = 'AbDuLlah BIN mohaMMed'  # 'a' , \"abm\", '''abm'''\n",
        "s ='Abdullah_b_md'\n",
        "b ='__ __Abdullah_b_Amd____'"
      ]
    },
    {
      "cell_type": "code",
      "source": [
        "a.lower()  #lower()"
      ],
      "metadata": {
        "colab": {
          "base_uri": "https://localhost:8080/",
          "height": 35
        },
        "id": "wD88HMOpVzsp",
        "outputId": "a6d10841-5e35-4448-88be-096cf178c3a4"
      },
      "execution_count": null,
      "outputs": [
        {
          "output_type": "execute_result",
          "data": {
            "text/plain": [
              "'abdullah bin mohammed'"
            ],
            "application/vnd.google.colaboratory.intrinsic+json": {
              "type": "string"
            }
          },
          "metadata": {},
          "execution_count": 3
        }
      ]
    },
    {
      "cell_type": "code",
      "source": [
        "a.upper()"
      ],
      "metadata": {
        "colab": {
          "base_uri": "https://localhost:8080/",
          "height": 35
        },
        "id": "q_xnp8hKWGZe",
        "outputId": "544387b9-03e9-4aff-edaf-e1b142c8d39b"
      },
      "execution_count": null,
      "outputs": [
        {
          "output_type": "execute_result",
          "data": {
            "text/plain": [
              "'ABDULLAH BIN MOHAMMED'"
            ],
            "application/vnd.google.colaboratory.intrinsic+json": {
              "type": "string"
            }
          },
          "metadata": {},
          "execution_count": 4
        }
      ]
    },
    {
      "cell_type": "code",
      "source": [
        "a.capitalize() # first character of first word of the string is capitalized"
      ],
      "metadata": {
        "colab": {
          "base_uri": "https://localhost:8080/",
          "height": 35
        },
        "id": "GgJspbUoWJuc",
        "outputId": "93a5f298-bb0a-40ed-c1a5-a62002647453"
      },
      "execution_count": null,
      "outputs": [
        {
          "output_type": "execute_result",
          "data": {
            "text/plain": [
              "'Abdullah bin mohammed'"
            ],
            "application/vnd.google.colaboratory.intrinsic+json": {
              "type": "string"
            }
          },
          "metadata": {},
          "execution_count": 5
        }
      ]
    },
    {
      "cell_type": "code",
      "source": [
        "a.title()"
      ],
      "metadata": {
        "colab": {
          "base_uri": "https://localhost:8080/",
          "height": 35
        },
        "id": "XahE2zeWWNOr",
        "outputId": "8d0445cc-c339-4285-c72e-dd03fb960805"
      },
      "execution_count": null,
      "outputs": [
        {
          "output_type": "execute_result",
          "data": {
            "text/plain": [
              "'Abdullah Bin Mohammed'"
            ],
            "application/vnd.google.colaboratory.intrinsic+json": {
              "type": "string"
            }
          },
          "metadata": {},
          "execution_count": 6
        }
      ]
    },
    {
      "cell_type": "code",
      "source": [
        "a.swapcase()"
      ],
      "metadata": {
        "colab": {
          "base_uri": "https://localhost:8080/",
          "height": 35
        },
        "id": "OXUvjFENWPOV",
        "outputId": "c98b3e98-2e20-43c8-937f-cb730373bc40"
      },
      "execution_count": null,
      "outputs": [
        {
          "output_type": "execute_result",
          "data": {
            "text/plain": [
              "'aBdUlLAH bin MOHAmmED'"
            ],
            "application/vnd.google.colaboratory.intrinsic+json": {
              "type": "string"
            }
          },
          "metadata": {},
          "execution_count": 7
        }
      ]
    },
    {
      "cell_type": "markdown",
      "source": [
        "methods with boolean output "
      ],
      "metadata": {
        "id": "kBVRzIqHXmZr"
      }
    },
    {
      "cell_type": "code",
      "source": [
        "a.islower() #question: is   # islower = is everything lower?"
      ],
      "metadata": {
        "colab": {
          "base_uri": "https://localhost:8080/"
        },
        "id": "hUUVKyB_WRn4",
        "outputId": "c4ad7116-a848-480d-eba1-2c53290725ff"
      },
      "execution_count": null,
      "outputs": [
        {
          "output_type": "execute_result",
          "data": {
            "text/plain": [
              "False"
            ]
          },
          "metadata": {},
          "execution_count": 8
        }
      ]
    },
    {
      "cell_type": "code",
      "source": [
        "a.isupper()"
      ],
      "metadata": {
        "colab": {
          "base_uri": "https://localhost:8080/"
        },
        "id": "y7IBLtcgXhw8",
        "outputId": "16f8f3ed-6b96-4a9b-a7f5-e0df0a90a352"
      },
      "execution_count": null,
      "outputs": [
        {
          "output_type": "execute_result",
          "data": {
            "text/plain": [
              "False"
            ]
          },
          "metadata": {},
          "execution_count": 9
        }
      ]
    },
    {
      "cell_type": "code",
      "source": [
        "a.istitle()"
      ],
      "metadata": {
        "colab": {
          "base_uri": "https://localhost:8080/"
        },
        "id": "PilVSENPX76e",
        "outputId": "50c3cd0f-3354-42fc-d816-ab7a968658f4"
      },
      "execution_count": null,
      "outputs": [
        {
          "output_type": "execute_result",
          "data": {
            "text/plain": [
              "False"
            ]
          },
          "metadata": {},
          "execution_count": 10
        }
      ]
    },
    {
      "cell_type": "code",
      "source": [
        "a.isdigit() # is every single character a digit 0-9"
      ],
      "metadata": {
        "colab": {
          "base_uri": "https://localhost:8080/"
        },
        "id": "shpLHs8RYB0J",
        "outputId": "c27b8072-d34c-402e-dc46-ac8c438554a0"
      },
      "execution_count": null,
      "outputs": [
        {
          "output_type": "execute_result",
          "data": {
            "text/plain": [
              "False"
            ]
          },
          "metadata": {},
          "execution_count": 11
        }
      ]
    },
    {
      "cell_type": "code",
      "source": [
        "a.isalpha()"
      ],
      "metadata": {
        "colab": {
          "base_uri": "https://localhost:8080/"
        },
        "id": "2X-JJZnTYyMg",
        "outputId": "116c6b0d-c618-4448-b3cd-530294345629"
      },
      "execution_count": null,
      "outputs": [
        {
          "output_type": "execute_result",
          "data": {
            "text/plain": [
              "False"
            ]
          },
          "metadata": {},
          "execution_count": 12
        }
      ]
    },
    {
      "cell_type": "code",
      "source": [
        "a.isalnum()   "
      ],
      "metadata": {
        "colab": {
          "base_uri": "https://localhost:8080/"
        },
        "id": "fgNDjyWpY4LR",
        "outputId": "4e4efbf4-e9c2-49bb-bd7e-9e91e02b1a61"
      },
      "execution_count": null,
      "outputs": [
        {
          "output_type": "execute_result",
          "data": {
            "text/plain": [
              "False"
            ]
          },
          "metadata": {},
          "execution_count": 17
        }
      ]
    },
    {
      "cell_type": "markdown",
      "source": [
        "methods with non boolean output"
      ],
      "metadata": {
        "id": "iYlwMPFUZ3Oj"
      }
    },
    {
      "cell_type": "code",
      "source": [
        "b.strip('_')  #b ='__ __Abdullah_b_Amd____'  #romove the mentioned character from both the ends"
      ],
      "metadata": {
        "colab": {
          "base_uri": "https://localhost:8080/",
          "height": 35
        },
        "id": "8fJODqi1ZV-D",
        "outputId": "80c75c12-e6a0-4305-befb-8e3a012214b3"
      },
      "execution_count": null,
      "outputs": [
        {
          "output_type": "execute_result",
          "data": {
            "text/plain": [
              "' __Abdullah_b_Amd'"
            ],
            "application/vnd.google.colaboratory.intrinsic+json": {
              "type": "string"
            }
          },
          "metadata": {},
          "execution_count": 25
        }
      ]
    },
    {
      "cell_type": "code",
      "source": [
        "b.lstrip('_')"
      ],
      "metadata": {
        "colab": {
          "base_uri": "https://localhost:8080/",
          "height": 35
        },
        "id": "nbvMdONAZqcY",
        "outputId": "7c6aad83-ecd8-4ce3-b843-a653f1dc4a24"
      },
      "execution_count": null,
      "outputs": [
        {
          "output_type": "execute_result",
          "data": {
            "text/plain": [
              "' __Abdullah_b_Amd____'"
            ],
            "application/vnd.google.colaboratory.intrinsic+json": {
              "type": "string"
            }
          },
          "metadata": {},
          "execution_count": 27
        }
      ]
    },
    {
      "cell_type": "code",
      "source": [
        "b.rstrip('_')"
      ],
      "metadata": {
        "colab": {
          "base_uri": "https://localhost:8080/",
          "height": 35
        },
        "id": "S9jB9xg0a44W",
        "outputId": "56ba87d2-ddab-4e9c-b446-6f6a996afb67"
      },
      "execution_count": null,
      "outputs": [
        {
          "output_type": "execute_result",
          "data": {
            "text/plain": [
              "'__ __Abdullah_b_Amd'"
            ],
            "application/vnd.google.colaboratory.intrinsic+json": {
              "type": "string"
            }
          },
          "metadata": {},
          "execution_count": 28
        }
      ]
    },
    {
      "cell_type": "code",
      "source": [
        "b"
      ],
      "metadata": {
        "colab": {
          "base_uri": "https://localhost:8080/",
          "height": 35
        },
        "id": "9qA3Pjzu2koO",
        "outputId": "0a6ac683-dbb2-4773-d520-26748da2b9f1"
      },
      "execution_count": null,
      "outputs": [
        {
          "output_type": "execute_result",
          "data": {
            "text/plain": [
              "'__ __Abdullah_b_Amd____'"
            ],
            "application/vnd.google.colaboratory.intrinsic+json": {
              "type": "string"
            }
          },
          "metadata": {},
          "execution_count": 30
        }
      ]
    },
    {
      "cell_type": "markdown",
      "source": [
        "observation: some bring change to the original value and some do not"
      ],
      "metadata": {
        "id": "YvG7lvuaeANj"
      }
    },
    {
      "cell_type": "markdown",
      "source": [
        "methods with boolean output"
      ],
      "metadata": {
        "id": "hwSw52Y03E9n"
      }
    },
    {
      "cell_type": "code",
      "source": [
        "b.startswith('_')"
      ],
      "metadata": {
        "colab": {
          "base_uri": "https://localhost:8080/"
        },
        "id": "BPIaoZjXbAhx",
        "outputId": "50b3c3a3-e281-4a85-e641-edfe57bbeab9"
      },
      "execution_count": null,
      "outputs": [
        {
          "output_type": "execute_result",
          "data": {
            "text/plain": [
              "True"
            ]
          },
          "metadata": {},
          "execution_count": 32
        }
      ]
    },
    {
      "cell_type": "code",
      "source": [
        "s.endswith('D') # case sensitive  # s ='Abdullah_b_md'"
      ],
      "metadata": {
        "colab": {
          "base_uri": "https://localhost:8080/"
        },
        "id": "l961IYHwesQc",
        "outputId": "8f16ca02-3067-459f-b008-becc3d82df27"
      },
      "execution_count": null,
      "outputs": [
        {
          "output_type": "execute_result",
          "data": {
            "text/plain": [
              "False"
            ]
          },
          "metadata": {},
          "execution_count": 35
        }
      ]
    },
    {
      "cell_type": "code",
      "source": [
        "b.count(\"_\") "
      ],
      "metadata": {
        "colab": {
          "base_uri": "https://localhost:8080/"
        },
        "id": "7O4JQxqTewXZ",
        "outputId": "8c72f519-7a9c-4b9e-b7ea-0802badd97bc"
      },
      "execution_count": null,
      "outputs": [
        {
          "output_type": "execute_result",
          "data": {
            "text/plain": [
              "10"
            ]
          },
          "metadata": {},
          "execution_count": 38
        }
      ]
    },
    {
      "cell_type": "code",
      "source": [
        "s.index('d')   # it gives position of mentioned character upon its first occurance"
      ],
      "metadata": {
        "colab": {
          "base_uri": "https://localhost:8080/"
        },
        "id": "ysNk6aUff09R",
        "outputId": "8eb12c87-2bcb-47cc-8409-134266aaf7af"
      },
      "execution_count": null,
      "outputs": [
        {
          "output_type": "execute_result",
          "data": {
            "text/plain": [
              "2"
            ]
          },
          "metadata": {},
          "execution_count": 48
        }
      ]
    },
    {
      "cell_type": "code",
      "source": [
        "print(s.replace('A','AAA'))"
      ],
      "metadata": {
        "id": "-cuiYr5LgTbV",
        "colab": {
          "base_uri": "https://localhost:8080/"
        },
        "outputId": "1ad3c16d-2547-40e7-9145-8d4430054bd8"
      },
      "execution_count": null,
      "outputs": [
        {
          "output_type": "stream",
          "name": "stdout",
          "text": [
            "AAAbdullah_b_md\n"
          ]
        }
      ]
    },
    {
      "cell_type": "code",
      "source": [
        "zorro\n",
        "apssp    1 shift to right\n",
        "\n",
        "\n",
        "error?\n",
        "\n",
        "abcdefghijklmnopqrstuvwxyz'a','b',cdefghijklmnopqrstuvwxyz\n",
        "\n",
        "\n",
        "better?\n",
        "  \n",
        "\n",
        "cipher"
      ],
      "metadata": {
        "id": "DDG0eOLVuGjT"
      },
      "execution_count": null,
      "outputs": []
    },
    {
      "cell_type": "code",
      "source": [
        "20/3\n"
      ],
      "metadata": {
        "id": "VdHN79IuvAyO",
        "outputId": "f2347645-853e-4b21-ab45-2c27b42384ba",
        "colab": {
          "base_uri": "https://localhost:8080/"
        }
      },
      "execution_count": null,
      "outputs": [
        {
          "output_type": "execute_result",
          "data": {
            "text/plain": [
              "6.666666666666667"
            ]
          },
          "metadata": {},
          "execution_count": 1
        }
      ]
    },
    {
      "cell_type": "code",
      "source": [
        "20//3 #floor value"
      ],
      "metadata": {
        "id": "CNNFeDt5vCU7",
        "outputId": "288ddb11-2800-4d5c-a92d-631b0ca5ce4f",
        "colab": {
          "base_uri": "https://localhost:8080/"
        }
      },
      "execution_count": null,
      "outputs": [
        {
          "output_type": "execute_result",
          "data": {
            "text/plain": [
              "6"
            ]
          },
          "metadata": {},
          "execution_count": 2
        }
      ]
    },
    {
      "cell_type": "code",
      "source": [
        "20%3 #remainder"
      ],
      "metadata": {
        "id": "_yYgRXlWvHVL",
        "outputId": "a2196bdb-4854-43f5-cddb-b8ceadc32835",
        "colab": {
          "base_uri": "https://localhost:8080/"
        }
      },
      "execution_count": null,
      "outputs": [
        {
          "output_type": "execute_result",
          "data": {
            "text/plain": [
              "2"
            ]
          },
          "metadata": {},
          "execution_count": 3
        }
      ]
    },
    {
      "cell_type": "markdown",
      "source": [
        "# if elif else"
      ],
      "metadata": {
        "id": "zephcNf_wKaz"
      }
    },
    {
      "cell_type": "code",
      "source": [
        "# A person is allowed to watch movie only if his age is above 13 else if he got parent accompanied, he can watch movie"
      ],
      "metadata": {
        "id": "siPeRfYHwOoO"
      },
      "execution_count": null,
      "outputs": []
    },
    {
      "cell_type": "code",
      "source": [
        "age = int(input(\"Enter your age in numbers (example:13,14,18,21): \"))    # if, elif, else  # if, elif(if, else) nested\n",
        "\n",
        "if age > 13:\n",
        "  print(\"Here is your ticket, Enjoy the movie\")\n",
        "elif age <= 13:\n",
        "  accompanied = input(\"Are you accompanied, Enter yes or no: \")\n",
        "  if accompanied == 'yes': \n",
        "    print(\"Here is your ticket, Enjoy the movie\")\n",
        "  else:\n",
        "    print(\"Sorry you are not allowed to watch this movie\")\n",
        "  "
      ],
      "metadata": {
        "id": "mLwWRWWHxBcg",
        "outputId": "43888ed0-16a2-4980-9c9d-80273077921a",
        "colab": {
          "base_uri": "https://localhost:8080/"
        }
      },
      "execution_count": null,
      "outputs": [
        {
          "output_type": "stream",
          "name": "stdout",
          "text": [
            "Enter your age in numbers (example:13,14,18,21): 12\n",
            "Are you accompanied, Enter yes or no: no\n",
            "Sorry you are not allowed to watch this movie\n"
          ]
        }
      ]
    },
    {
      "cell_type": "code",
      "source": [
        "# if the ages are 21, 22, 23 they get gifts from movieland, popcorn,  respectively # if,elif,else cocacola, pastry\n",
        "a = int(input(\"Enter your age: \"))\n",
        "if a == 21:\n",
        "  print(\"Here is your popcorn\")\n",
        "elif a == 22:  #different output for different conditions\n",
        "  print(\"Here is your coke\")\n",
        "elif a == 23:\n",
        "  print(\"Here is your pastry\")\n",
        "else:\n",
        "  print(\"sorry no gifts are provided based on your age\")"
      ],
      "metadata": {
        "id": "NYeSyDYiz-0o"
      },
      "execution_count": null,
      "outputs": []
    },
    {
      "cell_type": "code",
      "source": [
        "age = int(input(\"Enter your age in numbers (example:13,14,18,21): \"))   # if, else  # if, elif, else  # if, elif(if, else) nested\n",
        "\n",
        "if age > 13:\n",
        "  print(\"Here is your ticket, Enjoy the movie\")\n",
        "else:\n",
        "  print(\"Sorry you are not allowed to watch this movie\")\n",
        "print(\"Have a great day\")    \n",
        "  \n"
      ],
      "metadata": {
        "id": "l2vIxaF80LLE"
      },
      "execution_count": null,
      "outputs": []
    },
    {
      "cell_type": "code",
      "source": [
        "# below 14 and above 60 not allowed   # condn: 2\n",
        "\n",
        "a = int(input(\"Enter your age: \"))\n",
        "\n",
        "if a > 60:\n",
        "  print(\"you are not allowed as your age exeeds the limit\")\n",
        "elif a < 14:\n",
        "  print(\"you are not allowed as your age is below the limit\")\n",
        "else:\n",
        "  print(\"you are allowed, please welcome\")"
      ],
      "metadata": {
        "id": "JxkmckjM8cXS",
        "outputId": "e3b47964-0450-42f3-c78d-34115a23806b",
        "colab": {
          "base_uri": "https://localhost:8080/"
        }
      },
      "execution_count": null,
      "outputs": [
        {
          "output_type": "stream",
          "name": "stdout",
          "text": [
            "Enter your age: 11\n",
            "you are not allowed as your age is below the limit\n"
          ]
        }
      ]
    },
    {
      "cell_type": "markdown",
      "source": [
        "##Solving Problems"
      ],
      "metadata": {
        "id": "WX_y2hR8iWCo"
      }
    },
    {
      "cell_type": "markdown",
      "source": [
        "####Problem 1: Find whether given number is even or odd"
      ],
      "metadata": {
        "id": "K95lMzX6irAf"
      }
    },
    {
      "cell_type": "code",
      "source": [
        "num = int(input(\"Enter an integer, you wish to check whether its even or odd: \"))\n",
        "if num % 2 == 0:\n",
        "  print(f\"The given integer,{num} is even\")\n",
        "else:\n",
        "  print(f\"The given integer,{num} is odd\")"
      ],
      "metadata": {
        "colab": {
          "base_uri": "https://localhost:8080/"
        },
        "id": "Sy-CzmbYiPDm",
        "outputId": "0a19e6e5-20bc-4629-e79f-77f99077633d"
      },
      "execution_count": 4,
      "outputs": [
        {
          "output_type": "stream",
          "name": "stdout",
          "text": [
            "Enter an integer, you wish to check whether its even or odd: 100000081\n",
            "The given integer,100000081 is odd\n"
          ]
        }
      ]
    },
    {
      "cell_type": "markdown",
      "source": [
        "####Problem 1a: In above problem, how to tackle if the given input is not an integer?"
      ],
      "metadata": {
        "id": "qeAetl-UjrGu"
      }
    },
    {
      "cell_type": "markdown",
      "source": [
        "Here while loop is required, so this would be the best time to learn that.\n",
        " \n",
        "The while statement lets you repeat a statement until a specified expression becomes false\n",
        "\n",
        "while (condition):\n",
        "> do something"
      ],
      "metadata": {
        "id": "uYahW_WYo557"
      }
    },
    {
      "cell_type": "code",
      "source": [
        "num =input(\"Enter an integer, you wish to check whether its even or odd: \")\n",
        "while num.isdigit()==False or float(num) != float(num)//1:\n",
        "  num = input(\"Oops, wrong input, enter an INTEGER, you wish to check whether its even or odd: \")\n",
        "\n",
        "num = int(num)\n",
        "if num % 2 == 0:\n",
        "  print(f\"The given integer,{num} is even\")\n",
        "else:\n",
        "  print(f\"The given integer,{num} is odd\") \n",
        "  "
      ],
      "metadata": {
        "id": "c36oO2YE9Ds2",
        "colab": {
          "base_uri": "https://localhost:8080/"
        },
        "outputId": "a254b72b-ba1a-4e96-d6a6-a2b3ee85c60d"
      },
      "execution_count": 32,
      "outputs": [
        {
          "output_type": "stream",
          "name": "stdout",
          "text": [
            "Enter an integer, you wish to check whether its even or odd: 89\n",
            "The given integer,89 is odd\n"
          ]
        }
      ]
    },
    {
      "cell_type": "markdown",
      "source": [
        "####Problem 2: Find whether the given number ends with 0 or 5 or any other number"
      ],
      "metadata": {
        "id": "sWDLyaH1pYx2"
      }
    },
    {
      "cell_type": "code",
      "source": [
        "num =input(\"Enter an integer, you wish to check whether its even or odd: \")\n",
        "while num.isdigit()==False or float(num) != float(num)//1:\n",
        "  num = input(\"Oops, wrong input, enter an INTEGER, you wish to check whether its even or odd: \")\n",
        "\n",
        "num = int(num)\n",
        "if num % 10 == 0:\n",
        "  print(f\"The given integer,{num} ends with 0\")\n",
        "elif num % 5 == 0:\n",
        "  print(f\"The given integer,{num} ends with 5\")\n",
        "else:\n",
        "  print(f\"The given integer,{num} ends with a digit other than 0 and 5\")\n",
        "  "
      ],
      "metadata": {
        "colab": {
          "base_uri": "https://localhost:8080/"
        },
        "id": "DB20VPRQmJYq",
        "outputId": "a0c21935-5212-4543-ff6c-ed9f0a04dc63"
      },
      "execution_count": 17,
      "outputs": [
        {
          "output_type": "stream",
          "name": "stdout",
          "text": [
            "Enter an integer, you wish to check whether its even or odd: 76678\n",
            "The given integer,76678 ends with a digit other than 0 and 5\n"
          ]
        }
      ]
    },
    {
      "cell_type": "markdown",
      "source": [
        "####Problem 3: Find the grade of student based on the given marks from 0 to 100"
      ],
      "metadata": {
        "id": "nxvfVYv64o40"
      }
    },
    {
      "cell_type": "code",
      "source": [
        "num =input(\"Enter you marks in numerical and integer form:  \")\n",
        "while num.isdigit()==False or float(num) != float(num)//1 or float(num)>100 or float(num)<0:\n",
        "  num = input(\"Oops, wrong input, enter you marks in NUMERICAL and INTEGER form:   \")\n",
        "num = int(num)\n",
        "if num >= 90:\n",
        "  print(\"Your grade is A\")\n",
        "elif num >= 80:\n",
        "  print(\"Your grade is B\")\n",
        "elif num >= 70:\n",
        "  print(\"Your grade is C\")\n",
        "elif num >= 60:\n",
        "  print(\"Your grade is D\")  \n",
        "else:\n",
        "  print(\"Your grade is E\") "
      ],
      "metadata": {
        "colab": {
          "base_uri": "https://localhost:8080/"
        },
        "id": "ZbYGlGdE5wqH",
        "outputId": "82bf452a-d59f-426c-e5a8-722778ca39f6"
      },
      "execution_count": 28,
      "outputs": [
        {
          "output_type": "stream",
          "name": "stdout",
          "text": [
            "Enter you marks in numerical and integer form:  90,865r\n",
            "Oops, wrong input, enter you marks in NUMERICAL and INTEGER form:   90\n",
            "Your grade is A\n"
          ]
        }
      ]
    },
    {
      "cell_type": "markdown",
      "source": [
        "Activity: Try to repeat the code till we finish grading of all students in the class"
      ],
      "metadata": {
        "id": "QqEibTLOEAMv"
      }
    },
    {
      "cell_type": "code",
      "source": [
        "num =input(\"Enter you marks in numerical and integer form:  \")\n",
        "while num.isdigit()==False or float(num) != float(num)//1 or float(num)>100 or float(num)<0:\n",
        "  num = input(\"Oops, wrong input, enter you marks in NUMERICAL and INTEGER form:   \")\n",
        "\n",
        "num = int(num)\n",
        "if num >= 90:\n",
        "  print(\"Your grade is A\")\n",
        "elif num >= 80:\n",
        "  print(\"Your grade is B\")\n",
        "elif num >= 70:\n",
        "  print(\"Your grade is C\")\n",
        "elif num >= 60:\n",
        "  print(\"Your grade is D\")  \n",
        "else:\n",
        "  print(\"Your grade is E\") "
      ],
      "metadata": {
        "colab": {
          "base_uri": "https://localhost:8080/"
        },
        "id": "RtBKZNmXEZPJ",
        "outputId": "75d5e7b5-2cd4-49aa-c91b-4ea12c32f9f4"
      },
      "execution_count": 29,
      "outputs": [
        {
          "output_type": "stream",
          "name": "stdout",
          "text": [
            "Enter you marks in numerical and integer form:  adfv\n",
            "Oops, wrong input, enter you marks in NUMERICAL and INTEGER form:   134r5.2345\n",
            "Oops, wrong input, enter you marks in NUMERICAL and INTEGER form:   123.123\n",
            "Oops, wrong input, enter you marks in NUMERICAL and INTEGER form:   123\n",
            "Oops, wrong input, enter you marks in NUMERICAL and INTEGER form:   84\n",
            "Your grade is B\n"
          ]
        }
      ]
    },
    {
      "cell_type": "markdown",
      "source": [
        "Activity: Compute factorial of a number using while loop"
      ],
      "metadata": {
        "id": "HFUPDa0wH_tb"
      }
    },
    {
      "cell_type": "code",
      "source": [
        ""
      ],
      "metadata": {
        "id": "UnNex_MqH_SV"
      },
      "execution_count": null,
      "outputs": []
    }
  ]
}