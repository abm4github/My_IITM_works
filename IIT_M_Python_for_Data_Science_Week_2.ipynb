{
  "nbformat": 4,
  "nbformat_minor": 0,
  "metadata": {
    "colab": {
      "name": "IIT-M_Python_for_Data_Science_Week_2.ipynb",
      "provenance": [],
      "collapsed_sections": [],
      "authorship_tag": "ABX9TyOS7LhRlIkqzqdf6Q+N8uul",
      "include_colab_link": true
    },
    "kernelspec": {
      "name": "python3",
      "display_name": "Python 3"
    },
    "language_info": {
      "name": "python"
    }
  },
  "cells": [
    {
      "cell_type": "markdown",
      "metadata": {
        "id": "view-in-github",
        "colab_type": "text"
      },
      "source": [
        "<a href=\"https://colab.research.google.com/github/abm4github/My_IITM_works/blob/main/IIT_M_Python_for_Data_Science_Week_2.ipynb\" target=\"_parent\"><img src=\"https://colab.research.google.com/assets/colab-badge.svg\" alt=\"Open In Colab\"/></a>"
      ]
    },
    {
      "cell_type": "markdown",
      "source": [
        "#String Methods"
      ],
      "metadata": {
        "id": "-PNbTvLVWa5Z"
      }
    },
    {
      "cell_type": "markdown",
      "source": [
        "methods with non boolean output"
      ],
      "metadata": {
        "id": "BnPxfcg1pKd3"
      }
    },
    {
      "cell_type": "code",
      "execution_count": null,
      "metadata": {
        "id": "7vIYmbAbUQWM"
      },
      "outputs": [],
      "source": [
        "a = 'AbDuLlah BIN mohaMMed'  # 'a' , \"abm\", '''abm'''\n",
        "s ='Abdullah_b_md'\n",
        "b ='__ __Abdullah_b_Amd____'"
      ]
    },
    {
      "cell_type": "code",
      "source": [
        "a.lower()  #lower()"
      ],
      "metadata": {
        "colab": {
          "base_uri": "https://localhost:8080/",
          "height": 35
        },
        "id": "wD88HMOpVzsp",
        "outputId": "a6d10841-5e35-4448-88be-096cf178c3a4"
      },
      "execution_count": null,
      "outputs": [
        {
          "output_type": "execute_result",
          "data": {
            "text/plain": [
              "'abdullah bin mohammed'"
            ],
            "application/vnd.google.colaboratory.intrinsic+json": {
              "type": "string"
            }
          },
          "metadata": {},
          "execution_count": 3
        }
      ]
    },
    {
      "cell_type": "code",
      "source": [
        "a.upper()"
      ],
      "metadata": {
        "colab": {
          "base_uri": "https://localhost:8080/",
          "height": 35
        },
        "id": "q_xnp8hKWGZe",
        "outputId": "544387b9-03e9-4aff-edaf-e1b142c8d39b"
      },
      "execution_count": null,
      "outputs": [
        {
          "output_type": "execute_result",
          "data": {
            "text/plain": [
              "'ABDULLAH BIN MOHAMMED'"
            ],
            "application/vnd.google.colaboratory.intrinsic+json": {
              "type": "string"
            }
          },
          "metadata": {},
          "execution_count": 4
        }
      ]
    },
    {
      "cell_type": "code",
      "source": [
        "a.capitalize() # first character of first word of the string is capitalized"
      ],
      "metadata": {
        "colab": {
          "base_uri": "https://localhost:8080/",
          "height": 35
        },
        "id": "GgJspbUoWJuc",
        "outputId": "93a5f298-bb0a-40ed-c1a5-a62002647453"
      },
      "execution_count": null,
      "outputs": [
        {
          "output_type": "execute_result",
          "data": {
            "text/plain": [
              "'Abdullah bin mohammed'"
            ],
            "application/vnd.google.colaboratory.intrinsic+json": {
              "type": "string"
            }
          },
          "metadata": {},
          "execution_count": 5
        }
      ]
    },
    {
      "cell_type": "code",
      "source": [
        "a.title()"
      ],
      "metadata": {
        "colab": {
          "base_uri": "https://localhost:8080/",
          "height": 35
        },
        "id": "XahE2zeWWNOr",
        "outputId": "8d0445cc-c339-4285-c72e-dd03fb960805"
      },
      "execution_count": null,
      "outputs": [
        {
          "output_type": "execute_result",
          "data": {
            "text/plain": [
              "'Abdullah Bin Mohammed'"
            ],
            "application/vnd.google.colaboratory.intrinsic+json": {
              "type": "string"
            }
          },
          "metadata": {},
          "execution_count": 6
        }
      ]
    },
    {
      "cell_type": "code",
      "source": [
        "a.swapcase()"
      ],
      "metadata": {
        "colab": {
          "base_uri": "https://localhost:8080/",
          "height": 35
        },
        "id": "OXUvjFENWPOV",
        "outputId": "c98b3e98-2e20-43c8-937f-cb730373bc40"
      },
      "execution_count": null,
      "outputs": [
        {
          "output_type": "execute_result",
          "data": {
            "text/plain": [
              "'aBdUlLAH bin MOHAmmED'"
            ],
            "application/vnd.google.colaboratory.intrinsic+json": {
              "type": "string"
            }
          },
          "metadata": {},
          "execution_count": 7
        }
      ]
    },
    {
      "cell_type": "markdown",
      "source": [
        "methods with boolean output "
      ],
      "metadata": {
        "id": "kBVRzIqHXmZr"
      }
    },
    {
      "cell_type": "code",
      "source": [
        "a.islower() #question: is   # islower = is everything lower?"
      ],
      "metadata": {
        "colab": {
          "base_uri": "https://localhost:8080/"
        },
        "id": "hUUVKyB_WRn4",
        "outputId": "c4ad7116-a848-480d-eba1-2c53290725ff"
      },
      "execution_count": null,
      "outputs": [
        {
          "output_type": "execute_result",
          "data": {
            "text/plain": [
              "False"
            ]
          },
          "metadata": {},
          "execution_count": 8
        }
      ]
    },
    {
      "cell_type": "code",
      "source": [
        "a.isupper()"
      ],
      "metadata": {
        "colab": {
          "base_uri": "https://localhost:8080/"
        },
        "id": "y7IBLtcgXhw8",
        "outputId": "16f8f3ed-6b96-4a9b-a7f5-e0df0a90a352"
      },
      "execution_count": null,
      "outputs": [
        {
          "output_type": "execute_result",
          "data": {
            "text/plain": [
              "False"
            ]
          },
          "metadata": {},
          "execution_count": 9
        }
      ]
    },
    {
      "cell_type": "code",
      "source": [
        "a.istitle()"
      ],
      "metadata": {
        "colab": {
          "base_uri": "https://localhost:8080/"
        },
        "id": "PilVSENPX76e",
        "outputId": "50c3cd0f-3354-42fc-d816-ab7a968658f4"
      },
      "execution_count": null,
      "outputs": [
        {
          "output_type": "execute_result",
          "data": {
            "text/plain": [
              "False"
            ]
          },
          "metadata": {},
          "execution_count": 10
        }
      ]
    },
    {
      "cell_type": "code",
      "source": [
        "a.isdigit() # is every single character a digit 0-9"
      ],
      "metadata": {
        "colab": {
          "base_uri": "https://localhost:8080/"
        },
        "id": "shpLHs8RYB0J",
        "outputId": "c27b8072-d34c-402e-dc46-ac8c438554a0"
      },
      "execution_count": null,
      "outputs": [
        {
          "output_type": "execute_result",
          "data": {
            "text/plain": [
              "False"
            ]
          },
          "metadata": {},
          "execution_count": 11
        }
      ]
    },
    {
      "cell_type": "code",
      "source": [
        "a.isalpha()"
      ],
      "metadata": {
        "colab": {
          "base_uri": "https://localhost:8080/"
        },
        "id": "2X-JJZnTYyMg",
        "outputId": "116c6b0d-c618-4448-b3cd-530294345629"
      },
      "execution_count": null,
      "outputs": [
        {
          "output_type": "execute_result",
          "data": {
            "text/plain": [
              "False"
            ]
          },
          "metadata": {},
          "execution_count": 12
        }
      ]
    },
    {
      "cell_type": "code",
      "source": [
        "a.isalnum()   "
      ],
      "metadata": {
        "colab": {
          "base_uri": "https://localhost:8080/"
        },
        "id": "fgNDjyWpY4LR",
        "outputId": "4e4efbf4-e9c2-49bb-bd7e-9e91e02b1a61"
      },
      "execution_count": null,
      "outputs": [
        {
          "output_type": "execute_result",
          "data": {
            "text/plain": [
              "False"
            ]
          },
          "metadata": {},
          "execution_count": 17
        }
      ]
    },
    {
      "cell_type": "markdown",
      "source": [
        "methods with non boolean output"
      ],
      "metadata": {
        "id": "iYlwMPFUZ3Oj"
      }
    },
    {
      "cell_type": "code",
      "source": [
        "b.strip('_')  #b ='__ __Abdullah_b_Amd____'  #romove the mentioned character from both the ends"
      ],
      "metadata": {
        "colab": {
          "base_uri": "https://localhost:8080/",
          "height": 35
        },
        "id": "8fJODqi1ZV-D",
        "outputId": "80c75c12-e6a0-4305-befb-8e3a012214b3"
      },
      "execution_count": null,
      "outputs": [
        {
          "output_type": "execute_result",
          "data": {
            "text/plain": [
              "' __Abdullah_b_Amd'"
            ],
            "application/vnd.google.colaboratory.intrinsic+json": {
              "type": "string"
            }
          },
          "metadata": {},
          "execution_count": 25
        }
      ]
    },
    {
      "cell_type": "code",
      "source": [
        "b.lstrip('_')"
      ],
      "metadata": {
        "colab": {
          "base_uri": "https://localhost:8080/",
          "height": 35
        },
        "id": "nbvMdONAZqcY",
        "outputId": "7c6aad83-ecd8-4ce3-b843-a653f1dc4a24"
      },
      "execution_count": null,
      "outputs": [
        {
          "output_type": "execute_result",
          "data": {
            "text/plain": [
              "' __Abdullah_b_Amd____'"
            ],
            "application/vnd.google.colaboratory.intrinsic+json": {
              "type": "string"
            }
          },
          "metadata": {},
          "execution_count": 27
        }
      ]
    },
    {
      "cell_type": "code",
      "source": [
        "b.rstrip('_')"
      ],
      "metadata": {
        "colab": {
          "base_uri": "https://localhost:8080/",
          "height": 35
        },
        "id": "S9jB9xg0a44W",
        "outputId": "56ba87d2-ddab-4e9c-b446-6f6a996afb67"
      },
      "execution_count": null,
      "outputs": [
        {
          "output_type": "execute_result",
          "data": {
            "text/plain": [
              "'__ __Abdullah_b_Amd'"
            ],
            "application/vnd.google.colaboratory.intrinsic+json": {
              "type": "string"
            }
          },
          "metadata": {},
          "execution_count": 28
        }
      ]
    },
    {
      "cell_type": "code",
      "source": [
        "b"
      ],
      "metadata": {
        "colab": {
          "base_uri": "https://localhost:8080/",
          "height": 35
        },
        "id": "9qA3Pjzu2koO",
        "outputId": "0a6ac683-dbb2-4773-d520-26748da2b9f1"
      },
      "execution_count": null,
      "outputs": [
        {
          "output_type": "execute_result",
          "data": {
            "text/plain": [
              "'__ __Abdullah_b_Amd____'"
            ],
            "application/vnd.google.colaboratory.intrinsic+json": {
              "type": "string"
            }
          },
          "metadata": {},
          "execution_count": 30
        }
      ]
    },
    {
      "cell_type": "markdown",
      "source": [
        "observation: some bring change to the original value and some do not"
      ],
      "metadata": {
        "id": "YvG7lvuaeANj"
      }
    },
    {
      "cell_type": "markdown",
      "source": [
        "methods with boolean output"
      ],
      "metadata": {
        "id": "hwSw52Y03E9n"
      }
    },
    {
      "cell_type": "code",
      "source": [
        "b.startswith('_')"
      ],
      "metadata": {
        "colab": {
          "base_uri": "https://localhost:8080/"
        },
        "id": "BPIaoZjXbAhx",
        "outputId": "50b3c3a3-e281-4a85-e641-edfe57bbeab9"
      },
      "execution_count": null,
      "outputs": [
        {
          "output_type": "execute_result",
          "data": {
            "text/plain": [
              "True"
            ]
          },
          "metadata": {},
          "execution_count": 32
        }
      ]
    },
    {
      "cell_type": "code",
      "source": [
        "s.endswith('D') # case sensitive  # s ='Abdullah_b_md'"
      ],
      "metadata": {
        "colab": {
          "base_uri": "https://localhost:8080/"
        },
        "id": "l961IYHwesQc",
        "outputId": "8f16ca02-3067-459f-b008-becc3d82df27"
      },
      "execution_count": null,
      "outputs": [
        {
          "output_type": "execute_result",
          "data": {
            "text/plain": [
              "False"
            ]
          },
          "metadata": {},
          "execution_count": 35
        }
      ]
    },
    {
      "cell_type": "code",
      "source": [
        "b.count(\"_\") "
      ],
      "metadata": {
        "colab": {
          "base_uri": "https://localhost:8080/"
        },
        "id": "7O4JQxqTewXZ",
        "outputId": "8c72f519-7a9c-4b9e-b7ea-0802badd97bc"
      },
      "execution_count": null,
      "outputs": [
        {
          "output_type": "execute_result",
          "data": {
            "text/plain": [
              "10"
            ]
          },
          "metadata": {},
          "execution_count": 38
        }
      ]
    },
    {
      "cell_type": "code",
      "source": [
        "s.index('d')   # it gives position of mentioned character upon its first occurance"
      ],
      "metadata": {
        "colab": {
          "base_uri": "https://localhost:8080/"
        },
        "id": "ysNk6aUff09R",
        "outputId": "8eb12c87-2bcb-47cc-8409-134266aaf7af"
      },
      "execution_count": null,
      "outputs": [
        {
          "output_type": "execute_result",
          "data": {
            "text/plain": [
              "2"
            ]
          },
          "metadata": {},
          "execution_count": 48
        }
      ]
    },
    {
      "cell_type": "code",
      "source": [
        "print(s.replace('A','AAA'))"
      ],
      "metadata": {
        "id": "-cuiYr5LgTbV",
        "colab": {
          "base_uri": "https://localhost:8080/"
        },
        "outputId": "1ad3c16d-2547-40e7-9145-8d4430054bd8"
      },
      "execution_count": null,
      "outputs": [
        {
          "output_type": "stream",
          "name": "stdout",
          "text": [
            "AAAbdullah_b_md\n"
          ]
        }
      ]
    },
    {
      "cell_type": "code",
      "source": [
        "zorro\n",
        "apssp    1 shift to right\n",
        "\n",
        "\n",
        "error?\n",
        "\n",
        "abcdefghijklmnopqrstuvwxyz'a','b',cdefghijklmnopqrstuvwxyz\n",
        "\n",
        "\n",
        "better?\n",
        "  \n",
        "\n",
        "cipher"
      ],
      "metadata": {
        "id": "DDG0eOLVuGjT"
      },
      "execution_count": null,
      "outputs": []
    },
    {
      "cell_type": "code",
      "source": [
        "20/3\n"
      ],
      "metadata": {
        "id": "VdHN79IuvAyO",
        "outputId": "f2347645-853e-4b21-ab45-2c27b42384ba",
        "colab": {
          "base_uri": "https://localhost:8080/"
        }
      },
      "execution_count": null,
      "outputs": [
        {
          "output_type": "execute_result",
          "data": {
            "text/plain": [
              "6.666666666666667"
            ]
          },
          "metadata": {},
          "execution_count": 1
        }
      ]
    },
    {
      "cell_type": "code",
      "source": [
        "20//3 #floor value"
      ],
      "metadata": {
        "id": "CNNFeDt5vCU7",
        "outputId": "288ddb11-2800-4d5c-a92d-631b0ca5ce4f",
        "colab": {
          "base_uri": "https://localhost:8080/"
        }
      },
      "execution_count": null,
      "outputs": [
        {
          "output_type": "execute_result",
          "data": {
            "text/plain": [
              "6"
            ]
          },
          "metadata": {},
          "execution_count": 2
        }
      ]
    },
    {
      "cell_type": "code",
      "source": [
        "20%3 #remainder"
      ],
      "metadata": {
        "id": "_yYgRXlWvHVL",
        "outputId": "a2196bdb-4854-43f5-cddb-b8ceadc32835",
        "colab": {
          "base_uri": "https://localhost:8080/"
        }
      },
      "execution_count": null,
      "outputs": [
        {
          "output_type": "execute_result",
          "data": {
            "text/plain": [
              "2"
            ]
          },
          "metadata": {},
          "execution_count": 3
        }
      ]
    },
    {
      "cell_type": "markdown",
      "source": [
        "# if elif else"
      ],
      "metadata": {
        "id": "zephcNf_wKaz"
      }
    },
    {
      "cell_type": "code",
      "source": [
        "# A person is allowed to watch movie only if his age is above 13 else if he got parent accompanied, he can watch movie"
      ],
      "metadata": {
        "id": "siPeRfYHwOoO"
      },
      "execution_count": null,
      "outputs": []
    },
    {
      "cell_type": "code",
      "source": [
        "age = int(input(\"Enter your age in numbers (example:13,14,18,21): \"))    # if, elif, else  # if, elif(if, else) nested\n",
        "\n",
        "if age > 13:\n",
        "  print(\"Here is your ticket, Enjoy the movie\")\n",
        "elif age <= 13:\n",
        "  accompanied = input(\"Are you accompanied, Enter yes or no: \")\n",
        "  if accompanied == 'yes': \n",
        "    print(\"Here is your ticket, Enjoy the movie\")\n",
        "  else:\n",
        "    print(\"Sorry you are not allowed to watch this movie\")\n",
        "  "
      ],
      "metadata": {
        "id": "mLwWRWWHxBcg",
        "outputId": "43888ed0-16a2-4980-9c9d-80273077921a",
        "colab": {
          "base_uri": "https://localhost:8080/"
        }
      },
      "execution_count": null,
      "outputs": [
        {
          "output_type": "stream",
          "name": "stdout",
          "text": [
            "Enter your age in numbers (example:13,14,18,21): 12\n",
            "Are you accompanied, Enter yes or no: no\n",
            "Sorry you are not allowed to watch this movie\n"
          ]
        }
      ]
    },
    {
      "cell_type": "code",
      "source": [
        "# if the ages are 21, 22, 23 they get gifts from movieland, popcorn,  respectively # if,elif,else cocacola, pastry\n",
        "a = int(input(\"Enter your age: \"))\n",
        "if a == 21:\n",
        "  print(\"Here is your popcorn\")\n",
        "elif a == 22:  #different output for different conditions\n",
        "  print(\"Here is your coke\")\n",
        "elif a == 23:\n",
        "  print(\"Here is your pastry\")\n",
        "else:\n",
        "  print(\"sorry no gifts are provided based on your age\")"
      ],
      "metadata": {
        "id": "NYeSyDYiz-0o"
      },
      "execution_count": null,
      "outputs": []
    },
    {
      "cell_type": "code",
      "source": [
        "age = int(input(\"Enter your age in numbers (example:13,14,18,21): \"))   # if, else  # if, elif, else  # if, elif(if, else) nested\n",
        "\n",
        "if age > 13:\n",
        "  print(\"Here is your ticket, Enjoy the movie\")\n",
        "else:\n",
        "  print(\"Sorry you are not allowed to watch this movie\")\n",
        "print(\"Have a great day\")    \n",
        "  \n"
      ],
      "metadata": {
        "id": "l2vIxaF80LLE"
      },
      "execution_count": null,
      "outputs": []
    },
    {
      "cell_type": "code",
      "source": [
        "# below 14 and above 60 not allowed   # condn: 2\n",
        "\n",
        "a = int(input(\"Enter your age: \"))\n",
        "\n",
        "if a > 60:\n",
        "  print(\"you are not allowed as your age exeeds the limit\")\n",
        "elif a < 14:\n",
        "  print(\"you are not allowed as your age is below the limit\")\n",
        "else:\n",
        "  print(\"you are allowed, please welcome\")"
      ],
      "metadata": {
        "id": "JxkmckjM8cXS",
        "outputId": "e3b47964-0450-42f3-c78d-34115a23806b",
        "colab": {
          "base_uri": "https://localhost:8080/"
        }
      },
      "execution_count": null,
      "outputs": [
        {
          "output_type": "stream",
          "name": "stdout",
          "text": [
            "Enter your age: 11\n",
            "you are not allowed as your age is below the limit\n"
          ]
        }
      ]
    },
    {
      "cell_type": "markdown",
      "source": [
        "#Solving Problems"
      ],
      "metadata": {
        "id": "WX_y2hR8iWCo"
      }
    },
    {
      "cell_type": "markdown",
      "source": [
        "####Problem 1: Find whether given number is even or odd"
      ],
      "metadata": {
        "id": "K95lMzX6irAf"
      }
    },
    {
      "cell_type": "code",
      "source": [
        "num = int(input(\"Enter an integer, you wish to check whether its even or odd: \"))\n",
        "if num % 2 == 0:\n",
        "  print(f\"The given integer,{num} is even\")\n",
        "else:\n",
        "  print(f\"The given integer,{num} is odd\")"
      ],
      "metadata": {
        "colab": {
          "base_uri": "https://localhost:8080/",
          "height": 263
        },
        "id": "Sy-CzmbYiPDm",
        "outputId": "41dd6122-2c17-41a7-fac6-5193a836adb6"
      },
      "execution_count": null,
      "outputs": [
        {
          "name": "stdout",
          "output_type": "stream",
          "text": [
            "Enter an integer, you wish to check whether its even or odd: 56.8\n"
          ]
        },
        {
          "output_type": "error",
          "ename": "ValueError",
          "evalue": "ignored",
          "traceback": [
            "\u001b[0;31m---------------------------------------------------------------------------\u001b[0m",
            "\u001b[0;31mValueError\u001b[0m                                Traceback (most recent call last)",
            "\u001b[0;32m<ipython-input-11-87b0e3a4c7ed>\u001b[0m in \u001b[0;36m<module>\u001b[0;34m()\u001b[0m\n\u001b[0;32m----> 1\u001b[0;31m \u001b[0mnum\u001b[0m \u001b[0;34m=\u001b[0m \u001b[0mint\u001b[0m\u001b[0;34m(\u001b[0m\u001b[0minput\u001b[0m\u001b[0;34m(\u001b[0m\u001b[0;34m\"Enter an integer, you wish to check whether its even or odd: \"\u001b[0m\u001b[0;34m)\u001b[0m\u001b[0;34m)\u001b[0m\u001b[0;34m\u001b[0m\u001b[0;34m\u001b[0m\u001b[0m\n\u001b[0m\u001b[1;32m      2\u001b[0m \u001b[0;32mif\u001b[0m \u001b[0mnum\u001b[0m \u001b[0;34m%\u001b[0m \u001b[0;36m2\u001b[0m \u001b[0;34m==\u001b[0m \u001b[0;36m0\u001b[0m\u001b[0;34m:\u001b[0m\u001b[0;34m\u001b[0m\u001b[0;34m\u001b[0m\u001b[0m\n\u001b[1;32m      3\u001b[0m   \u001b[0mprint\u001b[0m\u001b[0;34m(\u001b[0m\u001b[0;34mf\"The given integer,{num} is even\"\u001b[0m\u001b[0;34m)\u001b[0m\u001b[0;34m\u001b[0m\u001b[0;34m\u001b[0m\u001b[0m\n\u001b[1;32m      4\u001b[0m \u001b[0;32melse\u001b[0m\u001b[0;34m:\u001b[0m\u001b[0;34m\u001b[0m\u001b[0;34m\u001b[0m\u001b[0m\n\u001b[1;32m      5\u001b[0m   \u001b[0mprint\u001b[0m\u001b[0;34m(\u001b[0m\u001b[0;34mf\"The given integer,{num} is odd\"\u001b[0m\u001b[0;34m)\u001b[0m\u001b[0;34m\u001b[0m\u001b[0;34m\u001b[0m\u001b[0m\n",
            "\u001b[0;31mValueError\u001b[0m: invalid literal for int() with base 10: '56.8'"
          ]
        }
      ]
    },
    {
      "cell_type": "markdown",
      "source": [
        "####Problem 1a: In above problem, how to tackle if the given input is not an integer?"
      ],
      "metadata": {
        "id": "qeAetl-UjrGu"
      }
    },
    {
      "cell_type": "markdown",
      "source": [
        "Here while loop is required, so this would be the best time to learn that.\n",
        " \n",
        "The while statement lets you repeat a statement until a specified expression becomes false\n",
        "\n",
        "while (condition):\n",
        "> do something"
      ],
      "metadata": {
        "id": "uYahW_WYo557"
      }
    },
    {
      "cell_type": "code",
      "source": [
        "num =input(\"Enter an integer, you wish to check whether its even or odd: \")\n",
        "while num.isdigit()==False or float(num) != float(num)//1:\n",
        "  num = input(\"Oops, wrong input, enter an INTEGER, you wish to check whether its even or odd: \")\n",
        "\n",
        "num = int(num)\n",
        "\n",
        "if num % 2 == 0:\n",
        "  print(f\"The given integer,{num} is even\")\n",
        "else:\n",
        "  print(f\"The given integer,{num} is odd\") \n",
        "  "
      ],
      "metadata": {
        "id": "c36oO2YE9Ds2",
        "colab": {
          "base_uri": "https://localhost:8080/",
          "height": 263
        },
        "outputId": "12376350-fbce-41d9-cf26-8791f0be7304"
      },
      "execution_count": null,
      "outputs": [
        {
          "name": "stdout",
          "output_type": "stream",
          "text": [
            "Enter an integer, you wish to check whether its even or odd: rama\n"
          ]
        },
        {
          "output_type": "error",
          "ename": "ValueError",
          "evalue": "ignored",
          "traceback": [
            "\u001b[0;31m---------------------------------------------------------------------------\u001b[0m",
            "\u001b[0;31mValueError\u001b[0m                                Traceback (most recent call last)",
            "\u001b[0;32m<ipython-input-48-58eed41c38ba>\u001b[0m in \u001b[0;36m<module>\u001b[0;34m()\u001b[0m\n\u001b[1;32m      1\u001b[0m \u001b[0mnum\u001b[0m \u001b[0;34m=\u001b[0m\u001b[0minput\u001b[0m\u001b[0;34m(\u001b[0m\u001b[0;34m\"Enter an integer, you wish to check whether its even or odd: \"\u001b[0m\u001b[0;34m)\u001b[0m\u001b[0;34m\u001b[0m\u001b[0;34m\u001b[0m\u001b[0m\n\u001b[0;32m----> 2\u001b[0;31m \u001b[0;32mwhile\u001b[0m  \u001b[0mfloat\u001b[0m\u001b[0;34m(\u001b[0m\u001b[0mnum\u001b[0m\u001b[0;34m)\u001b[0m \u001b[0;34m!=\u001b[0m \u001b[0mfloat\u001b[0m\u001b[0;34m(\u001b[0m\u001b[0mnum\u001b[0m\u001b[0;34m)\u001b[0m\u001b[0;34m//\u001b[0m\u001b[0;36m1\u001b[0m\u001b[0;34m:\u001b[0m\u001b[0;34m\u001b[0m\u001b[0;34m\u001b[0m\u001b[0m\n\u001b[0m\u001b[1;32m      3\u001b[0m   \u001b[0mnum\u001b[0m \u001b[0;34m=\u001b[0m \u001b[0minput\u001b[0m\u001b[0;34m(\u001b[0m\u001b[0;34m\"Oops, wrong input, enter an INTEGER, you wish to check whether its even or odd: \"\u001b[0m\u001b[0;34m)\u001b[0m\u001b[0;34m\u001b[0m\u001b[0;34m\u001b[0m\u001b[0m\n\u001b[1;32m      4\u001b[0m \u001b[0;34m\u001b[0m\u001b[0m\n\u001b[1;32m      5\u001b[0m \u001b[0mnum\u001b[0m \u001b[0;34m=\u001b[0m \u001b[0mint\u001b[0m\u001b[0;34m(\u001b[0m\u001b[0mnum\u001b[0m\u001b[0;34m)\u001b[0m\u001b[0;34m\u001b[0m\u001b[0;34m\u001b[0m\u001b[0m\n",
            "\u001b[0;31mValueError\u001b[0m: could not convert string to float: 'rama'"
          ]
        }
      ]
    },
    {
      "cell_type": "markdown",
      "source": [
        "####Problem 2: Find whether the given number ends with 0 or 5 or any other number"
      ],
      "metadata": {
        "id": "sWDLyaH1pYx2"
      }
    },
    {
      "cell_type": "code",
      "source": [
        "num =input(\"Enter an integer: \")  #STRING\n",
        "while num.isdigit()==False or float(num) != float(num)//1:\n",
        "  num = input(\"Oops, wrong input, enter an INTEGER: \")\n",
        "\n",
        "num = int(num)  #if it is integer, INSIDE INSIDE INSIDE, INSIDE STRING\n",
        "\n",
        "if num % 10 == 0:  #\"100\" % 10 \n",
        "  print(f\"The given integer,{num} ends with 0\")\n",
        "elif num % 5 == 0:\n",
        "  print(f\"The given integer,{num} ends with 5\")\n",
        "else:\n",
        "  print(f\"The given integer,{num} ends with a digit other than 0 and 5\")\n",
        "  "
      ],
      "metadata": {
        "colab": {
          "base_uri": "https://localhost:8080/"
        },
        "id": "DB20VPRQmJYq",
        "outputId": "4b38a8fa-160e-470d-eba8-c9ccc118ce81"
      },
      "execution_count": null,
      "outputs": [
        {
          "output_type": "stream",
          "name": "stdout",
          "text": [
            "Enter an integer, you wish to check whether its even or odd: 23\n",
            "The given integer,23 ends with a digit other than 0 and 5\n"
          ]
        }
      ]
    },
    {
      "cell_type": "markdown",
      "source": [
        "####Problem 3: Find the grade of student based on the given marks from 0 to 100"
      ],
      "metadata": {
        "id": "nxvfVYv64o40"
      }
    },
    {
      "cell_type": "code",
      "source": [
        "num =input(\"Enter you marks in numerical and integer form:  \")\n",
        "while num.isdigit()==False or float(num) != float(num)//1 or float(num)>100 or float(num)<0:\n",
        "  num = input(\"Oops, wrong input, enter you marks in NUMERICAL and INTEGER form:   \")\n",
        "num = int(num)\n",
        "if num >= 90:\n",
        "  print(\"Your grade is A\")      \n",
        "elif num >= 80:\n",
        "  print(\"Your grade is B\")\n",
        "elif num >= 70:\n",
        "  print(\"Your grade is C\")\n",
        "elif num >= 60:\n",
        "  print(\"Your grade is D\")  \n",
        "else:\n",
        "  print(\"Your grade is E\") "
      ],
      "metadata": {
        "colab": {
          "base_uri": "https://localhost:8080/"
        },
        "id": "ZbYGlGdE5wqH",
        "outputId": "525b0920-729c-43d5-94ee-5ccaff4ba1cb"
      },
      "execution_count": null,
      "outputs": [
        {
          "output_type": "stream",
          "name": "stdout",
          "text": [
            "Enter you marks in numerical and integer form:  63\n",
            "Your grade is D\n"
          ]
        }
      ]
    },
    {
      "cell_type": "markdown",
      "source": [
        "Activity: Try to repeat the code till we finish grading of all students in the class"
      ],
      "metadata": {
        "id": "QqEibTLOEAMv"
      }
    },
    {
      "cell_type": "code",
      "source": [
        "num =input(\"Enter you marks in numerical and integer form:  \")\n",
        "while num.isdigit()==False or float(num) != float(num)//1 or float(num)>100 or float(num)<0:\n",
        "  num = input(\"Oops, wrong input, enter you marks in NUMERICAL and INTEGER form:   \")\n",
        "\n",
        "num = int(num)\n",
        "if num >= 90:\n",
        "  print(\"Your grade is A\")\n",
        "elif num >= 80:\n",
        "  print(\"Your grade is B\")\n",
        "elif num >= 70:\n",
        "  print(\"Your grade is C\")\n",
        "elif num >= 60:\n",
        "  print(\"Your grade is D\")  \n",
        "else:\n",
        "  print(\"Your grade is E\") "
      ],
      "metadata": {
        "colab": {
          "base_uri": "https://localhost:8080/"
        },
        "id": "RtBKZNmXEZPJ",
        "outputId": "75d5e7b5-2cd4-49aa-c91b-4ea12c32f9f4"
      },
      "execution_count": null,
      "outputs": [
        {
          "output_type": "stream",
          "name": "stdout",
          "text": [
            "Enter you marks in numerical and integer form:  adfv\n",
            "Oops, wrong input, enter you marks in NUMERICAL and INTEGER form:   134r5.2345\n",
            "Oops, wrong input, enter you marks in NUMERICAL and INTEGER form:   123.123\n",
            "Oops, wrong input, enter you marks in NUMERICAL and INTEGER form:   123\n",
            "Oops, wrong input, enter you marks in NUMERICAL and INTEGER form:   84\n",
            "Your grade is B\n"
          ]
        }
      ]
    },
    {
      "cell_type": "markdown",
      "source": [
        "Activity: Compute factorial of a number using while loop"
      ],
      "metadata": {
        "id": "HFUPDa0wH_tb"
      }
    },
    {
      "cell_type": "code",
      "source": [
        "a = int(input(\"Enter the number of your choice\"))\n",
        "if a == 13:\n",
        "  print(\"yes the number is 13\")\n",
        "else:\n",
        "  print(\"no, the given number is not 13\")"
      ],
      "metadata": {
        "id": "UnNex_MqH_SV",
        "colab": {
          "base_uri": "https://localhost:8080/"
        },
        "outputId": "02ed6ed1-ee4f-4293-c6b0-42a79f6f4e17"
      },
      "execution_count": null,
      "outputs": [
        {
          "output_type": "stream",
          "name": "stdout",
          "text": [
            "Enter the number of your choice13\n",
            "yes the number is 13\n"
          ]
        }
      ]
    },
    {
      "cell_type": "code",
      "source": [
        "a = int(input(\"Enter the number which you want to check whether its divisible by 10\"))\n",
        "\n",
        "if a % 10 == 0:\n",
        "  print(f'the number {a} is divisible by 10')\n",
        "else:\n",
        "  print(f'the number {a} is not divisible by 10')"
      ],
      "metadata": {
        "colab": {
          "base_uri": "https://localhost:8080/"
        },
        "id": "Rk_0M6QJ0UAi",
        "outputId": "87036b2c-b853-4683-a029-c1ce48542aca"
      },
      "execution_count": null,
      "outputs": [
        {
          "output_type": "stream",
          "name": "stdout",
          "text": [
            "Enter the number which you want to check whether its divisible by 10105\n",
            "the number 105 is not divisible by 10\n"
          ]
        }
      ]
    },
    {
      "cell_type": "code",
      "source": [
        "a = int(input(\"Enter the number which you want to check whether its divisible by 10: \"))\n",
        "\n",
        "if a % 10 == 0:\n",
        "  print(f'the number {a} is divisible by 10')\n",
        "elif a % 5 == 0:\n",
        "  print(f'the number {a} is divisible by 5')\n",
        "else:\n",
        "  print(f'the number {a} is not divisible neither by 5 nor 10')"
      ],
      "metadata": {
        "colab": {
          "base_uri": "https://localhost:8080/"
        },
        "id": "Nhh1qgG92m2L",
        "outputId": "e9aec1cc-5f72-4a37-cb28-4a715c7a69a5"
      },
      "execution_count": null,
      "outputs": [
        {
          "output_type": "stream",
          "name": "stdout",
          "text": [
            "Enter the number which you want to check whether its divisible by 10: 121\n",
            "the number 121 is not divisible neither by 5 nor 10\n"
          ]
        }
      ]
    },
    {
      "cell_type": "code",
      "source": [
        "num = int(input(\"Enter an integer, you wish to check whether its even or odd: \"))\n",
        "while type(num) != int:\n",
        "  num = int(input(\"Enter an INTEGER, you wish to check whether its even or odd: \"))\n",
        "if num % 2 == 0:\n",
        "  print(f\"The given integer,{num} is even\")\n",
        "else:\n",
        "    print(f\"The given integer,{num} is odd\")"
      ],
      "metadata": {
        "colab": {
          "base_uri": "https://localhost:8080/",
          "height": 263
        },
        "id": "H0yEmQ2p4S80",
        "outputId": "c22f2234-c2de-44ad-ef5a-9ee9af5568b4"
      },
      "execution_count": null,
      "outputs": [
        {
          "name": "stdout",
          "output_type": "stream",
          "text": [
            "Enter an integer, you wish to check whether its even or odd: rama\n"
          ]
        },
        {
          "output_type": "error",
          "ename": "ValueError",
          "evalue": "ignored",
          "traceback": [
            "\u001b[0;31m---------------------------------------------------------------------------\u001b[0m",
            "\u001b[0;31mValueError\u001b[0m                                Traceback (most recent call last)",
            "\u001b[0;32m<ipython-input-29-34aaf266470a>\u001b[0m in \u001b[0;36m<module>\u001b[0;34m()\u001b[0m\n\u001b[0;32m----> 1\u001b[0;31m \u001b[0mnum\u001b[0m \u001b[0;34m=\u001b[0m \u001b[0mint\u001b[0m\u001b[0;34m(\u001b[0m\u001b[0minput\u001b[0m\u001b[0;34m(\u001b[0m\u001b[0;34m\"Enter an integer, you wish to check whether its even or odd: \"\u001b[0m\u001b[0;34m)\u001b[0m\u001b[0;34m)\u001b[0m\u001b[0;34m\u001b[0m\u001b[0;34m\u001b[0m\u001b[0m\n\u001b[0m\u001b[1;32m      2\u001b[0m \u001b[0;32mwhile\u001b[0m \u001b[0mtype\u001b[0m\u001b[0;34m(\u001b[0m\u001b[0mnum\u001b[0m\u001b[0;34m)\u001b[0m \u001b[0;34m!=\u001b[0m \u001b[0mint\u001b[0m\u001b[0;34m:\u001b[0m\u001b[0;34m\u001b[0m\u001b[0;34m\u001b[0m\u001b[0m\n\u001b[1;32m      3\u001b[0m   \u001b[0mnum\u001b[0m \u001b[0;34m=\u001b[0m \u001b[0mint\u001b[0m\u001b[0;34m(\u001b[0m\u001b[0minput\u001b[0m\u001b[0;34m(\u001b[0m\u001b[0;34m\"Enter an INTEGER, you wish to check whether its even or odd: \"\u001b[0m\u001b[0;34m)\u001b[0m\u001b[0;34m)\u001b[0m\u001b[0;34m\u001b[0m\u001b[0;34m\u001b[0m\u001b[0m\n\u001b[1;32m      4\u001b[0m \u001b[0;32mif\u001b[0m \u001b[0mnum\u001b[0m \u001b[0;34m%\u001b[0m \u001b[0;36m2\u001b[0m \u001b[0;34m==\u001b[0m \u001b[0;36m0\u001b[0m\u001b[0;34m:\u001b[0m\u001b[0;34m\u001b[0m\u001b[0;34m\u001b[0m\u001b[0m\n\u001b[1;32m      5\u001b[0m   \u001b[0mprint\u001b[0m\u001b[0;34m(\u001b[0m\u001b[0;34mf\"The given integer,{num} is even\"\u001b[0m\u001b[0;34m)\u001b[0m\u001b[0;34m\u001b[0m\u001b[0;34m\u001b[0m\u001b[0m\n",
            "\u001b[0;31mValueError\u001b[0m: invalid literal for int() with base 10: 'rama'"
          ]
        }
      ]
    },
    {
      "cell_type": "code",
      "source": [
        "a =  \"12.3\"\n",
        "a = float(a)\n",
        "print(int(a))\n",
        "\n",
        "print(a//5)"
      ],
      "metadata": {
        "colab": {
          "base_uri": "https://localhost:8080/"
        },
        "id": "3YF0K9Rq9e44",
        "outputId": "ac0ff82a-6fb7-4ece-c6f5-0a4866b2f4c6"
      },
      "execution_count": null,
      "outputs": [
        {
          "output_type": "stream",
          "name": "stdout",
          "text": [
            "12\n",
            "2.0\n"
          ]
        }
      ]
    },
    {
      "cell_type": "code",
      "source": [
        "a.isdigit()"
      ],
      "metadata": {
        "colab": {
          "base_uri": "https://localhost:8080/",
          "height": 171
        },
        "id": "Y0how--vFZDo",
        "outputId": "1a6363bc-2342-4457-8d9a-b94b568da4c5"
      },
      "execution_count": null,
      "outputs": [
        {
          "output_type": "error",
          "ename": "AttributeError",
          "evalue": "ignored",
          "traceback": [
            "\u001b[0;31m---------------------------------------------------------------------------\u001b[0m",
            "\u001b[0;31mAttributeError\u001b[0m                            Traceback (most recent call last)",
            "\u001b[0;32m<ipython-input-42-4e70a3185e4d>\u001b[0m in \u001b[0;36m<module>\u001b[0;34m()\u001b[0m\n\u001b[0;32m----> 1\u001b[0;31m \u001b[0ma\u001b[0m\u001b[0;34m.\u001b[0m\u001b[0misdigit\u001b[0m\u001b[0;34m(\u001b[0m\u001b[0;34m)\u001b[0m\u001b[0;34m\u001b[0m\u001b[0;34m\u001b[0m\u001b[0m\n\u001b[0m",
            "\u001b[0;31mAttributeError\u001b[0m: 'float' object has no attribute 'isdigit'"
          ]
        }
      ]
    },
    {
      "cell_type": "code",
      "source": [
        "86//1"
      ],
      "metadata": {
        "colab": {
          "base_uri": "https://localhost:8080/"
        },
        "id": "YU_XSfmF-R2W",
        "outputId": "4273b826-1923-4a69-eb46-147e4ac4a004"
      },
      "execution_count": null,
      "outputs": [
        {
          "output_type": "execute_result",
          "data": {
            "text/plain": [
              "86"
            ]
          },
          "metadata": {},
          "execution_count": 37
        }
      ]
    },
    {
      "cell_type": "code",
      "source": [
        "num != num//1\n"
      ],
      "metadata": {
        "colab": {
          "base_uri": "https://localhost:8080/",
          "height": 190
        },
        "id": "XE2rXnyeDbQR",
        "outputId": "ef6387c3-1496-4d3f-d147-a91a85445791"
      },
      "execution_count": null,
      "outputs": [
        {
          "output_type": "error",
          "ename": "NameError",
          "evalue": "ignored",
          "traceback": [
            "\u001b[0;31m---------------------------------------------------------------------------\u001b[0m",
            "\u001b[0;31mNameError\u001b[0m                                 Traceback (most recent call last)",
            "\u001b[0;32m<ipython-input-46-ec318eecf4af>\u001b[0m in \u001b[0;36m<module>\u001b[0;34m()\u001b[0m\n\u001b[1;32m      1\u001b[0m \u001b[0;36m86.6\u001b[0m\u001b[0;34m//\u001b[0m\u001b[0;36m1\u001b[0m \u001b[0;31m#floor div\u001b[0m\u001b[0;34m\u001b[0m\u001b[0;34m\u001b[0m\u001b[0m\n\u001b[0;32m----> 2\u001b[0;31m \u001b[0mfloor\u001b[0m\u001b[0;34m(\u001b[0m\u001b[0;36m86.6\u001b[0m\u001b[0;34m)\u001b[0m\u001b[0;34m\u001b[0m\u001b[0;34m\u001b[0m\u001b[0m\n\u001b[0m",
            "\u001b[0;31mNameError\u001b[0m: name 'floor' is not defined"
          ]
        }
      ]
    },
    {
      "cell_type": "code",
      "source": [
        "23"
      ],
      "metadata": {
        "colab": {
          "base_uri": "https://localhost:8080/"
        },
        "id": "9JsB1HXjDeqB",
        "outputId": "f988f702-49ab-4160-bc16-0fe5d80e9acd"
      },
      "execution_count": null,
      "outputs": [
        {
          "output_type": "execute_result",
          "data": {
            "text/plain": [
              "23"
            ]
          },
          "metadata": {},
          "execution_count": 58
        }
      ]
    },
    {
      "cell_type": "code",
      "source": [
        "23%10==0"
      ],
      "metadata": {
        "colab": {
          "base_uri": "https://localhost:8080/"
        },
        "id": "C0OBchO1FWQI",
        "outputId": "d67ff9de-cb46-4084-dedf-a5679c24df71"
      },
      "execution_count": null,
      "outputs": [
        {
          "output_type": "execute_result",
          "data": {
            "text/plain": [
              "False"
            ]
          },
          "metadata": {},
          "execution_count": 59
        }
      ]
    },
    {
      "cell_type": "code",
      "source": [
        "#not ending with 0"
      ],
      "metadata": {
        "id": "aLapnWwlJQfa"
      },
      "execution_count": null,
      "outputs": []
    },
    {
      "cell_type": "code",
      "source": [
        "23%5==0"
      ],
      "metadata": {
        "colab": {
          "base_uri": "https://localhost:8080/"
        },
        "id": "AyabfRWoJkp0",
        "outputId": "bf618866-f787-47d1-fed5-2fbe8ee32e28"
      },
      "execution_count": null,
      "outputs": [
        {
          "output_type": "execute_result",
          "data": {
            "text/plain": [
              "False"
            ]
          },
          "metadata": {},
          "execution_count": 61
        }
      ]
    },
    {
      "cell_type": "code",
      "source": [
        "# not ending with 5"
      ],
      "metadata": {
        "id": "XHEZWCb-Jpqw"
      },
      "execution_count": null,
      "outputs": []
    },
    {
      "cell_type": "code",
      "source": [
        "#end other"
      ],
      "metadata": {
        "id": "UsR3pH_VJtU9"
      },
      "execution_count": null,
      "outputs": []
    },
    {
      "cell_type": "code",
      "source": [
        "num =input(\"Enter you marks in numerical and integer form:  \")\n",
        "while num.isdigit()==False or float(num) != float(num)//1 or float(num)>100 or float(num)<0:\n",
        "  num = input(\"Oops, wrong input, enter you marks in NUMERICAL and INTEGER form:   \")\n",
        "\n",
        "num = int(num)\n",
        "\n",
        "if num >= 60  and  num < 70:  \n",
        "   print(\"Your grade is D\")      \n",
        "elif num >= 70 and  num < 80:\n",
        "   print(\"Your grade is C\")\n",
        "elif num >= 80 and  num < 90:\n",
        "   print(\"Your grade is B\")\n",
        "elif num >= 90:\n",
        "  print(\"Your grade is A\")  \n",
        "else:\n",
        "    print(\"Your grade is E\") "
      ],
      "metadata": {
        "colab": {
          "base_uri": "https://localhost:8080/"
        },
        "id": "e6bIKBMKRVsB",
        "outputId": "ee8e7331-e343-45d8-9656-dafe38e6eff4"
      },
      "execution_count": null,
      "outputs": [
        {
          "output_type": "stream",
          "name": "stdout",
          "text": [
            "Enter you marks in numerical and integer form:  56\n",
            "Your grade is E\n"
          ]
        }
      ]
    },
    {
      "cell_type": "code",
      "source": [
        "a = 10 #assign"
      ],
      "metadata": {
        "id": "Wl4zz7EtRU6Z"
      },
      "execution_count": null,
      "outputs": []
    },
    {
      "cell_type": "code",
      "source": [
        "a"
      ],
      "metadata": {
        "colab": {
          "base_uri": "https://localhost:8080/"
        },
        "id": "JfY1yCWmW-Si",
        "outputId": "3b1f7236-68ae-4bbe-dcee-9c3ee9f67813"
      },
      "execution_count": null,
      "outputs": [
        {
          "output_type": "execute_result",
          "data": {
            "text/plain": [
              "10"
            ]
          },
          "metadata": {},
          "execution_count": 79
        }
      ]
    },
    {
      "cell_type": "code",
      "source": [
        "a == 10  #comparision"
      ],
      "metadata": {
        "colab": {
          "base_uri": "https://localhost:8080/"
        },
        "id": "0D034Rr4W-QW",
        "outputId": "a5409160-2d39-478d-80fb-aa67b24a044e"
      },
      "execution_count": null,
      "outputs": [
        {
          "output_type": "execute_result",
          "data": {
            "text/plain": [
              "True"
            ]
          },
          "metadata": {},
          "execution_count": 80
        }
      ]
    },
    {
      "cell_type": "code",
      "source": [
        "a == 13"
      ],
      "metadata": {
        "colab": {
          "base_uri": "https://localhost:8080/"
        },
        "id": "YrN8CMdlW-M-",
        "outputId": "39f6e277-351a-49c7-f4dc-a6fc3b6752bc"
      },
      "execution_count": null,
      "outputs": [
        {
          "output_type": "execute_result",
          "data": {
            "text/plain": [
              "False"
            ]
          },
          "metadata": {},
          "execution_count": 81
        }
      ]
    },
    {
      "cell_type": "code",
      "source": [
        "a+=1  # a = a+1\n"
      ],
      "metadata": {
        "id": "hBvN2fyrW-LC"
      },
      "execution_count": null,
      "outputs": []
    },
    {
      "cell_type": "code",
      "source": [
        "a"
      ],
      "metadata": {
        "colab": {
          "base_uri": "https://localhost:8080/"
        },
        "id": "t2Sx1yrdW-Iw",
        "outputId": "2fdb97f5-b162-48c6-a53f-25b82473ff10"
      },
      "execution_count": null,
      "outputs": [
        {
          "output_type": "execute_result",
          "data": {
            "text/plain": [
              "11"
            ]
          },
          "metadata": {},
          "execution_count": 83
        }
      ]
    },
    {
      "cell_type": "code",
      "source": [
        "a*=3\n",
        "a"
      ],
      "metadata": {
        "colab": {
          "base_uri": "https://localhost:8080/"
        },
        "id": "k7aqUdQ5W98H",
        "outputId": "dc46e619-47fa-4238-c185-64fdb167a427"
      },
      "execution_count": null,
      "outputs": [
        {
          "output_type": "execute_result",
          "data": {
            "text/plain": [
              "33"
            ]
          },
          "metadata": {},
          "execution_count": 84
        }
      ]
    },
    {
      "cell_type": "code",
      "source": [
        "from  math import *"
      ],
      "metadata": {
        "id": "75V3nZvzXdt5"
      },
      "execution_count": null,
      "outputs": []
    },
    {
      "cell_type": "code",
      "source": [
        "log(50)"
      ],
      "metadata": {
        "colab": {
          "base_uri": "https://localhost:8080/"
        },
        "id": "xWNp-iUxZBnB",
        "outputId": "e96e80d1-d5d4-4576-9ff5-e29941924fc7"
      },
      "execution_count": null,
      "outputs": [
        {
          "output_type": "execute_result",
          "data": {
            "text/plain": [
              "3.912023005428146"
            ]
          },
          "metadata": {},
          "execution_count": 103
        }
      ]
    },
    {
      "cell_type": "code",
      "source": [
        "import random"
      ],
      "metadata": {
        "id": "JLXd8N3-ZD1T"
      },
      "execution_count": null,
      "outputs": []
    },
    {
      "cell_type": "code",
      "source": [
        "z = random.randint(0,100)\n",
        "z"
      ],
      "metadata": {
        "colab": {
          "base_uri": "https://localhost:8080/"
        },
        "id": "UyeEBRPKZfzN",
        "outputId": "51fcc8f2-bd0a-406d-e6e8-ac5915528aa2"
      },
      "execution_count": null,
      "outputs": [
        {
          "output_type": "execute_result",
          "data": {
            "text/plain": [
              "76"
            ]
          },
          "metadata": {},
          "execution_count": 96
        }
      ]
    },
    {
      "cell_type": "code",
      "source": [
        "from random import *"
      ],
      "metadata": {
        "id": "Hq7SKx7uZov0"
      },
      "execution_count": null,
      "outputs": []
    },
    {
      "cell_type": "code",
      "source": [
        "s = randint(0,100)\n",
        "z = randint(0,100)\n",
        "# z = z + random()\n",
        "print(z)\n",
        "print(s)"
      ],
      "metadata": {
        "colab": {
          "base_uri": "https://localhost:8080/"
        },
        "id": "f6WlF9uOaC_x",
        "outputId": "49adfc01-8903-47c4-f0a4-8d8cb90781ed"
      },
      "execution_count": null,
      "outputs": [
        {
          "output_type": "stream",
          "name": "stdout",
          "text": [
            "53\n",
            "95\n"
          ]
        }
      ]
    },
    {
      "cell_type": "code",
      "source": [
        "z"
      ],
      "metadata": {
        "id": "jVuGL55WdYfK"
      },
      "execution_count": null,
      "outputs": []
    },
    {
      "cell_type": "code",
      "source": [
        "from pandas import *"
      ],
      "metadata": {
        "id": "HWVRmJT6aG_L"
      },
      "execution_count": null,
      "outputs": []
    },
    {
      "cell_type": "code",
      "source": [
        "x = 123456\n",
        "x"
      ],
      "metadata": {
        "colab": {
          "base_uri": "https://localhost:8080/"
        },
        "id": "N09hA59AatBW",
        "outputId": "30bf8012-e2f3-40bd-94a2-51e79aa26a73"
      },
      "execution_count": null,
      "outputs": [
        {
          "output_type": "execute_result",
          "data": {
            "text/plain": [
              "123456"
            ]
          },
          "metadata": {},
          "execution_count": 108
        }
      ]
    },
    {
      "cell_type": "code",
      "source": [
        "s =12\n",
        "a =13\n",
        "\n"
      ],
      "metadata": {
        "colab": {
          "base_uri": "https://localhost:8080/"
        },
        "id": "efp7__sla5l_",
        "outputId": "9634f6d1-859a-4f6a-854a-648d5af8aefd"
      },
      "execution_count": null,
      "outputs": [
        {
          "output_type": "execute_result",
          "data": {
            "text/plain": [
              "13"
            ]
          },
          "metadata": {},
          "execution_count": 153
        }
      ]
    },
    {
      "cell_type": "code",
      "source": [
        "z = random()\n",
        "z"
      ],
      "metadata": {
        "colab": {
          "base_uri": "https://localhost:8080/"
        },
        "id": "g5G15oJbeViz",
        "outputId": "d23ed7bf-c962-4807-db26-e5363b89154a"
      },
      "execution_count": null,
      "outputs": [
        {
          "output_type": "execute_result",
          "data": {
            "text/plain": [
              "0.752040027556959"
            ]
          },
          "metadata": {},
          "execution_count": 163
        }
      ]
    },
    {
      "cell_type": "code",
      "source": [
        "s = randint(20,30)\n",
        "s"
      ],
      "metadata": {
        "colab": {
          "base_uri": "https://localhost:8080/"
        },
        "id": "gZCV0gQ0hhuw",
        "outputId": "897bd645-09de-409f-a017-ea008744c4a1"
      },
      "execution_count": null,
      "outputs": [
        {
          "output_type": "execute_result",
          "data": {
            "text/plain": [
              "23"
            ]
          },
          "metadata": {},
          "execution_count": 168
        }
      ]
    },
    {
      "cell_type": "code",
      "source": [
        "\n",
        "z = randint(20,30)\n",
        "z = z + random()\n",
        "z"
      ],
      "metadata": {
        "colab": {
          "base_uri": "https://localhost:8080/"
        },
        "id": "MAd7GFhah5zG",
        "outputId": "69f7e53e-9a74-4347-cbad-81939e86de08"
      },
      "execution_count": null,
      "outputs": [
        {
          "output_type": "execute_result",
          "data": {
            "text/plain": [
              "22.31045251857165"
            ]
          },
          "metadata": {},
          "execution_count": 171
        }
      ]
    },
    {
      "cell_type": "code",
      "source": [
        "z = uniform(20,30)\n",
        "z"
      ],
      "metadata": {
        "colab": {
          "base_uri": "https://localhost:8080/"
        },
        "id": "7m1AeTCdiT7q",
        "outputId": "839f0d7a-22ee-4765-e688-38a2754fb532"
      },
      "execution_count": null,
      "outputs": [
        {
          "output_type": "execute_result",
          "data": {
            "text/plain": [
              "28.622824478110015"
            ]
          },
          "metadata": {},
          "execution_count": 172
        }
      ]
    },
    {
      "cell_type": "code",
      "source": [
        "# import random\n",
        "# from random import *"
      ],
      "metadata": {
        "id": "oVDfixOyiemA"
      },
      "execution_count": null,
      "outputs": []
    },
    {
      "cell_type": "code",
      "source": [
        "# syntax:\n",
        "\n",
        "\n",
        "# import library_name\n",
        "\n",
        "import math \n",
        "\n",
        "# from library_name import *\n",
        "from math import *"
      ],
      "metadata": {
        "id": "0H2Rc3E1jWam"
      },
      "execution_count": null,
      "outputs": []
    },
    {
      "cell_type": "code",
      "source": [
        "m.log(50)"
      ],
      "metadata": {
        "colab": {
          "base_uri": "https://localhost:8080/"
        },
        "id": "KxDsPQLglaSP",
        "outputId": "3c7534fa-6b39-410b-afc9-1040ed924947"
      },
      "execution_count": null,
      "outputs": [
        {
          "output_type": "execute_result",
          "data": {
            "text/plain": [
              "3.912023005428146"
            ]
          },
          "metadata": {},
          "execution_count": 23
        }
      ]
    },
    {
      "cell_type": "code",
      "source": [
        "log(50)"
      ],
      "metadata": {
        "colab": {
          "base_uri": "https://localhost:8080/"
        },
        "id": "GbMupx3Jlc-3",
        "outputId": "ad520b05-4a60-45e9-ca9f-96ba2d4f1d06"
      },
      "execution_count": null,
      "outputs": [
        {
          "output_type": "execute_result",
          "data": {
            "text/plain": [
              "3.912023005428146"
            ]
          },
          "metadata": {},
          "execution_count": 20
        }
      ]
    },
    {
      "cell_type": "code",
      "source": [
        ""
      ],
      "metadata": {
        "id": "7xFNoLColn5y"
      },
      "execution_count": null,
      "outputs": []
    }
  ]
}