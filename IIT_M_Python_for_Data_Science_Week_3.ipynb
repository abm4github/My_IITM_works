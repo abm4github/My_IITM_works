{
  "nbformat": 4,
  "nbformat_minor": 0,
  "metadata": {
    "colab": {
      "name": "IIT-M_Python_for_Data_Science_Week_3.ipynb",
      "provenance": [],
      "collapsed_sections": [],
      "authorship_tag": "ABX9TyMmE8fGfh3SPNIhiCOGVVNi",
      "include_colab_link": true
    },
    "kernelspec": {
      "name": "python3",
      "display_name": "Python 3"
    },
    "language_info": {
      "name": "python"
    }
  },
  "cells": [
    {
      "cell_type": "markdown",
      "metadata": {
        "id": "view-in-github",
        "colab_type": "text"
      },
      "source": [
        "<a href=\"https://colab.research.google.com/github/abm4github/My_IITM_works/blob/main/IIT_M_Python_for_Data_Science_Week_3.ipynb\" target=\"_parent\"><img src=\"https://colab.research.google.com/assets/colab-badge.svg\" alt=\"Open In Colab\"/></a>"
      ]
    },
    {
      "cell_type": "markdown",
      "source": [
        "# Practice problems on while loop "
      ],
      "metadata": {
        "id": "b394TMgmnePe"
      }
    },
    {
      "cell_type": "markdown",
      "source": [
        "##Problem 1: Find the factorial of the given number"
      ],
      "metadata": {
        "id": "8BnQeIsZqp3C"
      }
    },
    {
      "cell_type": "code",
      "source": [
        "num = input(\"Enter a positive integer, whose factorial is to be calculated: \")\n",
        "factorial = 1\n",
        "while num.isdigit()== False or float(num) != float(num)//1 or float(num) < 0:\n",
        "  print(f\"The factorial of {num} is not defined\")\n",
        "  num = input(\"Enter a positive integer, whose factorial is to be calculated: \")\n",
        "\n",
        "i = int(num)\n",
        "if i == 0:\n",
        "  print(f\"Factorial of {num} is {factorial}\")\n",
        "else:\n",
        "  while i > 1:\n",
        "    factorial =  factorial * i\n",
        "    i -= 1\n",
        "  print(f\"Factorial of {num} is {factorial}\")"
      ],
      "metadata": {
        "colab": {
          "base_uri": "https://localhost:8080/"
        },
        "id": "l67BEvMYnnSc",
        "outputId": "fae39d5d-02fc-43f4-a673-0b7c89f61eae"
      },
      "execution_count": null,
      "outputs": [
        {
          "output_type": "stream",
          "name": "stdout",
          "text": [
            "Enter a positive integer, whose factorial is to be calculated: 4\n",
            "Factorial of 4 is 24\n"
          ]
        }
      ]
    },
    {
      "cell_type": "markdown",
      "source": [
        "##Problem 2: Find the number of digits in the given number"
      ],
      "metadata": {
        "id": "ODO3ifHcq5F-"
      }
    },
    {
      "cell_type": "code",
      "source": [
        "num = input(\"Enter an integer, whose number of digits is to be counted: \")\n",
        "digits = 0\n",
        "while (num.isdigit()== False and num[0] != '-') or float(num) != float(num)//1:\n",
        "  print(f\"The given input, {num} is not an integer\")\n",
        "  num = input(\"Enter an integer, whose number of digits is to be counted: \")\n",
        "\n",
        "i = num\n",
        "\n",
        "if int(i) < 0:\n",
        "  digits = len(i)-1\n",
        "else:\n",
        "  digits = len(i)\n",
        "\n",
        "print(f\"The total number of digits in {num}: {digits}\")"
      ],
      "metadata": {
        "colab": {
          "base_uri": "https://localhost:8080/"
        },
        "id": "YbYsTnokpvol",
        "outputId": "3eab9d84-70c2-42eb-aa33-23a4ebabd16e"
      },
      "execution_count": null,
      "outputs": [
        {
          "output_type": "stream",
          "name": "stdout",
          "text": [
            "Enter an integer, whose number of digits is to be counted: -1988\n",
            "The total number of digits in -1988: 4\n"
          ]
        }
      ]
    },
    {
      "cell_type": "markdown",
      "source": [
        "##Problem 3: Reverse the digits in the given number"
      ],
      "metadata": {
        "id": "05jht-glvCh4"
      }
    },
    {
      "cell_type": "code",
      "source": [
        "num = input(\"Enter an integer, whose number of digits is to be counted: \")\n",
        "reverse_num = \"\"\n",
        "while (num.isdigit()== False and num[0] != '-') or float(num) != float(num)//1:\n",
        "  print(f\"The given input, {num} is not an integer\")\n",
        "  num = input(\"Enter an integer, whose number of digits is to be counted: \")\n",
        "\n",
        "i = num\n",
        "if int(i) < 0:\n",
        "  j = 1\n",
        "  while (j < len(i)):\n",
        "    reverse_num = num[j] + reverse_num\n",
        "    j += 1\n",
        "  reverse_num = '-' + reverse_num\n",
        "else:\n",
        "  j = 0\n",
        "  while (j < len(i)):\n",
        "    reverse_num = num[j]+reverse_num\n",
        "    j +=1\n",
        "\n",
        "print(f\"The digits of {num} in reverse order: {reverse_num}\")"
      ],
      "metadata": {
        "id": "BL8fcSvWvHJl",
        "colab": {
          "base_uri": "https://localhost:8080/"
        },
        "outputId": "b48bc6c2-b60d-4d4e-caaa-fc958a2c9b78"
      },
      "execution_count": 11,
      "outputs": [
        {
          "output_type": "stream",
          "name": "stdout",
          "text": [
            "Enter an integer, whose number of digits is to be counted: -987654321\n",
            "The digits of -987654321 in reverse order: -123456789\n"
          ]
        }
      ]
    },
    {
      "cell_type": "markdown",
      "source": [
        "##Problem 4: Find whether the entered number is palindrome or not"
      ],
      "metadata": {
        "id": "4f1MGOWmDBKq"
      }
    },
    {
      "cell_type": "code",
      "source": [
        "num = input(\"Enter an integer, whose number of digits is to be counted: \")\n",
        "reverse_num = \"\"\n",
        "while (num.isdigit()== False and num[0] != '-') or float(num) != float(num)//1:\n",
        "  print(f\"The given input, {num} is not an integer\")\n",
        "  num = input(\"Enter an integer, whose number of digits is to be counted: \")\n",
        "\n",
        "i = num\n",
        "if int(i) < 0:\n",
        "  j = 1\n",
        "  while (j < len(i)):\n",
        "    reverse_num = num[j] + reverse_num\n",
        "    j += 1\n",
        "  reverse_num = '-' + reverse_num\n",
        "else:\n",
        "  j = 0\n",
        "  while (j < len(i)):\n",
        "    reverse_num = num[j]+reverse_num\n",
        "    j +=1\n",
        "\n",
        "\n",
        "if num == reverse_num:\n",
        "  print(f\"{num} is palindrome\")\n",
        "else:\n",
        "  print(f\"{num} is not a palindrome\")"
      ],
      "metadata": {
        "colab": {
          "base_uri": "https://localhost:8080/"
        },
        "id": "-fBwc__sEK0J",
        "outputId": "1bb279d5-985c-41a6-aec1-83189f1ad60f"
      },
      "execution_count": 15,
      "outputs": [
        {
          "output_type": "stream",
          "name": "stdout",
          "text": [
            "Enter an integer, whose number of digits is to be counted: -123454321\n",
            "-123454321 is palindrome\n"
          ]
        }
      ]
    }
  ]
}