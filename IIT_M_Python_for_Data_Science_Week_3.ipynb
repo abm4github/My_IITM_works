{
  "nbformat": 4,
  "nbformat_minor": 0,
  "metadata": {
    "colab": {
      "name": "IIT-M_Python_for_Data_Science_Week_3.ipynb",
      "provenance": [],
      "collapsed_sections": [],
      "authorship_tag": "ABX9TyMVwh0UMgLYU1F6nyOpEEBM",
      "include_colab_link": true
    },
    "kernelspec": {
      "name": "python3",
      "display_name": "Python 3"
    },
    "language_info": {
      "name": "python"
    }
  },
  "cells": [
    {
      "cell_type": "markdown",
      "metadata": {
        "id": "view-in-github",
        "colab_type": "text"
      },
      "source": [
        "<a href=\"https://colab.research.google.com/github/abm4github/My_IITM_works/blob/main/IIT_M_Python_for_Data_Science_Week_3.ipynb\" target=\"_parent\"><img src=\"https://colab.research.google.com/assets/colab-badge.svg\" alt=\"Open In Colab\"/></a>"
      ]
    },
    {
      "cell_type": "markdown",
      "source": [
        "## Practice problems on while loop "
      ],
      "metadata": {
        "id": "b394TMgmnePe"
      }
    },
    {
      "cell_type": "markdown",
      "source": [
        "###Problem 1: Find the factorial of the given number"
      ],
      "metadata": {
        "id": "8BnQeIsZqp3C"
      }
    },
    {
      "cell_type": "code",
      "source": [
        "num = input(\"Enter a positive integer, whose factorial is to be calculated: \")\n",
        "factorial = 1\n",
        "while num.isdigit()== False or float(num) != float(num)//1 or float(num) < 0:\n",
        "  print(f\"The factorial of {num} is not defined\")\n",
        "  num = input(\"Enter a positive integer, whose factorial is to be calculated: \")\n",
        "\n",
        "i = int(num)\n",
        "if i == 0:\n",
        "  print(f\"Factorial of {num} is {factorial}\")\n",
        "else:\n",
        "  while i > 1:\n",
        "    factorial =  factorial * i\n",
        "    i -= 1\n",
        "  print(f\"Factorial of {num} is {factorial}\")"
      ],
      "metadata": {
        "colab": {
          "base_uri": "https://localhost:8080/"
        },
        "id": "l67BEvMYnnSc",
        "outputId": "fdf96613-cc70-4909-fdea-b6bbbe7ea957"
      },
      "execution_count": null,
      "outputs": [
        {
          "output_type": "stream",
          "name": "stdout",
          "text": [
            "Enter a positive integer, whose factorial is to be calculated: 5\n",
            "Factorial of 5 is 120\n"
          ]
        }
      ]
    },
    {
      "cell_type": "markdown",
      "source": [
        "###Problem 2: Find the number of digits in the given number"
      ],
      "metadata": {
        "id": "ODO3ifHcq5F-"
      }
    },
    {
      "cell_type": "code",
      "source": [
        "num = input(\"Enter an integer, whose number of digits is to be counted: \")\n",
        "digits = 0\n",
        "while (num.isdigit()== False and num[0] != '-') or float(num) != float(num)//1:\n",
        "  print(f\"The given input, {num} is not an integer\")\n",
        "  num = input(\"Enter an integer, whose number of digits is to be counted: \")\n",
        "\n",
        "i = num\n",
        "\n",
        "if int(i) < 0:\n",
        "  digits = len(i)-1\n",
        "else:\n",
        "  digits = len(i)\n",
        "\n",
        "print(f\"The total number of digits in {num}: {digits}\")"
      ],
      "metadata": {
        "colab": {
          "base_uri": "https://localhost:8080/"
        },
        "id": "YbYsTnokpvol",
        "outputId": "3eab9d84-70c2-42eb-aa33-23a4ebabd16e"
      },
      "execution_count": null,
      "outputs": [
        {
          "output_type": "stream",
          "name": "stdout",
          "text": [
            "Enter an integer, whose number of digits is to be counted: -1988\n",
            "The total number of digits in -1988: 4\n"
          ]
        }
      ]
    },
    {
      "cell_type": "markdown",
      "source": [
        "###Problem 3: Reverse the digits in the given number"
      ],
      "metadata": {
        "id": "05jht-glvCh4"
      }
    },
    {
      "cell_type": "code",
      "source": [
        "num = input(\"Enter an integer, whose digits are to be reversed: \")\n",
        "reverse_num = \"\"\n",
        "while (num.isdigit()== False and num[0] != '-') or float(num) != float(num)//1:\n",
        "  print(f\"The given input, {num} is not an integer\")\n",
        "  num = input(\"Enter an integer, whose digits are to be reversed: \")\n",
        "  \n",
        "i = num\n",
        "if int(i) < 0:\n",
        "  j = 1\n",
        "  while (j < len(i)):\n",
        "    reverse_num = num[j] + reverse_num\n",
        "    j += 1\n",
        "  reverse_num = '-' + reverse_num\n",
        "else:\n",
        "  j = 0\n",
        "  while (j < len(i)):\n",
        "    reverse_num = num[j]+reverse_num\n",
        "    j +=1\n",
        "\n",
        "print(f\"The digits of {num} in reverse order: {reverse_num}\")"
      ],
      "metadata": {
        "id": "BL8fcSvWvHJl",
        "colab": {
          "base_uri": "https://localhost:8080/"
        },
        "outputId": "b69b0c9e-0180-4254-9f72-cd1365f26469"
      },
      "execution_count": null,
      "outputs": [
        {
          "output_type": "stream",
          "name": "stdout",
          "text": [
            "Enter an integer, whose digits are to be reversed: -987654321\n",
            "The digits of -987654321 in reverse order: -123456789\n"
          ]
        }
      ]
    },
    {
      "cell_type": "markdown",
      "source": [
        "###Problem 4: Find whether the entered number is palindrome or not"
      ],
      "metadata": {
        "id": "4f1MGOWmDBKq"
      }
    },
    {
      "cell_type": "code",
      "source": [
        "num = input(\"Enter an integer, to find whether its apalindrome or not \")\n",
        "reverse_num = \"\"\n",
        "while (num.isdigit()== False and num[0] != '-') or float(num) != float(num)//1:\n",
        "  print(f\"The given input, {num} is not an integer\")\n",
        "  num = input(\"Enter an integer, to find whether its apalindrome or not \")\n",
        "\n",
        "i = num\n",
        "if int(i) < 0:\n",
        "  j = 1\n",
        "  while (j < len(i)):\n",
        "    reverse_num = num[j] + reverse_num\n",
        "    j += 1\n",
        "  reverse_num = '-' + reverse_num\n",
        "else:\n",
        "  j = 0\n",
        "  while (j < len(i)):\n",
        "    reverse_num = num[j]+reverse_num\n",
        "    j +=1\n",
        "\n",
        "\n",
        "if num == reverse_num:\n",
        "  print(f\"{num} is palindrome\")\n",
        "else:\n",
        "  print(f\"{num} is not a palindrome\")"
      ],
      "metadata": {
        "colab": {
          "base_uri": "https://localhost:8080/"
        },
        "id": "-fBwc__sEK0J",
        "outputId": "ca9d54c5-6f38-46d2-f8e6-3ba88ff3b88d"
      },
      "execution_count": null,
      "outputs": [
        {
          "output_type": "stream",
          "name": "stdout",
          "text": [
            "Enter an integer, to find whether its apalindrome or not -123454321\n",
            "-123454321 is palindrome\n"
          ]
        }
      ]
    },
    {
      "cell_type": "markdown",
      "source": [
        "##Formatting Print"
      ],
      "metadata": {
        "id": "XyJqAE9bv63S"
      }
    },
    {
      "cell_type": "code",
      "source": [
        "num = int(input())\n",
        "for i in range(1,11): \n",
        "  print('{0}x{1}={2}'.format(num, i, num*i))"
      ],
      "metadata": {
        "colab": {
          "base_uri": "https://localhost:8080/"
        },
        "id": "CBCc9w85wWF4",
        "outputId": "c82d8524-3991-449b-ee4f-823da9361d1f"
      },
      "execution_count": null,
      "outputs": [
        {
          "output_type": "stream",
          "name": "stdout",
          "text": [
            "5\n",
            "5x1=5\n",
            "5x2=10\n",
            "5x3=15\n",
            "5x4=20\n",
            "5x5=25\n",
            "5x6=30\n",
            "5x7=35\n",
            "5x8=40\n",
            "5x9=45\n",
            "5x10=50\n"
          ]
        }
      ]
    },
    {
      "cell_type": "markdown",
      "source": [
        "##Practice problems on nested loops"
      ],
      "metadata": {
        "id": "b3k4w3wBMMiV"
      }
    },
    {
      "cell_type": "markdown",
      "source": [
        "###Problem 1: Find all the prime numbers below the given number"
      ],
      "metadata": {
        "id": "HGp6wMUlMXb3"
      }
    },
    {
      "cell_type": "markdown",
      "source": [
        "Solution A"
      ],
      "metadata": {
        "id": "YiJ4ZwbEd9EZ"
      }
    },
    {
      "cell_type": "code",
      "source": [
        "num = input(\"Enter a positive integer,to find all the prime numbers below it: \")\n",
        "prime_numbers = [2]\n",
        "while num.isdigit()== False or float(num) != float(num)//1:\n",
        "  num = input(\"Enter a positive integer,to find all the prime numbers below it: \")\n",
        "\n",
        "if int(num) <= 2:\n",
        "  print(f\"There are no prime numbers below {num}\")\n",
        "  prime_numbers = []\n",
        "else:\n",
        "  i = int(num)\n",
        "  for j in range(3, i):\n",
        "    k = 1\n",
        "    is_prime = True\n",
        "    while k < j-1:\n",
        "      k+=1\n",
        "      if j % k == 0:\n",
        "        is_prime = False\n",
        "    if is_prime == True:\n",
        "      prime_numbers += [j]\n",
        "      \n",
        "for p in prime_numbers:\n",
        "  print(p, end = \" \")"
      ],
      "metadata": {
        "colab": {
          "base_uri": "https://localhost:8080/"
        },
        "id": "kdVbimb3xvRA",
        "outputId": "14b7e099-cabb-41a9-90e9-c1b64678456b"
      },
      "execution_count": null,
      "outputs": [
        {
          "output_type": "stream",
          "name": "stdout",
          "text": [
            "Enter a positive integer,to find all the prime numbers below it: 100\n",
            "2 3 5 7 11 13 17 19 23 29 31 37 41 43 47 53 59 61 67 71 73 79 83 89 97 "
          ]
        }
      ]
    },
    {
      "cell_type": "code",
      "source": [
        "# j = 6\n",
        "# k = 1\n",
        "# is_prime = True\n",
        "# prime_numbers = [2]\n",
        "# while k < j-1:\n",
        "#   k+=1\n",
        "#   if j % k == 0:\n",
        "#     is_prime = False\n",
        "# if is_prime == True:\n",
        "#   # prime_numbers += [j]\n",
        "#   print(j, end = \" \")\n"
      ],
      "metadata": {
        "id": "gy37016pPvSO"
      },
      "execution_count": null,
      "outputs": []
    },
    {
      "cell_type": "markdown",
      "source": [
        "Solution B"
      ],
      "metadata": {
        "id": "hY0oHMD7eCs1"
      }
    },
    {
      "cell_type": "code",
      "source": [
        "num = input(\"Enter a positive integer,to find all the prime numbers below it: \")\n",
        "prime_numbers = [2]\n",
        "while num.isdigit()== False or float(num) != float(num)//1:\n",
        "  num = input(\"Enter a positive integer,to find all the prime numbers below it: \")\n",
        "\n",
        "if int(num) <= 2:\n",
        "  print(f\"There are no prime numbers below {num}\")\n",
        "else:\n",
        "  print(2, end = \" \")\n",
        "  i = int(num)\n",
        "  for j in range(3, i):\n",
        "    k = 1\n",
        "    is_prime = True\n",
        "    while k < j-1:\n",
        "      k+=1\n",
        "      if j % k == 0:\n",
        "        is_prime = False\n",
        "    if is_prime == True:\n",
        "      print(j, end = \" \")   "
      ],
      "metadata": {
        "colab": {
          "base_uri": "https://localhost:8080/"
        },
        "id": "tCx0bAbBbPvq",
        "outputId": "85b1ef7d-d164-4e4f-d32b-482a7461210b"
      },
      "execution_count": null,
      "outputs": [
        {
          "output_type": "stream",
          "name": "stdout",
          "text": [
            "Enter a positive integer,to find all the prime numbers below it: 100\n",
            "2 3 5 7 11 13 17 19 23 29 31 37 41 43 47 53 59 61 67 71 73 79 83 89 97 "
          ]
        }
      ]
    },
    {
      "cell_type": "markdown",
      "source": [
        "Solution C"
      ],
      "metadata": {
        "id": "ieqPUKTleFX9"
      }
    },
    {
      "cell_type": "code",
      "source": [
        "num = input(\"Enter a positive integer,to find all the prime numbers below it: \")\n",
        "prime_numbers = [2]\n",
        "while num.isdigit()== False or float(num) != float(num)//1:\n",
        "  num = input(\"Enter a positive integer,to find all the prime numbers below it: \")\n",
        "\n",
        "if int(num) <= 2:\n",
        "  print(f\"There are no prime numbers below {num}\")\n",
        "  prime_numbers = []\n",
        "else:\n",
        "  print(2, end = \" \")\n",
        "  i = int(num)\n",
        "  for j in range(3, i):\n",
        "    k = 1\n",
        "    is_prime = True\n",
        "    for k in range(2, j-1):\n",
        "      if j % k == 0:\n",
        "        is_prime = False\n",
        "    if is_prime == True:\n",
        "      print(j, end = \" \")    "
      ],
      "metadata": {
        "colab": {
          "base_uri": "https://localhost:8080/"
        },
        "id": "-vEgZ6tYc3zh",
        "outputId": "9ea2995e-b36c-47d3-8df6-e7de3d6c7cad"
      },
      "execution_count": null,
      "outputs": [
        {
          "output_type": "stream",
          "name": "stdout",
          "text": [
            "Enter a positive integer,to find all the prime numbers below it: 100\n",
            "2 3 5 7 11 13 17 19 23 29 31 37 41 43 47 53 59 61 67 71 73 79 83 89 97 "
          ]
        }
      ]
    },
    {
      "cell_type": "markdown",
      "source": [
        "###Problem 2: Find the total profit/loss of each trader"
      ],
      "metadata": {
        "id": "EzMQq4RWT5d1"
      }
    },
    {
      "cell_type": "code",
      "source": [
        "trader_ID = \" \"\n",
        "while trader_ID != '-1':\n",
        "  trader_ID = input(\"Enter valid trader ID to check whether he/she incurred loss or gain: \")\n",
        "  if trader_ID == '-1':\n",
        "    print(\"\")\n",
        "  elif trader_ID != 'SJ_323' and trader_ID != 'PK_874' and trader_ID != 'VM_578' and trader_ID != 'AT_194':\n",
        "    print(\"Enter valid trader ID: \")\n",
        "  else:\n",
        "    trans_amount = 'a'\n",
        "    final_amount = 0\n",
        "    while trans_amount != 0:\n",
        "        trans_amount = int(input(\"Enter the transaction: \"))\n",
        "        final_amount += trans_amount\n",
        "\n",
        "    print(f\"{final_amount}\\n\")\n"
      ],
      "metadata": {
        "colab": {
          "base_uri": "https://localhost:8080/"
        },
        "id": "gtoSsSMdUMbF",
        "outputId": "afe8386a-3a83-4d5c-c8e6-f05f877b4d47"
      },
      "execution_count": 22,
      "outputs": [
        {
          "output_type": "stream",
          "name": "stdout",
          "text": [
            "Enter valid trader ID to check whether he/she incurred loss or gain: SJ_323\n",
            "Enter the transaction: 10\n",
            "Enter the transaction: 20\n",
            "Enter the transaction: -20\n",
            "Enter the transaction: 0\n",
            "10\n",
            "\n",
            "Enter valid trader ID to check whether he/she incurred loss or gain: -1\n",
            "\n"
          ]
        }
      ]
    },
    {
      "cell_type": "markdown",
      "source": [
        "###Problem 3: Find the day wise total rainfall and the total rainfall of the given week"
      ],
      "metadata": {
        "id": "Mqd6K_dyoR1X"
      }
    },
    {
      "cell_type": "code",
      "source": [
        "# day = int(input(\"Enter the day, of which you wish to enter rainfall details: \"))\n",
        "total_rain = 0\n",
        "for day in range(1,8): \n",
        "  rain = 0\n",
        "  rainfall = 1\n",
        "  while rain != -1:\n",
        "    rain = int(input(f\"Enter the measures of rainfall on day {day}: \")) \n",
        "    rainfall += rain\n",
        "  total_rain += rainfall\n",
        "  print(f\"rainfall on day {day} is: {rainfall}\")\n",
        "  # day = int(input(\"Enter the day, of which you wish to enter rainfall details: \"))\n",
        "print(f\"The total rainfall in this week is: {total_rain}\")"
      ],
      "metadata": {
        "colab": {
          "base_uri": "https://localhost:8080/"
        },
        "id": "ys4l81VuW6q-",
        "outputId": "621625fd-2dac-4b8d-8a59-803b555be84b"
      },
      "execution_count": 35,
      "outputs": [
        {
          "output_type": "stream",
          "name": "stdout",
          "text": [
            "Enter the measures of rainfall on day 1: 10\n",
            "Enter the measures of rainfall on day 1: 15\n",
            "Enter the measures of rainfall on day 1: 19\n",
            "Enter the measures of rainfall on day 1: 5\n",
            "Enter the measures of rainfall on day 1: -1\n",
            "rainfall on day 1 is: 49\n",
            "Enter the measures of rainfall on day 2: 12\n",
            "Enter the measures of rainfall on day 2: 13\n",
            "Enter the measures of rainfall on day 2: 31\n",
            "Enter the measures of rainfall on day 2: -1\n",
            "rainfall on day 2 is: 56\n",
            "Enter the measures of rainfall on day 3: 57\n",
            "Enter the measures of rainfall on day 3: 32\n",
            "Enter the measures of rainfall on day 3: 85\n",
            "Enter the measures of rainfall on day 3: 47\n",
            "Enter the measures of rainfall on day 3: 82\n",
            "Enter the measures of rainfall on day 3: -1\n",
            "rainfall on day 3 is: 303\n",
            "Enter the measures of rainfall on day 4: 25\n",
            "Enter the measures of rainfall on day 4: 8\n",
            "Enter the measures of rainfall on day 4: 2\n",
            "Enter the measures of rainfall on day 4: 4\n",
            "Enter the measures of rainfall on day 4: 8\n",
            "Enter the measures of rainfall on day 4: 8\n",
            "Enter the measures of rainfall on day 4: -25\n",
            "Enter the measures of rainfall on day 4: 2\n",
            "Enter the measures of rainfall on day 4: 2\n",
            "Enter the measures of rainfall on day 4: 5\n",
            "Enter the measures of rainfall on day 4: -1\n",
            "rainfall on day 4 is: 39\n",
            "Enter the measures of rainfall on day 5: -1\n",
            "rainfall on day 5 is: 0\n",
            "Enter the measures of rainfall on day 6: 21\n",
            "Enter the measures of rainfall on day 6: 73\n",
            "Enter the measures of rainfall on day 6: 90\n",
            "Enter the measures of rainfall on day 6: 3\n",
            "Enter the measures of rainfall on day 6: 7\n",
            "Enter the measures of rainfall on day 6: -1\n",
            "rainfall on day 6 is: 194\n",
            "Enter the measures of rainfall on day 7: 30\n",
            "Enter the measures of rainfall on day 7: 17\n",
            "Enter the measures of rainfall on day 7: 40\n",
            "Enter the measures of rainfall on day 7: 10\n",
            "Enter the measures of rainfall on day 7: 2\n",
            "Enter the measures of rainfall on day 7: -1\n",
            "rainfall on day 7 is: 99\n",
            "The total rainfall in this week is: 740\n"
          ]
        }
      ]
    },
    {
      "cell_type": "code",
      "source": [
        "word = \"\"\n",
        "longest = 0\n",
        "while word != '-1' and word != 'algorithms':\n",
        "  word = input(\"Enter the word: \")\n",
        "  for letter in word:\n",
        "    count = 0\n",
        "    count +=1\n",
        "  if count > longest:\n",
        "    longest = len(word)\n",
        "print(longest)"
      ],
      "metadata": {
        "colab": {
          "base_uri": "https://localhost:8080/"
        },
        "id": "Ov9DvOR1g7iI",
        "outputId": "bfc6ecac-e675-4f08-e7c5-6201e4aa89d1"
      },
      "execution_count": 41,
      "outputs": [
        {
          "output_type": "stream",
          "name": "stdout",
          "text": [
            "Enter the word: Programming\n",
            "Enter the word: data\n",
            "Enter the word: structures\n",
            "Enter the word: and\n",
            "Enter the word: algorithms\n",
            "11\n"
          ]
        }
      ]
    },
    {
      "cell_type": "code",
      "source": [
        "word = input(\"Enter the word: \")\n",
        "longest = 0\n",
        "while word != '-1':  # -1 is missing after algorithms in final set of words\n",
        "  count = 0\n",
        "  for letter in word:\n",
        "    count +=1\n",
        "  if count > longest:\n",
        "      longest = count   \n",
        "  word = input(\"Enter the word: \")\n",
        "print(longest)"
      ],
      "metadata": {
        "colab": {
          "base_uri": "https://localhost:8080/"
        },
        "id": "WhRAjlLoqrG6",
        "outputId": "2517e525-ce85-4c8b-f8e1-867568363170"
      },
      "execution_count": 47,
      "outputs": [
        {
          "output_type": "stream",
          "name": "stdout",
          "text": [
            "Enter the word: IITM\n",
            "Enter the word: online\n",
            "Enter the word: degree\n",
            "Enter the word: -1\n",
            "6\n"
          ]
        }
      ]
    }
  ]
}