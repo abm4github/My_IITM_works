{
  "nbformat": 4,
  "nbformat_minor": 0,
  "metadata": {
    "colab": {
      "name": "IIT-M_Python_for_Data_Science_Week_3.ipynb",
      "provenance": [],
      "collapsed_sections": [],
      "authorship_tag": "ABX9TyMXh3gM2+OJATNiNYrhNh7h",
      "include_colab_link": true
    },
    "kernelspec": {
      "name": "python3",
      "display_name": "Python 3"
    },
    "language_info": {
      "name": "python"
    }
  },
  "cells": [
    {
      "cell_type": "markdown",
      "metadata": {
        "id": "view-in-github",
        "colab_type": "text"
      },
      "source": [
        "<a href=\"https://colab.research.google.com/github/abm4github/My_IITM_works/blob/main/IIT_M_Python_for_Data_Science_Week_3.ipynb\" target=\"_parent\"><img src=\"https://colab.research.google.com/assets/colab-badge.svg\" alt=\"Open In Colab\"/></a>"
      ]
    },
    {
      "cell_type": "markdown",
      "source": [
        "## Practice problems on while loop "
      ],
      "metadata": {
        "id": "b394TMgmnePe"
      }
    },
    {
      "cell_type": "markdown",
      "source": [
        "###Problem 1: Find the factorial of the given number"
      ],
      "metadata": {
        "id": "8BnQeIsZqp3C"
      }
    },
    {
      "cell_type": "code",
      "source": [
        "num = input(\"Enter a positive integer, whose factorial is to be calculated: \")\n",
        "factorial = 1\n",
        "while num.isdigit()== False or float(num) != float(num)//1 or float(num) < 0:\n",
        "  print(f\"The factorial of {num} is not defined\")\n",
        "  num = input(\"Enter a positive integer, whose factorial is to be calculated: \")\n",
        "\n",
        "i = int(num)\n",
        "if i == 0:\n",
        "  print(f\"Factorial of {num} is {factorial}\")\n",
        "else:\n",
        "  while i > 1:\n",
        "    factorial =  factorial * i\n",
        "    i -= 1\n",
        "  print(f\"Factorial of {num} is {factorial}\")"
      ],
      "metadata": {
        "colab": {
          "base_uri": "https://localhost:8080/"
        },
        "id": "l67BEvMYnnSc",
        "outputId": "fdf96613-cc70-4909-fdea-b6bbbe7ea957"
      },
      "execution_count": 1,
      "outputs": [
        {
          "output_type": "stream",
          "name": "stdout",
          "text": [
            "Enter a positive integer, whose factorial is to be calculated: 5\n",
            "Factorial of 5 is 120\n"
          ]
        }
      ]
    },
    {
      "cell_type": "markdown",
      "source": [
        "###Problem 2: Find the number of digits in the given number"
      ],
      "metadata": {
        "id": "ODO3ifHcq5F-"
      }
    },
    {
      "cell_type": "code",
      "source": [
        "num = input(\"Enter an integer, whose number of digits is to be counted: \")\n",
        "digits = 0\n",
        "while (num.isdigit()== False and num[0] != '-') or float(num) != float(num)//1:\n",
        "  print(f\"The given input, {num} is not an integer\")\n",
        "  num = input(\"Enter an integer, whose number of digits is to be counted: \")\n",
        "\n",
        "i = num\n",
        "\n",
        "if int(i) < 0:\n",
        "  digits = len(i)-1\n",
        "else:\n",
        "  digits = len(i)\n",
        "\n",
        "print(f\"The total number of digits in {num}: {digits}\")"
      ],
      "metadata": {
        "colab": {
          "base_uri": "https://localhost:8080/"
        },
        "id": "YbYsTnokpvol",
        "outputId": "3eab9d84-70c2-42eb-aa33-23a4ebabd16e"
      },
      "execution_count": null,
      "outputs": [
        {
          "output_type": "stream",
          "name": "stdout",
          "text": [
            "Enter an integer, whose number of digits is to be counted: -1988\n",
            "The total number of digits in -1988: 4\n"
          ]
        }
      ]
    },
    {
      "cell_type": "markdown",
      "source": [
        "###Problem 3: Reverse the digits in the given number"
      ],
      "metadata": {
        "id": "05jht-glvCh4"
      }
    },
    {
      "cell_type": "code",
      "source": [
        "num = input(\"Enter an integer, whose digits are to be reversed: \")\n",
        "reverse_num = \"\"\n",
        "while (num.isdigit()== False and num[0] != '-') or float(num) != float(num)//1:\n",
        "  print(f\"The given input, {num} is not an integer\")\n",
        "  num = input(\"Enter an integer, whose digits are to be reversed: \")\n",
        "  \n",
        "i = num\n",
        "if int(i) < 0:\n",
        "  j = 1\n",
        "  while (j < len(i)):\n",
        "    reverse_num = num[j] + reverse_num\n",
        "    j += 1\n",
        "  reverse_num = '-' + reverse_num\n",
        "else:\n",
        "  j = 0\n",
        "  while (j < len(i)):\n",
        "    reverse_num = num[j]+reverse_num\n",
        "    j +=1\n",
        "\n",
        "print(f\"The digits of {num} in reverse order: {reverse_num}\")"
      ],
      "metadata": {
        "id": "BL8fcSvWvHJl",
        "colab": {
          "base_uri": "https://localhost:8080/"
        },
        "outputId": "b69b0c9e-0180-4254-9f72-cd1365f26469"
      },
      "execution_count": 3,
      "outputs": [
        {
          "output_type": "stream",
          "name": "stdout",
          "text": [
            "Enter an integer, whose digits are to be reversed: -987654321\n",
            "The digits of -987654321 in reverse order: -123456789\n"
          ]
        }
      ]
    },
    {
      "cell_type": "markdown",
      "source": [
        "###Problem 4: Find whether the entered number is palindrome or not"
      ],
      "metadata": {
        "id": "4f1MGOWmDBKq"
      }
    },
    {
      "cell_type": "code",
      "source": [
        "num = input(\"Enter an integer, to find whether its apalindrome or not \")\n",
        "reverse_num = \"\"\n",
        "while (num.isdigit()== False and num[0] != '-') or float(num) != float(num)//1:\n",
        "  print(f\"The given input, {num} is not an integer\")\n",
        "  num = input(\"Enter an integer, to find whether its apalindrome or not \")\n",
        "\n",
        "i = num\n",
        "if int(i) < 0:\n",
        "  j = 1\n",
        "  while (j < len(i)):\n",
        "    reverse_num = num[j] + reverse_num\n",
        "    j += 1\n",
        "  reverse_num = '-' + reverse_num\n",
        "else:\n",
        "  j = 0\n",
        "  while (j < len(i)):\n",
        "    reverse_num = num[j]+reverse_num\n",
        "    j +=1\n",
        "\n",
        "\n",
        "if num == reverse_num:\n",
        "  print(f\"{num} is palindrome\")\n",
        "else:\n",
        "  print(f\"{num} is not a palindrome\")"
      ],
      "metadata": {
        "colab": {
          "base_uri": "https://localhost:8080/"
        },
        "id": "-fBwc__sEK0J",
        "outputId": "ca9d54c5-6f38-46d2-f8e6-3ba88ff3b88d"
      },
      "execution_count": 4,
      "outputs": [
        {
          "output_type": "stream",
          "name": "stdout",
          "text": [
            "Enter an integer, to find whether its apalindrome or not -123454321\n",
            "-123454321 is palindrome\n"
          ]
        }
      ]
    },
    {
      "cell_type": "markdown",
      "source": [
        "##Formatting Print"
      ],
      "metadata": {
        "id": "XyJqAE9bv63S"
      }
    },
    {
      "cell_type": "code",
      "source": [
        "num = int(input())\n",
        "for i in range(1,11): \n",
        "  print('{0}x{1}={2}'.format(num, i, num*i))"
      ],
      "metadata": {
        "colab": {
          "base_uri": "https://localhost:8080/"
        },
        "id": "CBCc9w85wWF4",
        "outputId": "c82d8524-3991-449b-ee4f-823da9361d1f"
      },
      "execution_count": 21,
      "outputs": [
        {
          "output_type": "stream",
          "name": "stdout",
          "text": [
            "5\n",
            "5x1=5\n",
            "5x2=10\n",
            "5x3=15\n",
            "5x4=20\n",
            "5x5=25\n",
            "5x6=30\n",
            "5x7=35\n",
            "5x8=40\n",
            "5x9=45\n",
            "5x10=50\n"
          ]
        }
      ]
    },
    {
      "cell_type": "markdown",
      "source": [
        "##Practice problems on nested loops"
      ],
      "metadata": {
        "id": "b3k4w3wBMMiV"
      }
    },
    {
      "cell_type": "markdown",
      "source": [
        "###Problem 1: Find all the prime numbers below the given number"
      ],
      "metadata": {
        "id": "HGp6wMUlMXb3"
      }
    },
    {
      "cell_type": "markdown",
      "source": [
        "Solution A"
      ],
      "metadata": {
        "id": "YiJ4ZwbEd9EZ"
      }
    },
    {
      "cell_type": "code",
      "source": [
        "num = input(\"Enter a positive integer,to find all the prime numbers below it: \")\n",
        "prime_numbers = [2]\n",
        "while num.isdigit()== False or float(num) != float(num)//1:\n",
        "  num = input(\"Enter a positive integer,to find all the prime numbers below it: \")\n",
        "\n",
        "if int(num) <= 2:\n",
        "  print(f\"There are no prime numbers below {num}\")\n",
        "  prime_numbers = []\n",
        "else:\n",
        "  i = int(num)\n",
        "  for j in range(3, i):\n",
        "    k = 1\n",
        "    is_prime = True\n",
        "    while k < j-1:\n",
        "      k+=1\n",
        "      if j % k == 0:\n",
        "        is_prime = False\n",
        "    if is_prime == True:\n",
        "      prime_numbers += [j]\n",
        "      \n",
        "for p in prime_numbers:\n",
        "  print(p, end = \" \")"
      ],
      "metadata": {
        "colab": {
          "base_uri": "https://localhost:8080/"
        },
        "id": "kdVbimb3xvRA",
        "outputId": "14b7e099-cabb-41a9-90e9-c1b64678456b"
      },
      "execution_count": 67,
      "outputs": [
        {
          "output_type": "stream",
          "name": "stdout",
          "text": [
            "Enter a positive integer,to find all the prime numbers below it: 100\n",
            "2 3 5 7 11 13 17 19 23 29 31 37 41 43 47 53 59 61 67 71 73 79 83 89 97 "
          ]
        }
      ]
    },
    {
      "cell_type": "code",
      "source": [
        "# j = 6\n",
        "# k = 1\n",
        "# is_prime = True\n",
        "# prime_numbers = [2]\n",
        "# while k < j-1:\n",
        "#   k+=1\n",
        "#   if j % k == 0:\n",
        "#     is_prime = False\n",
        "# if is_prime == True:\n",
        "#   # prime_numbers += [j]\n",
        "#   print(j, end = \" \")\n"
      ],
      "metadata": {
        "id": "gy37016pPvSO"
      },
      "execution_count": 61,
      "outputs": []
    },
    {
      "cell_type": "markdown",
      "source": [
        "Solution B"
      ],
      "metadata": {
        "id": "hY0oHMD7eCs1"
      }
    },
    {
      "cell_type": "code",
      "source": [
        "num = input(\"Enter a positive integer,to find all the prime numbers below it: \")\n",
        "prime_numbers = [2]\n",
        "while num.isdigit()== False or float(num) != float(num)//1:\n",
        "  num = input(\"Enter a positive integer,to find all the prime numbers below it: \")\n",
        "\n",
        "if int(num) <= 2:\n",
        "  print(f\"There are no prime numbers below {num}\")\n",
        "  prime_numbers = []\n",
        "else:\n",
        "  print(2, end = \" \")\n",
        "  i = int(num)\n",
        "  for j in range(3, i):\n",
        "    k = 1\n",
        "    is_prime = True\n",
        "    while k < j-1:\n",
        "      k+=1\n",
        "      if j % k == 0:\n",
        "        is_prime = False\n",
        "    if is_prime == True:\n",
        "      print(j, end = \" \")   "
      ],
      "metadata": {
        "colab": {
          "base_uri": "https://localhost:8080/"
        },
        "id": "tCx0bAbBbPvq",
        "outputId": "9a47bf76-c952-4933-fcb8-0693dc3b0d98"
      },
      "execution_count": 68,
      "outputs": [
        {
          "output_type": "stream",
          "name": "stdout",
          "text": [
            "Enter a positive integer,to find all the prime numbers below it: jguft\n",
            "Enter a positive integer,to find all the prime numbers below it: -100\n",
            "Enter a positive integer,to find all the prime numbers below it: 100\n",
            "2 3 5 7 11 13 17 19 23 29 31 37 41 43 47 53 59 61 67 71 73 79 83 89 97 "
          ]
        }
      ]
    },
    {
      "cell_type": "markdown",
      "source": [
        "Solution C"
      ],
      "metadata": {
        "id": "ieqPUKTleFX9"
      }
    },
    {
      "cell_type": "code",
      "source": [
        "num = input(\"Enter a positive integer,to find all the prime numbers below it: \")\n",
        "prime_numbers = [2]\n",
        "while num.isdigit()== False or float(num) != float(num)//1:\n",
        "  num = input(\"Enter a positive integer,to find all the prime numbers below it: \")\n",
        "\n",
        "if int(num) <= 2:\n",
        "  print(f\"There are no prime numbers below {num}\")\n",
        "  prime_numbers = []\n",
        "else:\n",
        "  print(2, end = \" \")\n",
        "  i = int(num)\n",
        "  for j in range(3, i):\n",
        "    k = 1\n",
        "    is_prime = True\n",
        "    for k in range(2, j-1):\n",
        "      if j % k == 0:\n",
        "        is_prime = False\n",
        "    if is_prime == True:\n",
        "      print(j, end = \" \")    "
      ],
      "metadata": {
        "colab": {
          "base_uri": "https://localhost:8080/"
        },
        "id": "-vEgZ6tYc3zh",
        "outputId": "9ea2995e-b36c-47d3-8df6-e7de3d6c7cad"
      },
      "execution_count": 70,
      "outputs": [
        {
          "output_type": "stream",
          "name": "stdout",
          "text": [
            "Enter a positive integer,to find all the prime numbers below it: 100\n",
            "2 3 5 7 11 13 17 19 23 29 31 37 41 43 47 53 59 61 67 71 73 79 83 89 97 "
          ]
        }
      ]
    }
  ]
}