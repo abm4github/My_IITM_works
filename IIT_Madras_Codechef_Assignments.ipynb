{
  "nbformat": 4,
  "nbformat_minor": 0,
  "metadata": {
    "colab": {
      "name": "IIT_Madras_Codechef_Assignments.ipynb",
      "provenance": [],
      "collapsed_sections": [],
      "authorship_tag": "ABX9TyNepSB/tMSeklasRPYil/3D",
      "include_colab_link": true
    },
    "kernelspec": {
      "name": "python3",
      "display_name": "Python 3"
    },
    "language_info": {
      "name": "python"
    }
  },
  "cells": [
    {
      "cell_type": "markdown",
      "metadata": {
        "id": "view-in-github",
        "colab_type": "text"
      },
      "source": [
        "<a href=\"https://colab.research.google.com/github/abm4github/My_IITM_works/blob/main/IIT_Madras_Codechef_Assignments.ipynb\" target=\"_parent\"><img src=\"https://colab.research.google.com/assets/colab-badge.svg\" alt=\"Open In Colab\"/></a>"
      ]
    },
    {
      "cell_type": "markdown",
      "source": [
        "## Mahasena"
      ],
      "metadata": {
        "id": "FRPb16Jlohh5"
      }
    },
    {
      "cell_type": "code",
      "execution_count": null,
      "metadata": {
        "colab": {
          "base_uri": "https://localhost:8080/"
        },
        "id": "W_OQIoatoVR-",
        "outputId": "8153e40e-8c12-4bc9-87d8-323499577c90"
      },
      "outputs": [
        {
          "output_type": "stream",
          "name": "stdout",
          "text": [
            "5\n",
            "1 2 3 4 5\n",
            "NOT READY\n"
          ]
        }
      ],
      "source": [
        "soldiers_count = int(input())\n",
        "weapons_list = list(map(int, input().split()))\n",
        "if len(weapons_list) == soldiers_count:\n",
        "  even_weapons = 0\n",
        "  odd_weapons = 0\n",
        "  for j in weapons_list:\n",
        "    if j%2 == 0:\n",
        "      even_weapons += 1\n",
        "    elif j%2 == 1:\n",
        "      odd_weapons +=1\n",
        "  if even_weapons > odd_weapons:\n",
        "    print(\"READY FOR BATTLE\")\n",
        "  else:\n",
        "    print(\"NOT READY\")\n",
        "else:\n",
        "  print(\"The data of number of weapons must be same as the number of soldiers\")"
      ]
    },
    {
      "cell_type": "code",
      "source": [
        "n_iterations = int(input())\n",
        "for i in range(n_iterations):\n",
        "  a, b = map(int, input().split())\n",
        "  found = False\n",
        "  least = min(a,b)\n",
        "  while found == False:\n",
        "    if a % least == 0 and b % least == 0:\n",
        "      found = True\n",
        "    else:\n",
        "      least -= 1\n",
        "  found = False\n",
        "  greatest = max(a,b)\n",
        "  while found == False:\n",
        "    if greatest % a == 0 and greatest % b == 0:\n",
        "      found = True\n",
        "    else:\n",
        "      greatest += 1\n",
        "  print(least, greatest)"
      ],
      "metadata": {
        "colab": {
          "base_uri": "https://localhost:8080/"
        },
        "id": "UwTzOpeAr2xQ",
        "outputId": "21b788ba-9477-4cfd-9102-1bfbba0c2763"
      },
      "execution_count": null,
      "outputs": [
        {
          "output_type": "stream",
          "name": "stdout",
          "text": [
            "3\n",
            "120 140\n",
            "1 140\n",
            "10213 312\n",
            "1 10213\n",
            "10 30\n",
            "10 30\n"
          ]
        }
      ]
    },
    {
      "cell_type": "code",
      "source": [
        "'''Input for above code:\n",
        "3 \n",
        "120 140\n",
        "10213 312\n",
        "10 30'''"
      ],
      "metadata": {
        "id": "9667eDEZ7yeE"
      },
      "execution_count": null,
      "outputs": []
    },
    {
      "cell_type": "code",
      "source": [
        "10213 % 312"
      ],
      "metadata": {
        "colab": {
          "base_uri": "https://localhost:8080/"
        },
        "id": "sY3Gi-jF2Q3Y",
        "outputId": "224c9476-5a67-4682-c6d8-00f431032046"
      },
      "execution_count": null,
      "outputs": [
        {
          "output_type": "execute_result",
          "data": {
            "text/plain": [
              "229"
            ]
          },
          "metadata": {},
          "execution_count": 19
        }
      ]
    },
    {
      "cell_type": "code",
      "source": [
        "n_iterations = int(input())\n",
        "for i in range(n_iterations):\n",
        "  a, b = map(int, input().split())\n",
        "  found = False\n",
        "  least = min(a,b)\n",
        "  GCD = least\n",
        "  k = 2\n",
        "  while found == False:\n",
        "    if a % GCD == 0 and b % GCD == 0:\n",
        "      found = True\n",
        "    else:\n",
        "      GCD = least / k\n",
        "      k +=1     \n",
        "  found = False\n",
        "  greatest = max(a,b)\n",
        "  LCM = greatest\n",
        "  k = 2\n",
        "  while found == False:\n",
        "    if LCM % a == 0 and LCM % b == 0:\n",
        "      found = True\n",
        "    else:\n",
        "      LCM = greatest * k\n",
        "      k +=1    \n",
        "  print(int(GCD), int(LCM))"
      ],
      "metadata": {
        "colab": {
          "base_uri": "https://localhost:8080/"
        },
        "id": "zEMTuj8y2WEh",
        "outputId": "6d97ce04-9ac7-4113-9005-9b1938c15512"
      },
      "execution_count": null,
      "outputs": [
        {
          "output_type": "stream",
          "name": "stdout",
          "text": [
            "3\n",
            "120 140\n",
            "20 840\n",
            "10213 312\n",
            "1 3186456\n",
            "10 30\n",
            "10 30\n"
          ]
        }
      ]
    },
    {
      "cell_type": "code",
      "source": [
        "n_iterations = int(input())\n",
        "for i in range(n_iterations):\n",
        "  x, y = map(int, input().split())\n",
        "  a, b = x, y\n",
        "  while(y):\n",
        "    \n",
        "      x, y = y, x % y\n",
        "  lcm = (a*b)//x\n",
        "  print(x, lcm)"
      ],
      "metadata": {
        "colab": {
          "base_uri": "https://localhost:8080/"
        },
        "id": "SrH8EiFWBk6r",
        "outputId": "105ab604-b35b-475b-b959-3281fb5bb148"
      },
      "execution_count": null,
      "outputs": [
        {
          "output_type": "stream",
          "name": "stdout",
          "text": [
            "3\n",
            "120 140\n",
            "20 840\n",
            "10213 312\n",
            "1 3186456\n",
            "10 30\n",
            "10 30\n"
          ]
        }
      ]
    },
    {
      "cell_type": "code",
      "source": [
        "n_iterations = int(input())\n",
        "for i in range(n_iterations):\n",
        "  x, y = map(int, input().split())\n",
        "  a, b = x, y\n",
        "  c, d = x, y\n",
        "  while(b):\n",
        "    a, b = b, a % b\n",
        "  lcm = (c*d)//a\n",
        "  print(a, lcm)"
      ],
      "metadata": {
        "colab": {
          "base_uri": "https://localhost:8080/"
        },
        "id": "9Irj24GBFiUg",
        "outputId": "8b827514-a491-47b3-dd54-be898677b252"
      },
      "execution_count": null,
      "outputs": [
        {
          "output_type": "stream",
          "name": "stdout",
          "text": [
            "3\n",
            "120 140\n",
            "20 840\n",
            "10213 312\n",
            "1 3186456\n",
            "10 30\n",
            "10 30\n"
          ]
        }
      ]
    },
    {
      "cell_type": "code",
      "source": [
        "S = \"ababa\"\n",
        "{\"a\", \"b\", \"a\", \"b\", \"a\", \"ab\", \"ba\", \"ab\", \"ba\", \"aba\", \"bab\", \"aba\", \"abab\", \"baba\", \"ababa\"}.\n",
        "\n",
        "L =  "
      ],
      "metadata": {
        "id": "EzCxHIpYHDHd"
      },
      "execution_count": null,
      "outputs": []
    },
    {
      "cell_type": "code",
      "source": [
        "T = int(input())\n",
        "for i in range(T):\n",
        "  N, K = map(int, input().split())\n",
        "  coins = 0\n",
        "  for j in range(K+1):\n",
        "    if j >= 1:\n",
        "      if N%j > coins:\n",
        "        coins = N%j\n",
        "  print(coins)"
      ],
      "metadata": {
        "colab": {
          "base_uri": "https://localhost:8080/"
        },
        "id": "MGEKYT-ov7lT",
        "outputId": "8550decf-079d-4ddf-ec3f-e8100ff45b7e"
      },
      "execution_count": null,
      "outputs": [
        {
          "output_type": "stream",
          "name": "stdout",
          "text": [
            "2\n",
            "5 2\n",
            "1\n",
            "11 3\n",
            "2\n"
          ]
        }
      ]
    },
    {
      "cell_type": "code",
      "source": [
        "10"
      ],
      "metadata": {
        "id": "_Mk7A-65OQUm"
      },
      "execution_count": null,
      "outputs": []
    },
    {
      "cell_type": "code",
      "source": [
        "T = int(input())\n",
        "for i in range(T):\n",
        "  S = input()\n",
        "  half = int(len(S)/2) \n",
        "                      \n",
        "  quater = int(half/2)                                            \n",
        "  quater_3 = 3*quater\n",
        "\n",
        "  twice_T1 = S[0:half]\n",
        "  T1 = S[0:quater]\n",
        "\n",
        "\n",
        "  twice_T2 = S[half: ]\n",
        "  T2 = S[quater_3: ]\n",
        "\n",
        "  if 2 * T1 == twice_T1 and 2 * T2 == twice_T2:\n",
        "    print(1)\n",
        "  else:\n",
        "    print(0)"
      ],
      "metadata": {
        "colab": {
          "base_uri": "https://localhost:8080/"
        },
        "id": "bj50QO1n5TSy",
        "outputId": "7a0527a3-1bf7-4186-9249-a488aa2256fb"
      },
      "execution_count": null,
      "outputs": [
        {
          "output_type": "stream",
          "name": "stdout",
          "text": [
            "3\n",
            "abcd\n",
            "0\n",
            "aaaa\n",
            "1\n",
            "ababcdccdc\n",
            "0\n"
          ]
        }
      ]
    },
    {
      "cell_type": "code",
      "source": [
        "# EXTRA\n",
        "# def repeats(string):\n",
        "#     for x in range(1, len(string)):\n",
        "#         substring = string[:x]\n",
        "\n",
        "#         if substring * (len(string)//len(substring))+(substring[:len(string)%len(substring)]) == string:\n",
        "#             print(substring)\n",
        "#             return \"break\"\n",
        "\n",
        "#     print(string)\n"
      ],
      "metadata": {
        "id": "nV95UPYP5UqQ"
      },
      "execution_count": null,
      "outputs": []
    },
    {
      "cell_type": "code",
      "source": [
        "repeats('ababcdccdc')"
      ],
      "metadata": {
        "colab": {
          "base_uri": "https://localhost:8080/"
        },
        "id": "Tr042lInZV8W",
        "outputId": "997fb86a-ceb8-4425-9bac-378f3a0b64a0"
      },
      "execution_count": null,
      "outputs": [
        {
          "output_type": "stream",
          "name": "stdout",
          "text": [
            "ababcdccdc\n"
          ]
        }
      ]
    },
    {
      "cell_type": "code",
      "source": [
        "s = 'ababcdccdc'\n",
        "combinations = -1\n",
        "for i in range(int(len(s)/2)):\n",
        "  if (s[0:i]) == (s[i:2*i]):\n",
        "    print(i)\n",
        "    print(s[int(int(len(s) - 2*i)/2)+1: ])\n",
        "    print(s[2*i: ])\n",
        "    print(s[2*i : 2*i + int(int(len(s) - 2*i)/2) ])\n",
        "    print(s[2*i + int(int(len(s) - 2*i)/2): ])\n",
        "\n"
      ],
      "metadata": {
        "colab": {
          "base_uri": "https://localhost:8080/"
        },
        "id": "6kvGg45XZbXB",
        "outputId": "a41f42cc-8797-4f62-f863-50f164bb1e14"
      },
      "execution_count": null,
      "outputs": [
        {
          "output_type": "stream",
          "name": "stdout",
          "text": [
            "0\n",
            "ccdc\n",
            "ababcdccdc\n",
            "ababc\n",
            "dccdc\n",
            "2\n",
            "cdccdc\n",
            "cdccdc\n",
            "cdc\n",
            "cdc\n"
          ]
        }
      ]
    },
    {
      "cell_type": "code",
      "source": [
        "T = int(input())\n",
        "for i in range(T):  \n",
        "  S = input()\n",
        "  combinations = 0\n",
        "  for i in range(int(len(S)/2)):\n",
        "    if i != 0:\n",
        "      if (S[0:i]) == (S[i:2*i]):\n",
        "        if (S[2*i : 2*i + int(int(len(S) - 2*i)/2) ]) == S[2*i + int(int(len(S) - 2*i)/2): ]:\n",
        "          combinations += 1\n",
        "  print(combinations)"
      ],
      "metadata": {
        "colab": {
          "base_uri": "https://localhost:8080/"
        },
        "id": "PFApAuQjdPYJ",
        "outputId": "6790bd5f-ddda-4e6a-fc22-9534a0648312"
      },
      "execution_count": null,
      "outputs": [
        {
          "output_type": "stream",
          "name": "stdout",
          "text": [
            "3\n",
            "abcd\n",
            "0\n",
            "abcabckbcdkbcd\n",
            "1\n",
            "ababcdccdc\n",
            "1\n"
          ]
        }
      ]
    },
    {
      "cell_type": "code",
      "source": [
        "string = 'ababa'\n",
        "L = []\n",
        "for i in range(len(string)):\n",
        "  j = 1\n",
        "  while j < len(string):\n",
        "      L = L + list(string[i: j])\n",
        "  j = j+1\n",
        "print(L)"
      ],
      "metadata": {
        "colab": {
          "base_uri": "https://localhost:8080/",
          "height": 244
        },
        "id": "BXI2zEFUgbbM",
        "outputId": "9880d0fe-abb7-4a1f-b920-2875b90e1e7d"
      },
      "execution_count": null,
      "outputs": [
        {
          "output_type": "error",
          "ename": "KeyboardInterrupt",
          "evalue": "ignored",
          "traceback": [
            "\u001b[0;31m---------------------------------------------------------------------------\u001b[0m",
            "\u001b[0;31mKeyboardInterrupt\u001b[0m                         Traceback (most recent call last)",
            "\u001b[0;32m<ipython-input-21-e4b2072d504b>\u001b[0m in \u001b[0;36m<module>\u001b[0;34m()\u001b[0m\n\u001b[1;32m      4\u001b[0m   \u001b[0mj\u001b[0m \u001b[0;34m=\u001b[0m \u001b[0;36m1\u001b[0m\u001b[0;34m\u001b[0m\u001b[0;34m\u001b[0m\u001b[0m\n\u001b[1;32m      5\u001b[0m   \u001b[0;32mwhile\u001b[0m \u001b[0mj\u001b[0m \u001b[0;34m<\u001b[0m \u001b[0mlen\u001b[0m\u001b[0;34m(\u001b[0m\u001b[0mstring\u001b[0m\u001b[0;34m)\u001b[0m\u001b[0;34m:\u001b[0m\u001b[0;34m\u001b[0m\u001b[0;34m\u001b[0m\u001b[0m\n\u001b[0;32m----> 6\u001b[0;31m       \u001b[0mL\u001b[0m \u001b[0;34m=\u001b[0m \u001b[0mL\u001b[0m \u001b[0;34m+\u001b[0m \u001b[0mlist\u001b[0m\u001b[0;34m(\u001b[0m\u001b[0mstring\u001b[0m\u001b[0;34m[\u001b[0m\u001b[0mi\u001b[0m\u001b[0;34m:\u001b[0m \u001b[0mj\u001b[0m\u001b[0;34m]\u001b[0m\u001b[0;34m)\u001b[0m\u001b[0;34m\u001b[0m\u001b[0;34m\u001b[0m\u001b[0m\n\u001b[0m\u001b[1;32m      7\u001b[0m   \u001b[0mj\u001b[0m \u001b[0;34m=\u001b[0m \u001b[0mj\u001b[0m\u001b[0;34m+\u001b[0m\u001b[0;36m1\u001b[0m\u001b[0;34m\u001b[0m\u001b[0;34m\u001b[0m\u001b[0m\n\u001b[1;32m      8\u001b[0m \u001b[0mprint\u001b[0m\u001b[0;34m(\u001b[0m\u001b[0mL\u001b[0m\u001b[0;34m)\u001b[0m\u001b[0;34m\u001b[0m\u001b[0;34m\u001b[0m\u001b[0m\n",
            "\u001b[0;31mKeyboardInterrupt\u001b[0m: "
          ]
        }
      ]
    },
    {
      "cell_type": "code",
      "source": [
        "str = abc\n",
        "l = str[0:1] + str[1:1] + srt[3:1]\n",
        "    str[0:0+2] + str[1: 1+2] \n",
        "    srt[0: 0+3]\n",
        "\n",
        "l = str[i:i+1] + str[i+1:i+2] + srt[i+2:i+3]\n",
        "    str[i:i+2] + str[i+1: 3] \n",
        "    srt[0: 0+3]"
      ],
      "metadata": {
        "id": "gNf8x9ZFgpLM"
      },
      "execution_count": null,
      "outputs": []
    },
    {
      "cell_type": "code",
      "source": [
        "    01 12 23 34 45 56\n",
        "    02 13 24 35 46 \n",
        "    03 14 25 36\n",
        "    04 15 26\n",
        "    05 16\n",
        "    06\n",
        "\n",
        "    06\n",
        "    05 16\n",
        "    04 15 26\n",
        "    03 14 25 36\n",
        "    02 13 24 35 46\n",
        "    01 12 23 34 45 56\n",
        "\n",
        "    01 02 03 04 05 06\n",
        "    12 13 14 15 16\n",
        "    23 24 25 26\n",
        "    34 35 36\n",
        "    45 46 \n",
        "    56\n"
      ],
      "metadata": {
        "id": "xAfLtTm8lFma"
      },
      "execution_count": null,
      "outputs": []
    },
    {
      "cell_type": "code",
      "source": [
        "s = 'abcde'\n",
        "L = []\n",
        "i = 0\n",
        "j = 1\n",
        "\n",
        "while i <= len(s):\n",
        "  j = 1\n",
        "  while j <= len(s):\n",
        "    if j>i:\n",
        "      L = L +[s[i:j]]\n",
        "    j+=1 \n",
        "  i+=1\n",
        "print(L) \n",
        " \n",
        "\n",
        "\n",
        "\n",
        "\n",
        "\n"
      ],
      "metadata": {
        "colab": {
          "base_uri": "https://localhost:8080/"
        },
        "id": "TLafZrjfmTMC",
        "outputId": "1dc46944-e9ec-458e-95a9-a3dc54a7b5a3"
      },
      "execution_count": null,
      "outputs": [
        {
          "output_type": "stream",
          "name": "stdout",
          "text": [
            "['a', 'ab', 'abc', 'abcd', 'abcde', 'b', 'bc', 'bcd', 'bcde', 'c', 'cd', 'cde', 'd', 'de', 'e']\n"
          ]
        }
      ]
    },
    {
      "cell_type": "code",
      "source": [
        "s = 'abcde'\n",
        "L=[]\n",
        "for i in range(6):\n",
        "  for j in range(6):\n",
        "    if i<j:\n",
        "      L = L +[s[i:j]]\n",
        "print(L)\n",
        "\n"
      ],
      "metadata": {
        "id": "Kda5v8nFwDNc",
        "colab": {
          "base_uri": "https://localhost:8080/"
        },
        "outputId": "299d15ca-9773-43be-8e03-0698c8e42f1c"
      },
      "execution_count": null,
      "outputs": [
        {
          "output_type": "stream",
          "name": "stdout",
          "text": [
            "['a', 'ab', 'abc', 'abcd', 'abcde', 'b', 'bc', 'bcd', 'bcde', 'c', 'cd', 'cde', 'd', 'de', 'e']\n"
          ]
        }
      ]
    },
    {
      "cell_type": "markdown",
      "source": [
        "WEEK 3"
      ],
      "metadata": {
        "id": "xxWxd-YuQEPz"
      }
    },
    {
      "cell_type": "code",
      "source": [
        "# Chef and Feedback\n",
        "\n",
        "for feedbacks in range(int(input())):\n",
        "  binary_string = input()\n",
        "  if '101' in binary_string or '010' in binary_string:\n",
        "    print(\"Good\")\n",
        "  else:\n",
        "    print('Bad')\n"
      ],
      "metadata": {
        "id": "c9xJyrZL8G2Q",
        "colab": {
          "base_uri": "https://localhost:8080/"
        },
        "outputId": "30d511cf-31f5-41c6-d20c-bbc4a0b56d0f"
      },
      "execution_count": null,
      "outputs": [
        {
          "output_type": "stream",
          "name": "stdout",
          "text": [
            "2\n",
            "11111110\n",
            "Bad\n",
            "10101010101010\n",
            "Good\n"
          ]
        }
      ]
    },
    {
      "cell_type": "code",
      "source": [
        "#wrong\n",
        "string = 'abbbaddzcz'\n",
        "sub_string = '10'\n",
        "i = 0\n",
        "wow = 1\n",
        "for j in range(wow,len(string)+1, 1):\n",
        "  sub_string = string[i:j] \n",
        "  if sub_string == sub_string[::-1] and len(sub_string) > 1:\n",
        "    print(sub_string)\n",
        "    wow = j+1\n",
        "\n",
        "    for k in range(wow,len(string)+1, 1):\n",
        "      sub_string = string[j:k] \n",
        "      if sub_string == sub_string[::-1] and len(sub_string) > 1:\n",
        "        print(sub_string)\n",
        "        wow = k+1\n",
        "        for l in range(wow,len(string)+1, 1):\n",
        "          sub_string = string[k:l] \n",
        "          if sub_string == sub_string[::-1] and len(sub_string) > 1:\n",
        "            print(sub_string)\n",
        "            print(k)"
      ],
      "metadata": {
        "colab": {
          "base_uri": "https://localhost:8080/"
        },
        "id": "0zicdBsGU2sB",
        "outputId": "0d08f43a-2e70-4536-d1b5-cf08a8bcea65"
      },
      "execution_count": null,
      "outputs": [
        {
          "output_type": "stream",
          "name": "stdout",
          "text": [
            "abbba\n",
            "dd\n",
            "zcz\n",
            "7\n"
          ]
        }
      ]
    },
    {
      "cell_type": "code",
      "source": [
        "for tests in range(int(input())):\n",
        "  string = input()\n",
        "  D = {}\n",
        "  for element in range(len(string)):\n",
        "    if string[i] in D.keys():\n",
        "      string[i] += 1\n",
        "    else:\n",
        "      string[i] = 1\n",
        "\n"
      ],
      "metadata": {
        "id": "8WIcYWUguMiT"
      },
      "execution_count": null,
      "outputs": []
    },
    {
      "cell_type": "code",
      "source": [
        "for iterations in range(int(input())): \n",
        "  string = input()\n",
        "  D = {}\n",
        "  unique = 0\n",
        "  doubles = 0\n",
        "  for element in string:\n",
        "    if element in D.keys():\n",
        "      D[element] += 1\n",
        "    else:\n",
        "      D[element] = 1\n",
        "  for key in D.keys():\n",
        "    if D[key]==1:\n",
        "      unique += 1\n",
        "    elif D[key] %2 == 0:\n",
        "      doubles += int(D[key]/2)\n",
        "    elif D[key] > 3 and  D[key] %2 == 1:\n",
        "      doubles += int((D[key]-3)/2)\n",
        "  if unique <= doubles:\n",
        "    print(\"YES\")\n",
        "  else:\n",
        "    print(\"NO\")"
      ],
      "metadata": {
        "colab": {
          "base_uri": "https://localhost:8080/"
        },
        "id": "edvbuB5NvfcA",
        "outputId": "95208734-0612-417c-e660-80e81ddcc48e"
      },
      "execution_count": null,
      "outputs": [
        {
          "output_type": "stream",
          "name": "stdout",
          "text": [
            "3\n",
            "acbbbadzdz\n",
            "YES\n",
            "abcd'\n",
            "NO\n",
            "xyxyxy\n",
            "YES\n"
          ]
        }
      ]
    },
    {
      "cell_type": "code",
      "source": [
        "for tests in range(int(input())):\n",
        "  max = 1\n",
        "  num = int(input())\n",
        "  L = list(map(int, input().split()))\n",
        "  for i in range(1, num, 1):\n",
        "    if L[i] <= L[i-1]:\n",
        "      max +=1\n",
        "    else:\n",
        "      L[i] = L[i-1]\n",
        "  print(max)"
      ],
      "metadata": {
        "colab": {
          "base_uri": "https://localhost:8080/"
        },
        "id": "VpbgdvOqVBfc",
        "outputId": "2ac4dedb-bad7-474a-fcdb-e820e59c1d96"
      },
      "execution_count": null,
      "outputs": [
        {
          "output_type": "stream",
          "name": "stdout",
          "text": [
            "1\n",
            "3\n",
            "4 6 4\n",
            "2\n"
          ]
        }
      ]
    },
    {
      "cell_type": "code",
      "source": [
        "# D - Equal Substrings (Hard Version) Problem Code: EQSBSTR2\n",
        "\n",
        "\n",
        "for  test_cases in range(int(input())):\n",
        "  len_1, len_2 = map(int, input().split())  \n",
        "  str_1, str_2 = map(str, input().split())\n",
        "  str_1copy = str_1\n",
        "  str_2copy = str_2 \n",
        "  str_max = ''\n",
        "  D_1 = {}\n",
        "  D_2 = {}\n",
        "\n",
        "  for char in str_2copy:\n",
        "    if char in str_1copy:\n",
        "      if char in D_1.keys():\n",
        "        D_1[char] +=1\n",
        "      else:\n",
        "        D_1[char] = 1     \n",
        "      if char in D_2.keys():\n",
        "        D_2[char] +=1\n",
        "      else:\n",
        "        D_2[char] = 1 \n",
        "  print(D_1)\n",
        "  print(D_2)        \n",
        "       "
      ],
      "metadata": {
        "id": "6Ido2YkdoA5o",
        "colab": {
          "base_uri": "https://localhost:8080/"
        },
        "outputId": "9f234567-46d6-4a65-a2df-63d3e812f023"
      },
      "execution_count": null,
      "outputs": [
        {
          "output_type": "stream",
          "name": "stdout",
          "text": [
            "2\n",
            "14 17\n",
            "pqfwkhopkmcoqh yggxxpklorellnmpa\n",
            "{'p': 2, 'k': 1, 'o': 1, 'm': 1}\n",
            "{'p': 2, 'k': 1, 'o': 1, 'm': 1}\n",
            "1 16\n",
            "q bcnuvqhffbsaqxwp\n",
            "{'q': 2}\n",
            "{'q': 2}\n"
          ]
        }
      ]
    },
    {
      "cell_type": "code",
      "source": [
        "for  test_cases in range(int(input())):\n",
        "  len_1, len_2 = map(int, input().split())  \n",
        "  str_1, str_2 = map(str, input().split())\n",
        "  str_1copy = str_1\n",
        "  str_2copy = str_2 \n",
        "  str_max = ''\n",
        "  D = {}\n",
        "  found = False\n",
        "  \n",
        "  for i in range(len(str_1copy), 0, -1):         # i=10 j=1\n",
        "    for j in range(len(str_1copy)):             \n",
        "      if str_1copy[j :i+j] in str_2copy:\n",
        "        # max_len = len(str_1copy[j :i+j])\n",
        "        # D[str_1copy[j :i+j]] = 1\n",
        "        found = True\n",
        "        if found:\n",
        "          break\n",
        "    if found:\n",
        "      break\n",
        "\n",
        "    for k in range(len_1 - (len(str_1copy[j :i+j])-1)):\n",
        "      if str_1copy[k: k+len(str_1copy[j :i+j])-1] in str_2:\n",
        "        D[str_1copy[k: k+len(str_1copy[j :i+j])-1]] = 1\n",
        "\n",
        "    for l in D.keys():\n",
        "      D[l] = str_2copy.count(l)\n",
        "  for m in D.keys():\n",
        "    print(m, D[m])"
      ],
      "metadata": {
        "colab": {
          "base_uri": "https://localhost:8080/"
        },
        "id": "1szTOPGz6Wr6",
        "outputId": "7a6cad5a-b01c-4ab3-a354-ed2656da725c"
      },
      "execution_count": null,
      "outputs": [
        {
          "output_type": "stream",
          "name": "stdout",
          "text": [
            "1\n",
            "14 17\n",
            "pqfwkhopkmcoqh yggxxpklorellnmpa\n",
            " 18\n"
          ]
        }
      ]
    },
    {
      "cell_type": "code",
      "source": [
        "for  test_cases in range(int(input())):\n",
        "  len_1, len_2 = map(int, input().split())  \n",
        "  str_1, str_2 = map(str, input().split())\n",
        "  str_1copy = str_1\n",
        "  str_2copy = str_2 \n",
        "  str_max = ''\n",
        "  D = {}\n",
        "  found = False\n",
        "  \n",
        "  for i in range(len(str_1copy), 0, -1):\n",
        "    for j in range(len(str_1copy)):             \n",
        "      if str_1copy[j :i+j] in str_2copy:\n",
        "        D[str_1copy[j :i+j]] = 1\n",
        "        max_len = len(str_1copy[j :i+j])\n",
        "        found = True\n",
        "        break\n",
        "    if found:\n",
        "      break\n",
        "    \n",
        "  print(D, str_1copy[j :i+j], len(str_1copy[j :i+j]))\n",
        "\n",
        "\n",
        "  #   for k in range(len_1 - max_len+1):\n",
        "  #     if str_1copy[k: i+max_len-1] in str_2:\n",
        "  #       D[str_1copy[k: i+max_len-1]] = 1\n",
        "\n",
        "  #   for l in D.keys():\n",
        "  #     D[l] = str_2copy.count(l)\n",
        "  # for m in D.keys():\n",
        "  #   print(m, D[m])"
      ],
      "metadata": {
        "colab": {
          "base_uri": "https://localhost:8080/"
        },
        "id": "E3TzuV4aMFdm",
        "outputId": "70e9969b-1e86-476e-f146-3ed85f855339"
      },
      "execution_count": null,
      "outputs": [
        {
          "output_type": "stream",
          "name": "stdout",
          "text": [
            "2\n",
            "14 17\n",
            "pqfwkhopkmcoqh yggxxpklorellnmpa\n",
            "{'pk': 1} pk 2\n",
            "4 20\n",
            "rxsj owkkyhiddqscdxrjmowf\n",
            "{'j': 1} j 1\n"
          ]
        }
      ]
    },
    {
      "cell_type": "code",
      "source": [
        "len('pk')"
      ],
      "metadata": {
        "colab": {
          "base_uri": "https://localhost:8080/"
        },
        "id": "FXQJBZRuMFZ-",
        "outputId": "759aa78c-1d3a-4002-cdff-2ccaf67c6b5d"
      },
      "execution_count": null,
      "outputs": [
        {
          "output_type": "execute_result",
          "data": {
            "text/plain": [
              "2"
            ]
          },
          "metadata": {},
          "execution_count": 27
        }
      ]
    },
    {
      "cell_type": "code",
      "source": [
        ""
      ],
      "metadata": {
        "id": "qPhdGu_8MFXN"
      },
      "execution_count": null,
      "outputs": []
    },
    {
      "cell_type": "code",
      "source": [
        ""
      ],
      "metadata": {
        "id": "ucGCgsVyME66"
      },
      "execution_count": null,
      "outputs": []
    },
    {
      "cell_type": "code",
      "source": [
        "for  test_cases in range(int(input())):\n",
        "  len_1, len_2 = map(int, input().split())  \n",
        "  str_1, str_2 = map(str, input().split())\n",
        "  str_1copy = str_1\n",
        "  str_2copy = str_2 \n",
        "  str_max = ''\n",
        "  D = {}\n",
        "\n",
        "  for i in range(len(str_1copy), 0, -1):\n",
        "    for j in range(len(str_1copy)):\n",
        "      if str_1copy[j :i+j] in str_2copy:\n",
        "        D[str_1copy[j :i+j]] = 1\n",
        "        \n",
        "  print(D)\n",
        "\n"
      ],
      "metadata": {
        "colab": {
          "base_uri": "https://localhost:8080/"
        },
        "id": "XvWDd8RdBh16",
        "outputId": "9cc4663c-6463-4bf7-891b-e8c3bc57669d"
      },
      "execution_count": null,
      "outputs": [
        {
          "output_type": "stream",
          "name": "stdout",
          "text": [
            "2\n",
            "14 17\n",
            "pqfwkhopkmcoqh yggxxpklorellnmpa\n",
            "{'pk': 1, 'p': 1, 'k': 1, 'o': 1, 'm': 1}\n",
            "1 16\n",
            "q bcnuvqhffbsaqxwp\n",
            "{'q': 1}\n"
          ]
        }
      ]
    },
    {
      "cell_type": "code",
      "source": [
        "#today 28-05-2022\n",
        "# sample input\n",
        "# 4\n",
        "# 14 17\n",
        "# pqfwkhopkmcoqh yggxxpklorellnmpa\n",
        "# 1 16\n",
        "# q bcnuvqhffbsaqxwp\n",
        "# 4 20\n",
        "# rxsj owkkyhiddqscdxrjmowf\n",
        "# 6 7\n",
        "# drrwso qfjmafa\n",
        "\n",
        "# 4 20\n",
        "# abcd dsxzcsxzbsxzasxzqwer\n",
        "\n",
        "for  test_cases in range(int(input())):\n",
        "  len_1, len_2 = map(int, input().split())  \n",
        "  str_1, str_2 = map(str, input().split())\n",
        "  max_len = 0\n",
        "  D = {}\n",
        "  L = []\n",
        "  found = False\n",
        "  \n",
        "  for i in range(len(str_1), 0, -1):\n",
        "    for j in range(len(str_1)):             \n",
        "      if str_1[j :i+j] in str_2:\n",
        "        max_len = len(str_1[j :i+j])\n",
        "        found = True\n",
        "        break\n",
        "    if found:\n",
        "      break\n",
        "   \n",
        "  if max_len == 0:\n",
        "    print('0')\n",
        "  else:\n",
        "    for k in range((len_1)-(max_len-1)):\n",
        "      if (str_1[k:k+max_len]) in str_2:\n",
        "        D[str_1[k:k+max_len]] = 0\n",
        "    for l in D.keys():\n",
        "      if l in str_2:\n",
        "        D[l] = str_2.count(l)\n",
        "  if max_len > 0:\n",
        "    print(max_len)\n",
        "    for m in D.keys():\n",
        "      L = L+[m]\n",
        "      L.sort()\n",
        "    for n in L:\n",
        "      print(n, D[n])"
      ],
      "metadata": {
        "colab": {
          "base_uri": "https://localhost:8080/"
        },
        "id": "es_NLa4e76bj",
        "outputId": "9a5692ef-6fc4-42d7-f2c6-20bce14095ad"
      },
      "execution_count": null,
      "outputs": [
        {
          "output_type": "stream",
          "name": "stdout",
          "text": [
            "4\n",
            "14 17\n",
            "pqfwkhopkmcoqh yggxxpklorellnmpa\n",
            "2\n",
            "pk 1\n",
            "1 16\n",
            "q bcnuvqhffbsaqxwp\n",
            "1\n",
            "q 2\n",
            "4 20\n",
            "rxsj owkkyhiddqscdxrjmowf\n",
            "1\n",
            "j 1\n",
            "r 1\n",
            "s 1\n",
            "x 1\n",
            "6 7\n",
            "drrwso qfjmafa\n",
            "0\n"
          ]
        }
      ]
    },
    {
      "cell_type": "code",
      "source": [
        "#today 28-05-2022\n",
        "#sample input\n",
        "\n",
        "# 4\n",
        "# 14 17\n",
        "# pqfwkhopkmcoqh yggxxpklorellnmpa\n",
        "# 1 16\n",
        "# q bcnuvqhffbsaqxwp\n",
        "# 4 20\n",
        "# rxsj owkkyhiddqscdxrjmowf\n",
        "# 6 7\n",
        "# drrwso qfjmafa\n",
        "\n",
        "for  test_cases in range(int(input())):\n",
        "  len_1, len_2 = map(int, input().split())  \n",
        "  str_1, str_2 = map(str, input().split())\n",
        "  max_len = 0\n",
        "  D = {}\n",
        "  found = False  \n",
        "  for i in range(len(str_1), 0, -1):\n",
        "    for j in range(len(str_1)):             \n",
        "      if str_1[j :i+j] in str_2:\n",
        "        max_len = len(str_1[j :i+j])\n",
        "        found = True\n",
        "        break\n",
        "    if found:\n",
        "      break   \n",
        "  if max_len == 0:\n",
        "    print('0')\n",
        "  else:\n",
        "    for k in range((len_1)-(max_len-1)):\n",
        "      if (str_1[k:k+max_len]) in str_2:\n",
        "        D[str_1[k:k+max_len]] = 0\n",
        "    for l in D.keys():\n",
        "      if l in str_2:\n",
        "        D[l] = str_2.count(l)\n",
        "  if max_len > 0:\n",
        "    print(max_len)\n",
        "    for m in range((len_1)-(max_len-1)):\n",
        "      if (str_1[m:m+max_len]) in D.keys():\n",
        "        print((str_1[m:m+max_len]), D[(str_1[m:m+max_len])])"
      ],
      "metadata": {
        "id": "38ANzzC8ApZt"
      },
      "execution_count": null,
      "outputs": []
    },
    {
      "cell_type": "code",
      "source": [
        "# Fresh start 28-05-2022\n",
        "\n",
        "for  test_cases in range(int(input())):\n",
        "  len_1, len_2 = map(int, input().split())  \n",
        "  str_1, str_2 = map(str, input().split())\n",
        "  for l in range(len_1+1, 1, -1):\n",
        "    for start in range(l+1):\n",
        "      print(str_1[start:start+l-1])\n"
      ],
      "metadata": {
        "colab": {
          "base_uri": "https://localhost:8080/"
        },
        "id": "dDi5MpPNMV7t",
        "outputId": "f8b97f6c-645b-4f58-c76a-90863ea5507f"
      },
      "execution_count": null,
      "outputs": [
        {
          "output_type": "stream",
          "name": "stdout",
          "text": [
            "1\n",
            "14 17\n",
            "pqfwkhopkmcoqh yggxxpklorellnmpa\n",
            "pqfwkhopkmcoqh\n",
            "qfwkhopkmcoqh\n",
            "fwkhopkmcoqh\n",
            "wkhopkmcoqh\n",
            "khopkmcoqh\n",
            "hopkmcoqh\n",
            "opkmcoqh\n",
            "pkmcoqh\n",
            "kmcoqh\n",
            "mcoqh\n",
            "coqh\n",
            "oqh\n",
            "qh\n",
            "h\n",
            "\n",
            "\n",
            "pqfwkhopkmcoqh\n",
            "qfwkhopkmcoqh\n",
            "fwkhopkmcoqh\n",
            "wkhopkmcoqh\n",
            "khopkmcoqh\n",
            "hopkmcoqh\n",
            "opkmcoqh\n",
            "pkmcoqh\n",
            "kmcoqh\n",
            "mcoqh\n",
            "coqh\n",
            "oqh\n",
            "qh\n",
            "h\n",
            "\n",
            "pqfwkhopkmcoq\n",
            "qfwkhopkmcoqh\n",
            "fwkhopkmcoqh\n",
            "wkhopkmcoqh\n",
            "khopkmcoqh\n",
            "hopkmcoqh\n",
            "opkmcoqh\n",
            "pkmcoqh\n",
            "kmcoqh\n",
            "mcoqh\n",
            "coqh\n",
            "oqh\n",
            "qh\n",
            "h\n",
            "pqfwkhopkmco\n",
            "qfwkhopkmcoq\n",
            "fwkhopkmcoqh\n",
            "wkhopkmcoqh\n",
            "khopkmcoqh\n",
            "hopkmcoqh\n",
            "opkmcoqh\n",
            "pkmcoqh\n",
            "kmcoqh\n",
            "mcoqh\n",
            "coqh\n",
            "oqh\n",
            "qh\n",
            "pqfwkhopkmc\n",
            "qfwkhopkmco\n",
            "fwkhopkmcoq\n",
            "wkhopkmcoqh\n",
            "khopkmcoqh\n",
            "hopkmcoqh\n",
            "opkmcoqh\n",
            "pkmcoqh\n",
            "kmcoqh\n",
            "mcoqh\n",
            "coqh\n",
            "oqh\n",
            "pqfwkhopkm\n",
            "qfwkhopkmc\n",
            "fwkhopkmco\n",
            "wkhopkmcoq\n",
            "khopkmcoqh\n",
            "hopkmcoqh\n",
            "opkmcoqh\n",
            "pkmcoqh\n",
            "kmcoqh\n",
            "mcoqh\n",
            "coqh\n",
            "pqfwkhopk\n",
            "qfwkhopkm\n",
            "fwkhopkmc\n",
            "wkhopkmco\n",
            "khopkmcoq\n",
            "hopkmcoqh\n",
            "opkmcoqh\n",
            "pkmcoqh\n",
            "kmcoqh\n",
            "mcoqh\n",
            "pqfwkhop\n",
            "qfwkhopk\n",
            "fwkhopkm\n",
            "wkhopkmc\n",
            "khopkmco\n",
            "hopkmcoq\n",
            "opkmcoqh\n",
            "pkmcoqh\n",
            "kmcoqh\n",
            "pqfwkho\n",
            "qfwkhop\n",
            "fwkhopk\n",
            "wkhopkm\n",
            "khopkmc\n",
            "hopkmco\n",
            "opkmcoq\n",
            "pkmcoqh\n",
            "pqfwkh\n",
            "qfwkho\n",
            "fwkhop\n",
            "wkhopk\n",
            "khopkm\n",
            "hopkmc\n",
            "opkmco\n",
            "pqfwk\n",
            "qfwkh\n",
            "fwkho\n",
            "wkhop\n",
            "khopk\n",
            "hopkm\n",
            "pqfw\n",
            "qfwk\n",
            "fwkh\n",
            "wkho\n",
            "khop\n",
            "pqf\n",
            "qfw\n",
            "fwk\n",
            "wkh\n",
            "pq\n",
            "qf\n",
            "fw\n"
          ]
        }
      ]
    },
    {
      "cell_type": "code",
      "source": [
        "for samples in range(int(input())): \n",
        "  len_1, len_2 = map(int, input().split())\n",
        "  str_1, str_2 = map(str, input().split())\n",
        "  D = {}\n",
        "  Di ={}\n",
        "  L=[]\n",
        "  i = 0\n",
        "  j = len_1\n",
        "\n",
        "  for itr in range(len_1):\n",
        "    k = i\n",
        "    l = j\n",
        "    while k < len_1:\n",
        "      while l > i:\n",
        "        if str_1[k:l] in str_2:\n",
        "          if str_1[k:l] in D.keys():\n",
        "            D[str_1[k:l]] += 1\n",
        "          else:\n",
        "            D[str_1[k:l]] = 1\n",
        "        l = l-1\n",
        "      k = k+1\n",
        "    i = i+1\n",
        "  max_len = 0\n",
        "  for key in D.keys():\n",
        "    if len(key) > max_len:\n",
        "      max_len = len(key)\n",
        "  print(max_len)\n",
        "  for keys in D.keys():\n",
        "    if len(keys) == max_len:\n",
        "      if keys in str_2:\n",
        "        Di[keys] = str_2.count(keys)\n",
        "  for m in Di.keys():\n",
        "    L = L+[m]\n",
        "    L.sort()\n",
        "  if len(L) != 0: \n",
        "    for n in L:\n",
        "      print(n, Di[n])"
      ],
      "metadata": {
        "colab": {
          "base_uri": "https://localhost:8080/"
        },
        "id": "8BrazdlTMkMJ",
        "outputId": "da88ddea-e57a-4a08-a920-5e440ad0d024"
      },
      "execution_count": null,
      "outputs": [
        {
          "output_type": "stream",
          "name": "stdout",
          "text": [
            "1\n",
            "14 17\n",
            "pqfwkhopkmcoqh yggxxpklorellnmpa\n",
            "2\n",
            "pk 1\n"
          ]
        }
      ]
    },
    {
      "cell_type": "code",
      "source": [
        "# previous submission\n",
        "for  test_cases in range(int(input())):\n",
        "  len_1, len_2 = map(int, input().split())  \n",
        "  str_1, str_2 = map(str, input().split())\n",
        "  max_len = 0\n",
        "  D = {}\n",
        "  L = []\n",
        "  found = False\n",
        "  for i in range(len(str_1)):\n",
        "    length = len(str_1)-i    \n",
        "    for j in range(i+1):            \n",
        "      if str_1[j :j+length] in str_2:\n",
        "        max_len = len(str_1[j :i+j])\n",
        "        found = True\n",
        "        break\n",
        "    if found:\n",
        "      break\n",
        "  if max_len == 0:\n",
        "    print('0')\n",
        "  else:\n",
        "    for k in range((len_1)-(max_len-1)):\n",
        "      if (str_1[k:k+max_len]) in str_2:\n",
        "        D[str_1[k:k+max_len]] = 0\n",
        "    for l in D.keys():\n",
        "      if l in str_2:\n",
        "        D[l] = str_2.count(l)\n",
        "  if max_len > 0:\n",
        "    print(max_len)\n",
        "    for m in D.keys():\n",
        "      L = L+[m]\n",
        "      L.sort()\n",
        "    for n in L:\n",
        "      print(n, D[n])"
      ],
      "metadata": {
        "colab": {
          "base_uri": "https://localhost:8080/"
        },
        "id": "u41D7gE7xYzX",
        "outputId": "1d65d52c-baf8-4999-e53c-77067d23d003"
      },
      "execution_count": null,
      "outputs": [
        {
          "output_type": "stream",
          "name": "stdout",
          "text": [
            "1\n",
            "14 17\n",
            "pqfwkhopkmcoqh yggxxpklorellnmpa\n",
            "pqfwkhopkmcoqh\n",
            "qfwkhopkmcoqh\n",
            "fwkhopkmcoqh\n",
            "wkhopkmcoqh\n",
            "khopkmcoqh\n",
            "hopkmcoqh\n",
            "opkmcoqh\n",
            "pkmcoqh\n",
            "kmcoqh\n",
            "mcoqh\n",
            "coqh\n",
            "oqh\n",
            "qh\n",
            "h\n",
            "pqfwkhopkmcoq\n",
            "qfwkhopkmcoqh\n",
            "fwkhopkmcoqh\n",
            "wkhopkmcoqh\n",
            "khopkmcoqh\n",
            "hopkmcoqh\n",
            "opkmcoqh\n",
            "pkmcoqh\n",
            "kmcoqh\n",
            "mcoqh\n",
            "coqh\n",
            "oqh\n",
            "qh\n",
            "h\n",
            "pqfwkhopkmco\n",
            "qfwkhopkmcoq\n",
            "fwkhopkmcoqh\n",
            "wkhopkmcoqh\n",
            "khopkmcoqh\n",
            "hopkmcoqh\n",
            "opkmcoqh\n",
            "pkmcoqh\n",
            "kmcoqh\n",
            "mcoqh\n",
            "coqh\n",
            "oqh\n",
            "qh\n",
            "h\n",
            "pqfwkhopkmc\n",
            "qfwkhopkmco\n",
            "fwkhopkmcoq\n",
            "wkhopkmcoqh\n",
            "khopkmcoqh\n",
            "hopkmcoqh\n",
            "opkmcoqh\n",
            "pkmcoqh\n",
            "kmcoqh\n",
            "mcoqh\n",
            "coqh\n",
            "oqh\n",
            "qh\n",
            "h\n",
            "pqfwkhopkm\n",
            "qfwkhopkmc\n",
            "fwkhopkmco\n",
            "wkhopkmcoq\n",
            "khopkmcoqh\n",
            "hopkmcoqh\n",
            "opkmcoqh\n",
            "pkmcoqh\n",
            "kmcoqh\n",
            "mcoqh\n",
            "coqh\n",
            "oqh\n",
            "qh\n",
            "h\n",
            "pqfwkhopk\n",
            "qfwkhopkm\n",
            "fwkhopkmc\n",
            "wkhopkmco\n",
            "khopkmcoq\n",
            "hopkmcoqh\n",
            "opkmcoqh\n",
            "pkmcoqh\n",
            "kmcoqh\n",
            "mcoqh\n",
            "coqh\n",
            "oqh\n",
            "qh\n",
            "h\n",
            "pqfwkhop\n",
            "qfwkhopk\n",
            "fwkhopkm\n",
            "wkhopkmc\n",
            "khopkmco\n",
            "hopkmcoq\n",
            "opkmcoqh\n",
            "pkmcoqh\n",
            "kmcoqh\n",
            "mcoqh\n",
            "coqh\n",
            "oqh\n",
            "qh\n",
            "h\n",
            "pqfwkho\n",
            "qfwkhop\n",
            "fwkhopk\n",
            "wkhopkm\n",
            "khopkmc\n",
            "hopkmco\n",
            "opkmcoq\n",
            "pkmcoqh\n",
            "kmcoqh\n",
            "mcoqh\n",
            "coqh\n",
            "oqh\n",
            "qh\n",
            "h\n",
            "pqfwkh\n",
            "qfwkho\n",
            "fwkhop\n",
            "wkhopk\n",
            "khopkm\n",
            "hopkmc\n",
            "opkmco\n",
            "pkmcoq\n",
            "kmcoqh\n",
            "mcoqh\n",
            "coqh\n",
            "oqh\n",
            "qh\n",
            "h\n",
            "pqfwk\n",
            "qfwkh\n",
            "fwkho\n",
            "wkhop\n",
            "khopk\n",
            "hopkm\n",
            "opkmc\n",
            "pkmco\n",
            "kmcoq\n",
            "mcoqh\n",
            "coqh\n",
            "oqh\n",
            "qh\n",
            "h\n",
            "pqfw\n",
            "qfwk\n",
            "fwkh\n",
            "wkho\n",
            "khop\n",
            "hopk\n",
            "opkm\n",
            "pkmc\n",
            "kmco\n",
            "mcoq\n",
            "coqh\n",
            "oqh\n",
            "qh\n",
            "h\n",
            "pqf\n",
            "qfw\n",
            "fwk\n",
            "wkh\n",
            "kho\n",
            "hop\n",
            "opk\n",
            "pkm\n",
            "kmc\n",
            "mco\n",
            "coq\n",
            "oqh\n",
            "qh\n",
            "h\n",
            "pq\n",
            "qf\n",
            "fw\n",
            "wk\n",
            "kh\n",
            "ho\n",
            "op\n",
            "pk\n"
          ]
        }
      ]
    },
    {
      "cell_type": "code",
      "source": [
        "stringg = 'abcdefgh'\n",
        "for i in range(len(stringg)):\n",
        "  length = len(stringg)-i\n",
        "  for j in range(i+1):\n",
        "    print(stringg[j:j+length])\n"
      ],
      "metadata": {
        "colab": {
          "base_uri": "https://localhost:8080/"
        },
        "id": "xXn0GAcG1QbD",
        "outputId": "9ae15ef0-d793-4042-ae0e-46703ff45fd5"
      },
      "execution_count": null,
      "outputs": [
        {
          "output_type": "stream",
          "name": "stdout",
          "text": [
            "abcdefgh\n",
            "abcdefg\n",
            "bcdefgh\n",
            "abcdef\n",
            "bcdefg\n",
            "cdefgh\n",
            "abcde\n",
            "bcdef\n",
            "cdefg\n",
            "defgh\n",
            "abcd\n",
            "bcde\n",
            "cdef\n",
            "defg\n",
            "efgh\n",
            "abc\n",
            "bcd\n",
            "cde\n",
            "def\n",
            "efg\n",
            "fgh\n",
            "ab\n",
            "bc\n",
            "cd\n",
            "de\n",
            "ef\n",
            "fg\n",
            "gh\n",
            "a\n",
            "b\n",
            "c\n",
            "d\n",
            "e\n",
            "f\n",
            "g\n",
            "h\n"
          ]
        }
      ]
    },
    {
      "cell_type": "code",
      "source": [
        "for samples in range(int(input())): \n",
        "  len_1, len_2 = map(int, input().split())\n",
        "  str_1, str_2 = map(str, input().split())\n",
        "  D = {}\n",
        "  max_len = 0\n",
        "  L=[]  \n",
        "  for i in range(len_1):\n",
        "    if len(D) == 0:\n",
        "      length = len_1-i\n",
        "      for j in range(i+1):\n",
        "        if str_1[j:j+length] in str_2:\n",
        "          max_len = len(str_1[j:j+length])\n",
        "          D[str_1[j:j+length]] = str_2.count(str_1[j:j+length])\n",
        "  print(max_len)\n",
        "\n",
        "  if max_len > 0:\n",
        "    for k in range(len_1-max_len+1):\n",
        "      if str_1[k:k+max_len] in str_2:\n",
        "        D[str_1[k:k+max_len]] = str_2.count(str_1[k:k+max_len])\n",
        "    for m in D.keys():\n",
        "      L = L+[m]\n",
        "      L.sort() \n",
        "    for n in L:\n",
        "      print(n, D[n])\n",
        "\n",
        "\n",
        "\n",
        "\n",
        "  \n",
        "  # max_len = 0\n",
        "  # for key in D.keys():\n",
        "  #   if len(key) > max_len:\n",
        "  #     max_len = len(key)\n",
        "  # print(max_len)\n",
        "  # for keys in D.keys():\n",
        "  #   if len(keys) == max_len:\n",
        "  #     if keys in str_2:\n",
        "  #       Di[keys] = str_2.count(keys)\n",
        "  # for m in Di.keys():\n",
        "  #   L = L+[m]\n",
        "  #   L.sort()\n",
        "  # if len(L) != 0: \n",
        "  #   for n in L:\n",
        "  #     print(n, Di[n])"
      ],
      "metadata": {
        "colab": {
          "base_uri": "https://localhost:8080/"
        },
        "id": "0KHneItp96RS",
        "outputId": "9e67ee0c-b667-41c7-922a-56feffc7786a"
      },
      "execution_count": null,
      "outputs": [
        {
          "output_type": "stream",
          "name": "stdout",
          "text": [
            "4\n",
            "14 17\n",
            "pqfwkhopkmcoqh yggxxpklorellnmpa\n",
            "2\n",
            "pk 1\n",
            "1 16\n",
            "q bcnuvqhffbsaqxwp\n",
            "1\n",
            "q 2\n",
            "4 20\n",
            "rxsj owkkyhiddqscdxrjmowf\n",
            "1\n",
            "j 1\n",
            "r 1\n",
            "s 1\n",
            "x 1\n",
            "6 7\n",
            "drrwso qfjmafa\n",
            "0\n"
          ]
        }
      ]
    },
    {
      "cell_type": "code",
      "source": [
        "dee={}\n",
        "len(dee)"
      ],
      "metadata": {
        "colab": {
          "base_uri": "https://localhost:8080/"
        },
        "id": "uBcjF6Bu9-TR",
        "outputId": "50d55e90-48d4-4b2e-8949-41eabafaac37"
      },
      "execution_count": null,
      "outputs": [
        {
          "output_type": "execute_result",
          "data": {
            "text/plain": [
              "0"
            ]
          },
          "metadata": {},
          "execution_count": 4
        }
      ]
    },
    {
      "cell_type": "code",
      "source": [
        "T=[]\n",
        "T += 'abc'\n",
        "T"
      ],
      "metadata": {
        "id": "XJeujihYB7QS",
        "colab": {
          "base_uri": "https://localhost:8080/"
        },
        "outputId": "58375a82-0579-4c77-a82a-91f7185534b3"
      },
      "execution_count": null,
      "outputs": [
        {
          "output_type": "execute_result",
          "data": {
            "text/plain": [
              "['a', 'b', 'c']"
            ]
          },
          "metadata": {},
          "execution_count": 12
        }
      ]
    },
    {
      "cell_type": "code",
      "source": [
        "for samples in range(int(input())): \n",
        "  len_1, len_2 = map(int, input().split())\n",
        "  str_1, str_2 = map(str, input().split())\n",
        "  D = {}\n",
        "  L=[]\n",
        "  max_len = 0\n",
        "    \n",
        "  for i in range(len_1):\n",
        "    if len(D) == 0:\n",
        "      length = len_1-i\n",
        "      for j in range(i+1):\n",
        "        if str_1[j:j+length] in str_2:\n",
        "          max_len = len(str_1[j:j+length])\n",
        "          D[str_1[j:j+length]] = str_2.count(str_1[j:j+length])\n",
        "  print(max_len)\n",
        "\n",
        "  if max_len > 0:\n",
        "    for k in range(len_1-max_len+1):\n",
        "      if str_1[k:k+max_len] in str_2:\n",
        "        D[str_1[k:k+max_len]] = str_2.count(str_1[k:k+max_len])\n",
        "        L += str_1[k:k+max_len]\n",
        "   \n",
        "    L.sort() \n",
        "    for each in L:\n",
        "      print(L, D)"
      ],
      "metadata": {
        "colab": {
          "base_uri": "https://localhost:8080/"
        },
        "id": "FnL3GQpmN3ql",
        "outputId": "67887b9f-de5a-4bd4-c86a-767bf9333b75"
      },
      "execution_count": null,
      "outputs": [
        {
          "output_type": "stream",
          "name": "stdout",
          "text": [
            "1\n",
            "14 17\n",
            "pqfwkhopkmcoqh yggxxpklorellnmpa\n",
            "2\n",
            "['k', 'p'] {'pk': 1}\n",
            "['k', 'p'] {'pk': 1}\n"
          ]
        }
      ]
    },
    {
      "cell_type": "code",
      "source": [
        "for samples in range(int(input())): \n",
        "  len_1, len_2 = map(int, input().split())\n",
        "  str_1, str_2 = map(str, input().split())\n",
        "  D = {}\n",
        "  L=[]\n",
        "  max_len = 0\n",
        "    \n",
        "  for i in range(len_1):\n",
        "    if len(D) == 0:\n",
        "      length = len_1-i\n",
        "      for j in range(i+1):\n",
        "        if str_1[j:j+length] in str_2:\n",
        "          max_len = len(str_1[j:j+length])\n",
        "          D[str_1[j:j+length]] = str_2.count(str_1[j:j+length])\n",
        "  print(max_len)\n",
        "  if max_len > 0:\n",
        "     for n in sorted(D.keys()):\n",
        "      print(n, D[n])\n"
      ],
      "metadata": {
        "colab": {
          "base_uri": "https://localhost:8080/"
        },
        "id": "DAX6cHlzODkB",
        "outputId": "8ee565e0-6f19-4def-afe2-5cb48654cc63"
      },
      "execution_count": null,
      "outputs": [
        {
          "output_type": "stream",
          "name": "stdout",
          "text": [
            "1\n",
            "7 7\n",
            "gbcdefa gkkkkka\n",
            "1\n",
            "a 1\n",
            "g 1\n"
          ]
        }
      ]
    },
    {
      "cell_type": "markdown",
      "source": [
        "6th June"
      ],
      "metadata": {
        "id": "f6MwDbIvs215"
      }
    },
    {
      "cell_type": "code",
      "source": [
        "for iter in range(int(input())):\n",
        "  coins = int(input())\n",
        "  c = coins\n",
        "  for iter in range(1,coins):\n",
        "    c =- iter\n",
        "    if c < 0:\n",
        "      break\n",
        "  print(iter -1)\n",
        "\n"
      ],
      "metadata": {
        "colab": {
          "base_uri": "https://localhost:8080/"
        },
        "id": "_fPAHUTes1Vl",
        "outputId": "13248009-0fc7-4726-c00a-9eb0a6ac3663"
      },
      "execution_count": null,
      "outputs": [
        {
          "output_type": "stream",
          "name": "stdout",
          "text": [
            "3\n",
            "3\n",
            "0\n",
            "5\n",
            "0\n",
            "7\n",
            "0\n"
          ]
        }
      ]
    },
    {
      "cell_type": "code",
      "source": [
        "def square_matrix(m):\n",
        "  matrix = []\n",
        "  for i in range(m):\n",
        "    matrix.append([0])\n",
        "  for j in range(m):\n",
        "    for k in range(m-1):\n",
        "      matrix[j].append(0)\n",
        "  return matrix\n",
        "  \n",
        "square_matrix(3)"
      ],
      "metadata": {
        "colab": {
          "base_uri": "https://localhost:8080/"
        },
        "id": "JExE-P6BsWfy",
        "outputId": "43ddab90-29db-4e97-af32-2aa58194ce8c"
      },
      "execution_count": 27,
      "outputs": [
        {
          "output_type": "execute_result",
          "data": {
            "text/plain": [
              "[[0, 0, 0], [0, 0, 0], [0, 0, 0]]"
            ]
          },
          "metadata": {},
          "execution_count": 27
        }
      ]
    }
  ]
}