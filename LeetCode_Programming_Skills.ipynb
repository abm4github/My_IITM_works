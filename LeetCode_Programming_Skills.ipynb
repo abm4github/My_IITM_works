{
  "nbformat": 4,
  "nbformat_minor": 0,
  "metadata": {
    "colab": {
      "provenance": [],
      "collapsed_sections": [],
      "authorship_tag": "ABX9TyMDHDzqzJ2ZruHsuuGR7oj/",
      "include_colab_link": true
    },
    "kernelspec": {
      "name": "python3",
      "display_name": "Python 3"
    },
    "language_info": {
      "name": "python"
    }
  },
  "cells": [
    {
      "cell_type": "markdown",
      "metadata": {
        "id": "view-in-github",
        "colab_type": "text"
      },
      "source": [
        "<a href=\"https://colab.research.google.com/github/abm4github/My_IITM_works/blob/main/LeetCode_Programming_Skills.ipynb\" target=\"_parent\"><img src=\"https://colab.research.google.com/assets/colab-badge.svg\" alt=\"Open In Colab\"/></a>"
      ]
    },
    {
      "cell_type": "markdown",
      "source": [
        "#LEVEL 1"
      ],
      "metadata": {
        "id": "6R-QNAdeXk8O"
      }
    },
    {
      "cell_type": "markdown",
      "source": [
        "##Day 1: Basic Data Type"
      ],
      "metadata": {
        "id": "fGZZrMX2NtUU"
      }
    },
    {
      "cell_type": "markdown",
      "source": [
        "####1523. Count Odd Numbers in an Interval Range"
      ],
      "metadata": {
        "id": "MhBKdKFBNtGz"
      }
    },
    {
      "cell_type": "code",
      "source": [
        "\"\"\"\n",
        "1523. Count Odd Numbers in an Interval Range\n",
        "Easy\n",
        "\n",
        "985\n",
        "\n",
        "73\n",
        "\n",
        "Add to List\n",
        "\n",
        "Share\n",
        "Given two non-negative integers low and high. Return the count of odd numbers between low and high (inclusive).\n",
        "\n",
        " \n",
        "\n",
        "Example 1:\n",
        "\n",
        "Input: low = 3, high = 7\n",
        "Output: 3\n",
        "Explanation: The odd numbers between 3 and 7 are [3,5,7].\n",
        "Example 2:\n",
        "\n",
        "Input: low = 8, high = 10\n",
        "Output: 1\n",
        "Explanation: The odd numbers between 8 and 10 are [9].\n",
        " \n",
        "\n",
        "Constraints:\n",
        "\n",
        "0 <= low <= high <= 10^9\n",
        "\"\"\""
      ],
      "metadata": {
        "id": "GbdNZxfHNsTS"
      },
      "execution_count": null,
      "outputs": []
    },
    {
      "cell_type": "code",
      "execution_count": null,
      "metadata": {
        "colab": {
          "base_uri": "https://localhost:8080/"
        },
        "id": "EBmYKbqVNMZM",
        "outputId": "10eeefd9-ea23-473f-89fc-f86d3ac1c3d5"
      },
      "outputs": [
        {
          "output_type": "execute_result",
          "data": {
            "text/plain": [
              "9"
            ]
          },
          "metadata": {},
          "execution_count": 42
        }
      ],
      "source": [
        "# Memory Limit Exceeded\n",
        "\n",
        "def countOdds(low, high):\n",
        "    count = 0\n",
        "    for i in range(low, high+1, 1):\n",
        "        if i % 2 == 1:\n",
        "            count += 1  \n",
        "    return count\n",
        "\n",
        "\n",
        "countOdds(2, 20)"
      ]
    },
    {
      "cell_type": "code",
      "source": [
        "# improved version\n",
        "\n",
        "\"\"\"\n",
        "Runtime: 15 ms, faster than 94.23% of Python online submissions for Count Odd Numbers in an Interval Range.\n",
        "Memory Usage: 13.5 MB, less than 32.78% of Python online submissions for Count Odd Numbers in an Interval Range.\n",
        "\"\"\"\n",
        "\n",
        "def countOdds(low, high):\n",
        "    if low % 2 == 0 and high % 2 == 0:\n",
        "        return ((high-low)//2)\n",
        "    else:\n",
        "        return ((high-low)//2) + 1\n",
        "\n",
        "\n",
        "countOdds(2, 20)"
      ],
      "metadata": {
        "colab": {
          "base_uri": "https://localhost:8080/"
        },
        "id": "BngrvwDzNqkU",
        "outputId": "0132789e-b788-413b-8968-57e3fc130c51"
      },
      "execution_count": null,
      "outputs": [
        {
          "output_type": "execute_result",
          "data": {
            "text/plain": [
              "9"
            ]
          },
          "metadata": {},
          "execution_count": 47
        }
      ]
    },
    {
      "cell_type": "markdown",
      "source": [
        "####1491. Average Salary Excluding the Minimum and Maximum Salary"
      ],
      "metadata": {
        "id": "hLL-6VMPXZRV"
      }
    },
    {
      "cell_type": "code",
      "source": [
        "\"\"\"\n",
        "1491. Average Salary Excluding the Minimum and Maximum Salary\n",
        "Easy\n",
        "\n",
        "867\n",
        "\n",
        "103\n",
        "\n",
        "Add to List\n",
        "\n",
        "Share\n",
        "You are given an array of unique integers salary where salary[i] is the salary of the ith employee.\n",
        "\n",
        "Return the average salary of employees excluding the minimum and maximum salary. Answers within 10-5 of the actual answer will be accepted.\n",
        "\n",
        " \n",
        "\n",
        "Example 1:\n",
        "\n",
        "Input: salary = [4000,3000,1000,2000]\n",
        "Output: 2500.00000\n",
        "Explanation: Minimum salary and maximum salary are 1000 and 4000 respectively.\n",
        "Average salary excluding minimum and maximum salary is (2000+3000) / 2 = 2500\n",
        "Example 2:\n",
        "\n",
        "Input: salary = [1000,2000,3000]\n",
        "Output: 2000.00000\n",
        "Explanation: Minimum salary and maximum salary are 1000 and 3000 respectively.\n",
        "Average salary excluding minimum and maximum salary is (2000) / 1 = 2000\n",
        " \n",
        "\n",
        "Constraints:\n",
        "\n",
        "3 <= salary.length <= 100\n",
        "1000 <= salary[i] <= 106\n",
        "All the integers of salary are unique.\n",
        "\"\"\""
      ],
      "metadata": {
        "id": "hgSx0aw9VvLB"
      },
      "execution_count": null,
      "outputs": []
    },
    {
      "cell_type": "code",
      "source": [
        "# Here we can understand the necessity of using brackets properly,\n",
        "# float(total - min - max) / len(salary)-2 gives WRONG answer,\n",
        "# float(total - min - max) / (len(salary)-2) gives RIGHT answer.\n",
        "\n",
        "\"\"\"\n",
        "Runtime: 34 ms, faster than 25.90% of Python online submissions for Average Salary Excluding the Minimum and Maximum Salary.\n",
        "Memory Usage: 13.5 MB, less than 20.19% of Python online submissions for Average Salary Excluding the Minimum and Maximum Salary.\n",
        "\"\"\"\n",
        "\n",
        "def average(salary):\n",
        "    total = 0\n",
        "    min = salary[0]\n",
        "    max = salary[0]\n",
        "\n",
        "    for sal in salary:\n",
        "        total += sal\n",
        "        if sal > max:\n",
        "            max = sal\n",
        "        elif sal < min:\n",
        "            min = sal\n",
        "\n",
        "    return float(total - min - max) / (len(salary)-2)\n",
        "\n",
        "\n",
        "average([48000,59000,99000,13000,78000,45000,31000,17000,39000,37000,93000,77000,33000,28000,4000,54000,67000,6000,1000,11000])"
      ],
      "metadata": {
        "colab": {
          "base_uri": "https://localhost:8080/"
        },
        "id": "yECrQA3rVvGz",
        "outputId": "3677b3e2-e2e1-488d-cb0f-f89b88fbb35b"
      },
      "execution_count": null,
      "outputs": [
        {
          "output_type": "execute_result",
          "data": {
            "text/plain": [
              "41111.11111111111"
            ]
          },
          "metadata": {},
          "execution_count": 46
        }
      ]
    },
    {
      "cell_type": "markdown",
      "source": [
        "##Day 2: Operator"
      ],
      "metadata": {
        "id": "JbWaiFpafJE9"
      }
    },
    {
      "cell_type": "markdown",
      "source": [
        "####191. Number of 1 Bits"
      ],
      "metadata": {
        "id": "YikITOsEnyVd"
      }
    },
    {
      "cell_type": "code",
      "source": [
        "\"\"\"\n",
        "191. Number of 1 Bits\n",
        "Easy\n",
        "\n",
        "4122\n",
        "\n",
        "912\n",
        "\n",
        "Add to List\n",
        "\n",
        "Share\n",
        "Write a function that takes an unsigned integer and returns the number of '1' bits it has (also known as the Hamming weight).\n",
        "\n",
        "Note:\n",
        "\n",
        "Note that in some languages, such as Java, there is no unsigned integer type. In this case, the input will be given as a signed integer type. It should not affect your implementation, as the integer's internal binary representation is the same, whether it is signed or unsigned.\n",
        "In Java, the compiler represents the signed integers using 2's complement notation. Therefore, in Example 3, the input represents the signed integer. -3.\n",
        " \n",
        "\n",
        "Example 1:\n",
        "\n",
        "Input: n = 00000000000000000000000000001011\n",
        "Output: 3\n",
        "Explanation: The input binary string 00000000000000000000000000001011 has a total of three '1' bits.\n",
        "Example 2:\n",
        "\n",
        "Input: n = 00000000000000000000000010000000\n",
        "Output: 1\n",
        "Explanation: The input binary string 00000000000000000000000010000000 has a total of one '1' bit.\n",
        "Example 3:\n",
        "\n",
        "Input: n = 11111111111111111111111111111101\n",
        "Output: 31\n",
        "Explanation: The input binary string 11111111111111111111111111111101 has a total of thirty one '1' bits.\n",
        " \n",
        "\n",
        "Constraints:\n",
        "\n",
        "The input must be a binary string of length 32.\n",
        " \n",
        "\n",
        "Follow up: If this function is called many times, how would you optimize it?\n",
        "\"\"\""
      ],
      "metadata": {
        "id": "NZjGEmGqr65m"
      },
      "execution_count": null,
      "outputs": []
    },
    {
      "cell_type": "code",
      "source": [
        "# needs revision\n",
        "# this is not executing on google colab\n",
        "# right answerto this is 31 wheras its showing 60\n",
        "# video explanation: https://www.youtube.com/watch?v=5Km3utixwZs\n",
        "# this code can be improved\n",
        "\n",
        "\"\"\"\n",
        "Runtime: 30 ms, faster than 46.60% of Python online submissions for Number of 1 Bits.\n",
        "Memory Usage: 13.2 MB, less than 86.37% of Python online submissions for Number of 1 Bits.\n",
        "\"\"\"\n",
        "\n",
        "def hammingWeight(n):\n",
        "    output = 0\n",
        "    while n:\n",
        "        output += n % 2\n",
        "        n = n >> 1\n",
        "    return output\n",
        "\n",
        "\n",
        "hammingWeight(11111111111111111111111111111101)"
      ],
      "metadata": {
        "id": "GxNMvlKGnzSW"
      },
      "execution_count": null,
      "outputs": []
    },
    {
      "cell_type": "markdown",
      "source": [
        "####1281. Subtract the Product and Sum of Digits of an Integer"
      ],
      "metadata": {
        "id": "C-gdG3b3fIyD"
      }
    },
    {
      "cell_type": "code",
      "source": [
        "\"\"\"\n",
        "1281. Subtract the Product and Sum of Digits of an Integer\n",
        "Easy\n",
        "\n",
        "1497\n",
        "\n",
        "196\n",
        "\n",
        "Add to List\n",
        "\n",
        "Share\n",
        "Given an integer number n, return the difference between the product of its digits and the sum of its digits.\n",
        " \n",
        "\n",
        "Example 1:\n",
        "\n",
        "Input: n = 234\n",
        "Output: 15 \n",
        "Explanation: \n",
        "Product of digits = 2 * 3 * 4 = 24 \n",
        "Sum of digits = 2 + 3 + 4 = 9 \n",
        "Result = 24 - 9 = 15\n",
        "Example 2:\n",
        "\n",
        "Input: n = 4421\n",
        "Output: 21\n",
        "Explanation: \n",
        "Product of digits = 4 * 4 * 2 * 1 = 32 \n",
        "Sum of digits = 4 + 4 + 2 + 1 = 11 \n",
        "Result = 32 - 11 = 21\n",
        " \n",
        "\n",
        "Constraints:\n",
        "\n",
        "1 <= n <= 10^5\n",
        "\"\"\""
      ],
      "metadata": {
        "id": "kJ5zN4zQn1_n"
      },
      "execution_count": null,
      "outputs": []
    },
    {
      "cell_type": "code",
      "source": [
        "\"\"\"\n",
        "Runtime: 28 ms, faster than 42.81% of Python online submissions for Subtract the Product and Sum of Digits of an Integer.\n",
        "Memory Usage: 13.4 MB, less than 64.96% of Python online submissions for Subtract the Product and Sum of Digits of an Integer.\n",
        "\"\"\"\n",
        "\n",
        "def subtractProductAndSum(n):\n",
        "    prod = 1\n",
        "    summ = 0\n",
        "\n",
        "    for digi in str(n):\n",
        "        prod *= int(digi)\n",
        "        summ += int(digi)\n",
        "    \n",
        "    return prod - summ \n",
        "\n",
        "\n",
        "subtractProductAndSum(234)"
      ],
      "metadata": {
        "colab": {
          "base_uri": "https://localhost:8080/"
        },
        "id": "JZLSRjpgfW_x",
        "outputId": "29b85416-03ce-44cd-bf66-ed31249e1e31"
      },
      "execution_count": null,
      "outputs": [
        {
          "output_type": "execute_result",
          "data": {
            "text/plain": [
              "15"
            ]
          },
          "metadata": {},
          "execution_count": 1
        }
      ]
    },
    {
      "cell_type": "markdown",
      "source": [
        "##Day 3: Conditional Statements"
      ],
      "metadata": {
        "id": "CnOSnobCP9T2"
      }
    },
    {
      "cell_type": "markdown",
      "source": [
        "####976. Largest Perimeter Triangle"
      ],
      "metadata": {
        "id": "IgScwFUkQS_1"
      }
    },
    {
      "cell_type": "code",
      "source": [
        "\"\"\"\n",
        "976. Largest Perimeter Triangle\n",
        "Easy\n",
        "\n",
        "1342\n",
        "\n",
        "194\n",
        "\n",
        "Add to List\n",
        "\n",
        "Share\n",
        "Given an integer array nums, return the largest perimeter of a triangle with a non-zero area, formed from three of these lengths. If it is impossible to form any triangle of a non-zero area, return 0.\n",
        "\n",
        " \n",
        "\n",
        "Example 1:\n",
        "\n",
        "Input: nums = [2,1,2]\n",
        "Output: 5\n",
        "Example 2:\n",
        "\n",
        "Input: nums = [1,2,1]\n",
        "Output: 0\n",
        " \n",
        "\n",
        "Constraints:\n",
        "\n",
        "3 <= nums.length <= 104\n",
        "1 <= nums[i] <= 106\n",
        "\"\"\""
      ],
      "metadata": {
        "id": "Olj5c6xrP_rX"
      },
      "execution_count": null,
      "outputs": []
    },
    {
      "cell_type": "code",
      "source": [
        "# needs revision\n",
        "# code link: https://github.com/algorhythms/LeetCode/blob/master/976%20Largest%20Perimeter%20Triangle.py\n",
        "\n",
        "\"\"\"\n",
        "Runtime: 323 ms, faster than 18.47% of Python online submissions for Largest Perimeter Triangle.\n",
        "Memory Usage: 14.8 MB, less than 28.17% of Python online submissions for Largest Perimeter Triangle.\n",
        "\"\"\"\n",
        "\n",
        "def largestPerimeter(nums):\n",
        "    nums.sort()\n",
        "    for i in range(len(nums) - 3, -1, -1):\n",
        "        if nums[i] + nums[i+1] > nums[i+2]:\n",
        "            return sum(nums[i:i+3])\n",
        "    else:\n",
        "        return 0\n",
        "\n",
        "\n",
        "largestPerimeter([2,1,2])"
      ],
      "metadata": {
        "colab": {
          "base_uri": "https://localhost:8080/"
        },
        "id": "9XnW78_MQBYZ",
        "outputId": "c0bd40c1-688b-4b2f-a3f8-d52dd3b4a3b2"
      },
      "execution_count": null,
      "outputs": [
        {
          "output_type": "execute_result",
          "data": {
            "text/plain": [
              "5"
            ]
          },
          "metadata": {},
          "execution_count": 4
        }
      ]
    },
    {
      "cell_type": "markdown",
      "source": [
        "####1779. Find Nearest Point That Has the Same X or Y Coordinate"
      ],
      "metadata": {
        "id": "Fb7TUKQRQknS"
      }
    },
    {
      "cell_type": "code",
      "source": [
        "\"\"\"\n",
        "1779. Find Nearest Point That Has the Same X or Y Coordinate\n",
        "Easy\n",
        "\n",
        "537\n",
        "\n",
        "103\n",
        "\n",
        "Add to List\n",
        "\n",
        "Share\n",
        "You are given two integers, x and y, which represent your current location on a Cartesian grid: (x, y). You are also given an array points where each points[i] = [ai, bi] represents that a point exists at (ai, bi). A point is valid if it shares the same x-coordinate or the same y-coordinate as your location.\n",
        "\n",
        "Return the index (0-indexed) of the valid point with the smallest Manhattan distance from your current location. If there are multiple, return the valid point with the smallest index. If there are no valid points, return -1.\n",
        "\n",
        "The Manhattan distance between two points (x1, y1) and (x2, y2) is abs(x1 - x2) + abs(y1 - y2).\n",
        "\n",
        " \n",
        "\n",
        "Example 1:\n",
        "\n",
        "Input: x = 3, y = 4, points = [[1,2],[3,1],[2,4],[2,3],[4,4]]\n",
        "Output: 2\n",
        "Explanation: Of all the points, only [3,1], [2,4] and [4,4] are valid. Of the valid points, [2,4] and [4,4] have the smallest Manhattan distance from your current location, with a distance of 1. [2,4] has the smallest index, so return 2.\n",
        "Example 2:\n",
        "\n",
        "Input: x = 3, y = 4, points = [[3,4]]\n",
        "Output: 0\n",
        "Explanation: The answer is allowed to be on the same location as your current location.\n",
        "Example 3:\n",
        "\n",
        "Input: x = 3, y = 4, points = [[2,3]]\n",
        "Output: -1\n",
        "Explanation: There are no valid points.\n",
        " \n",
        "\n",
        "Constraints:\n",
        "\n",
        "1 <= points.length <= 104\n",
        "points[i].length == 2\n",
        "1 <= x, y, ai, bi <= 104\n",
        "\"\"\""
      ],
      "metadata": {
        "id": "-7Vemf3BQPEc"
      },
      "execution_count": null,
      "outputs": []
    },
    {
      "cell_type": "code",
      "source": [
        "# needs revision\n",
        "# code link: https://github.com/qianzhangut/LeetCodePractice/blob/master/problems/1779.Find%20Nearest%20Point%20That%20Has%20the%20Same%20X%20or%20Y%20Coordinate.py\n",
        "# python3\n",
        "\n",
        "\"\"\"\n",
        "Runtime: 1147 ms, faster than 44.51% of Python3 online submissions for Find Nearest Point That Has the Same X or Y Coordinate.\n",
        "Memory Usage: 19.6 MB, less than 5.78% of Python3 online submissions for Find Nearest Point That Has the Same X or Y Coordinate.\n",
        "\"\"\"\n",
        "\n",
        "class Solution:\n",
        "    def nearestValidPoint(self, x: int, y: int, points: List[List[int]]) -> int:\n",
        "        res, index = math.inf, -1\n",
        "        for i, (l, r) in enumerate(points):\n",
        "            if (x-l)*(y-r) == 0 and (abs(x-l) + abs(y-r)<res):\n",
        "                res = abs(x-l) + abs(y-r)\n",
        "                index = i\n",
        "        return index  "
      ],
      "metadata": {
        "id": "5e3pTNhaR8XP"
      },
      "execution_count": null,
      "outputs": []
    },
    {
      "cell_type": "code",
      "source": [
        "# wrong answer, question seems buggy, check later\n",
        "\n",
        "\n",
        "def nearestValidPoint(x, y, points):\n",
        "    countt = 0\n",
        "    c = 0\n",
        "    listo = []\n",
        "    min_d = 10**5\n",
        "    for point in points:\n",
        "        \n",
        "        if (point[0] == x or point[1] == y) and (point not in listo):\n",
        "            c += 1 \n",
        "            d = (((x-point[0])**2) + ((y-point[1])**2))**(1/2) \n",
        "            if d == min_d:\n",
        "                countt += 1\n",
        "            elif d < min_d:\n",
        "                countt = 0\n",
        "                min_d = d\n",
        "                \n",
        "        listo.append(point)\n",
        "        \n",
        "    if c == 0:\n",
        "        return -1\n",
        "    else:\n",
        "        return countt\n",
        "\n",
        "\n",
        "nearestValidPoint(3, 4, [[1,2],[3,1],[2,4],[2,3],[4,4]] )"
      ],
      "metadata": {
        "colab": {
          "base_uri": "https://localhost:8080/"
        },
        "id": "62QPSJpagc2O",
        "outputId": "341aa626-0551-4bc9-facb-d590e958614a"
      },
      "execution_count": null,
      "outputs": [
        {
          "output_type": "execute_result",
          "data": {
            "text/plain": [
              "2"
            ]
          },
          "metadata": {},
          "execution_count": 3
        }
      ]
    },
    {
      "cell_type": "markdown",
      "source": [
        "##Day 4: Loop"
      ],
      "metadata": {
        "id": "e1ov_PzH1AF_"
      }
    },
    {
      "cell_type": "markdown",
      "source": [
        "####1822. Sign of the Product of an Array"
      ],
      "metadata": {
        "id": "gomgoN3v0-4h"
      }
    },
    {
      "cell_type": "code",
      "source": [
        "\"\"\"\n",
        "1822. Sign of the Product of an Array\n",
        "Easy\n",
        "\n",
        "710\n",
        "\n",
        "96\n",
        "\n",
        "Add to List\n",
        "\n",
        "Share\n",
        "There is a function signFunc(x) that returns:\n",
        "\n",
        "1 if x is positive.\n",
        "-1 if x is negative.\n",
        "0 if x is equal to 0.\n",
        "You are given an integer array nums. Let product be the product of all values in the array nums.\n",
        "\n",
        "Return signFunc(product).\n",
        "\n",
        " \n",
        "\n",
        "Example 1:\n",
        "\n",
        "Input: nums = [-1,-2,-3,-4,3,2,1]\n",
        "Output: 1\n",
        "Explanation: The product of all values in the array is 144, and signFunc(144) = 1\n",
        "Example 2:\n",
        "\n",
        "Input: nums = [1,5,0,2,-3]\n",
        "Output: 0\n",
        "Explanation: The product of all values in the array is 0, and signFunc(0) = 0\n",
        "Example 3:\n",
        "\n",
        "Input: nums = [-1,1,-1,1,-1]\n",
        "Output: -1\n",
        "Explanation: The product of all values in the array is -1, and signFunc(-1) = -1\n",
        " \n",
        "\n",
        "Constraints:\n",
        "\n",
        "1 <= nums.length <= 1000\n",
        "-100 <= nums[i] <= 100\n",
        "\"\"\""
      ],
      "metadata": {
        "id": "wGcQqVW1gsy2"
      },
      "execution_count": null,
      "outputs": []
    },
    {
      "cell_type": "code",
      "source": [
        "\"\"\"\n",
        "Runtime: 84 ms, faster than 19.40% of Python online submissions for Sign of the Product of an Array.\n",
        "Memory Usage: 13.6 MB, less than 24.61% of Python online submissions for Sign of the Product of an Array.\n",
        "\"\"\"\n",
        "\n",
        "def arraySign(nums):\n",
        "    countt = 0\n",
        "    for num in nums:\n",
        "        if num == 0:\n",
        "            return 0\n",
        "        elif num < 0:\n",
        "            countt += 1\n",
        "    if countt % 2 == 0:\n",
        "        return 1\n",
        "    else:\n",
        "        return -1\n",
        "\n",
        "\n",
        "arraySign([-1,-2,-3,-4,3,2,1])"
      ],
      "metadata": {
        "colab": {
          "base_uri": "https://localhost:8080/"
        },
        "id": "d2oY2bNP0-Te",
        "outputId": "42bb7a94-9a74-475e-d0fc-dd353f00864e"
      },
      "execution_count": null,
      "outputs": [
        {
          "output_type": "execute_result",
          "data": {
            "text/plain": [
              "1"
            ]
          },
          "metadata": {},
          "execution_count": 1
        }
      ]
    },
    {
      "cell_type": "markdown",
      "source": [
        "####1502. Can Make Arithmetic Progression From Sequence"
      ],
      "metadata": {
        "id": "qnVs1KQ96fAj"
      }
    },
    {
      "cell_type": "code",
      "source": [
        "\"\"\"\n",
        "1502. Can Make Arithmetic Progression From Sequence\n",
        "Easy\n",
        "\n",
        "799\n",
        "\n",
        "52\n",
        "\n",
        "Add to List\n",
        "\n",
        "Share\n",
        "A sequence of numbers is called an arithmetic progression if the difference between any two consecutive elements is the same.\n",
        "\n",
        "Given an array of numbers arr, return true if the array can be rearranged to form an arithmetic progression. Otherwise, return false.\n",
        "\n",
        " \n",
        "\n",
        "Example 1:\n",
        "\n",
        "Input: arr = [3,5,1]\n",
        "Output: true\n",
        "Explanation: We can reorder the elements as [1,3,5] or [5,3,1] with differences 2 and -2 respectively, between each consecutive elements.\n",
        "Example 2:\n",
        "\n",
        "Input: arr = [1,2,4]\n",
        "Output: false\n",
        "Explanation: There is no way to reorder the elements to obtain an arithmetic progression.\n",
        " \n",
        "\n",
        "Constraints:\n",
        "\n",
        "2 <= arr.length <= 1000\n",
        "-106 <= arr[i] <= 106\n",
        "\"\"\""
      ],
      "metadata": {
        "id": "sWcH9_Hs1xBs"
      },
      "execution_count": null,
      "outputs": []
    },
    {
      "cell_type": "code",
      "source": [
        "\"\"\"\n",
        "Runtime: 34 ms, faster than 71.69% of Python online submissions for Can Make Arithmetic Progression From Sequence.\n",
        "Memory Usage: 13.6 MB, less than 17.99% of Python online submissions for Can Make Arithmetic Progression From Sequence.\n",
        "\"\"\"\n",
        "\n",
        "def canMakeArithmeticProgression(arr):\n",
        "    arr.sort()\n",
        "    cd = arr[1] - arr[0]\n",
        "    for i in range(1, len(arr)):\n",
        "        if arr[i] - arr[i-1] != cd:\n",
        "            return False\n",
        "    return True\n",
        "\n",
        "canMakeArithmeticProgression([1,2,4])"
      ],
      "metadata": {
        "colab": {
          "base_uri": "https://localhost:8080/"
        },
        "id": "mFc33UUl6kxg",
        "outputId": "c871f935-05ca-48bd-9244-caa8c46a073a"
      },
      "execution_count": null,
      "outputs": [
        {
          "output_type": "execute_result",
          "data": {
            "text/plain": [
              "False"
            ]
          },
          "metadata": {},
          "execution_count": 2
        }
      ]
    },
    {
      "cell_type": "markdown",
      "source": [
        "####202. Happy Number"
      ],
      "metadata": {
        "id": "rjUT0cHpL7J-"
      }
    },
    {
      "cell_type": "code",
      "source": [
        "\"\"\"\n",
        "202. Happy Number\n",
        "Easy\n",
        "\n",
        "6570\n",
        "\n",
        "820\n",
        "\n",
        "Add to List\n",
        "\n",
        "Share\n",
        "Write an algorithm to determine if a number n is happy.\n",
        "\n",
        "A happy number is a number defined by the following process:\n",
        "\n",
        "Starting with any positive integer, replace the number by the sum of the squares of its digits.\n",
        "Repeat the process until the number equals 1 (where it will stay), or it loops endlessly in a cycle which does not include 1.\n",
        "Those numbers for which this process ends in 1 are happy.\n",
        "Return true if n is a happy number, and false if not.\n",
        "\n",
        " \n",
        "\n",
        "Example 1:\n",
        "\n",
        "Input: n = 19\n",
        "Output: true\n",
        "Explanation:\n",
        "12 + 92 = 82\n",
        "82 + 22 = 68\n",
        "62 + 82 = 100\n",
        "12 + 02 + 02 = 1\n",
        "Example 2:\n",
        "\n",
        "Input: n = 2\n",
        "Output: false\n",
        " \n",
        "\n",
        "Constraints:\n",
        "\n",
        "1 <= n <= 231 - 1\n",
        "\"\"\""
      ],
      "metadata": {
        "id": "iYmxCl5iL7yC"
      },
      "execution_count": null,
      "outputs": []
    },
    {
      "cell_type": "code",
      "source": [
        "# needs revision\n",
        "# video explanation: https://www.youtube.com/watch?v=ljz85bxOYJ0\n",
        "\n",
        "\"\"\"\n",
        "Runtime: 62 ms, faster than 31.61% of Python3 online submissions for Happy Number.\n",
        "Memory Usage: 14 MB, less than 14.96% of Python3 online submissions for Happy Number.\n",
        "\"\"\"\n",
        "\n",
        "class Solution:\n",
        "    def isHappy(self, n: int) -> bool:\n",
        "        visit = set()\n",
        "        \n",
        "        while n not in visit:\n",
        "            visit.add(n)\n",
        "            n = self.sumOfSquares(n)\n",
        "            \n",
        "            if n == 1:\n",
        "                return True\n",
        "            \n",
        "        return False\n",
        "    \n",
        "    def sumOfSquares(self, n: int) -> int:\n",
        "        output = 0\n",
        "        \n",
        "        while n:\n",
        "            digit = n % 10\n",
        "            digit = digit ** 2\n",
        "            output += digit\n",
        "            n = n // 10\n",
        "        return output\n",
        "        "
      ],
      "metadata": {
        "id": "j2zHclgtL6DB"
      },
      "execution_count": null,
      "outputs": []
    },
    {
      "cell_type": "markdown",
      "source": [
        "####1790. Check if One String Swap Can Make Strings Equal"
      ],
      "metadata": {
        "id": "XMO6AjwWLFkr"
      }
    },
    {
      "cell_type": "code",
      "source": [
        "\"\"\"\n",
        "1790. Check if One String Swap Can Make Strings Equal\n",
        "Easy\n",
        "\n",
        "629\n",
        "\n",
        "28\n",
        "\n",
        "Add to List\n",
        "\n",
        "Share\n",
        "You are given two strings s1 and s2 of equal length. A string swap is an operation where you choose two indices in a string (not necessarily different) and swap the characters at these indices.\n",
        "\n",
        "Return true if it is possible to make both strings equal by performing at most one string swap on exactly one of the strings. Otherwise, return false.\n",
        "\n",
        " \n",
        "\n",
        "Example 1:\n",
        "\n",
        "Input: s1 = \"bank\", s2 = \"kanb\"\n",
        "Output: true\n",
        "Explanation: For example, swap the first character with the last character of s2 to make \"bank\".\n",
        "Example 2:\n",
        "\n",
        "Input: s1 = \"attack\", s2 = \"defend\"\n",
        "Output: false\n",
        "Explanation: It is impossible to make them equal with one string swap.\n",
        "Example 3:\n",
        "\n",
        "Input: s1 = \"kelb\", s2 = \"kelb\"\n",
        "Output: true\n",
        "Explanation: The two strings are already equal, so no string swap operation is required.\n",
        " \n",
        "\n",
        "Constraints:\n",
        "\n",
        "1 <= s1.length, s2.length <= 100\n",
        "s1.length == s2.length\n",
        "s1 and s2 consist of only lowercase English letters.\n",
        "\"\"\""
      ],
      "metadata": {
        "id": "5ws5A1TA63wZ"
      },
      "execution_count": null,
      "outputs": []
    },
    {
      "cell_type": "code",
      "source": [
        "# code could be improved i guess\n",
        "\n",
        "\"\"\"\n",
        "Runtime: 34 ms, faster than 32.02% of Python online submissions for Check if One String Swap Can Make Strings Equal.\n",
        "Memory Usage: 13.2 MB, less than 96.07% of Python online submissions for Check if One String Swap Can Make Strings Equal.\n",
        "\"\"\"\n",
        "\n",
        "def areAlmostEqual(s1, s2):\n",
        "    if s1 == s2:\n",
        "        return True\n",
        "    if len(s1) != len(s2):\n",
        "        return False\n",
        "    countt = 0\n",
        "    l = []\n",
        "    for i in range(len(s1)):\n",
        "        if s1[i] != s2[i]:\n",
        "            countt += 1\n",
        "            if countt > 2:\n",
        "                return False\n",
        "            l.append(i)\n",
        "    if countt != 2 or len(l) != 2:\n",
        "        return False\n",
        "        \n",
        "    if s1[l[0]] == s2[l[1]] and s1[l[1]] == s2[l[0]]:\n",
        "        return True\n",
        "    else:\n",
        "        return False\n",
        "\n",
        "areAlmostEqual(\"attack\",\"defend\")"
      ],
      "metadata": {
        "colab": {
          "base_uri": "https://localhost:8080/"
        },
        "id": "53nx-zuCLGxC",
        "outputId": "aa743efa-4c1b-4d5a-e191-3c9000440262"
      },
      "execution_count": null,
      "outputs": [
        {
          "output_type": "execute_result",
          "data": {
            "text/plain": [
              "False"
            ]
          },
          "metadata": {},
          "execution_count": 3
        }
      ]
    },
    {
      "cell_type": "markdown",
      "source": [
        "##Day 5:"
      ],
      "metadata": {
        "id": "U_pKElB-EXqg"
      }
    },
    {
      "cell_type": "markdown",
      "source": [
        "####589. N-ary Tree Preorder Traversal"
      ],
      "metadata": {
        "id": "v3TC8Pt3FCZx"
      }
    },
    {
      "cell_type": "code",
      "source": [
        "\"\"\"\n",
        "589. N-ary Tree Preorder Traversal\n",
        "Easy\n",
        "\n",
        "2196\n",
        "\n",
        "103\n",
        "\n",
        "Add to List\n",
        "\n",
        "Share\n",
        "Given the root of an n-ary tree, return the preorder traversal of its nodes' values.\n",
        "\n",
        "Nary-Tree input serialization is represented in their level order traversal. Each group of children is separated by the null value (See examples)\n",
        "\n",
        " \n",
        "\n",
        "Example 1:\n",
        "\n",
        "\n",
        "\n",
        "Input: root = [1,null,3,2,4,null,5,6]\n",
        "Output: [1,3,5,6,2,4]\n",
        "Example 2:\n",
        "\n",
        "\n",
        "\n",
        "Input: root = [1,null,2,3,4,5,null,null,6,7,null,8,null,9,10,null,null,11,null,12,null,13,null,null,14]\n",
        "Output: [1,2,3,6,7,11,14,4,8,12,5,9,13,10]\n",
        " \n",
        "\n",
        "Constraints:\n",
        "\n",
        "The number of nodes in the tree is in the range [0, 104].\n",
        "0 <= Node.val <= 104\n",
        "The height of the n-ary tree is less than or equal to 1000.\n",
        " \n",
        "\n",
        "Follow up: Recursive solution is trivial, could you do it iteratively?\n",
        "\"\"\""
      ],
      "metadata": {
        "id": "OX7O0bMOFE70"
      },
      "execution_count": null,
      "outputs": []
    },
    {
      "cell_type": "code",
      "source": [
        "# needs revision\n",
        "# code link: https://goodtecher.com/leetcode-589-n-ary-tree-preorder-traversal/\n",
        "\n",
        "\"\"\"\n",
        "Runtime: 80 ms, faster than 17.30% of Python online submissions for N-ary Tree Preorder Traversal.\n",
        "Memory Usage: 16.3 MB, less than 91.11% of Python online submissions for N-ary Tree Preorder Traversal.\n",
        "\"\"\"\n",
        "\n",
        "\n",
        "\"\"\"\n",
        "# Definition for a Node.\n",
        "class Node(object):\n",
        "    def __init__(self, val=None, children=None):\n",
        "        self.val = val\n",
        "        self.children = children\n",
        "\"\"\"\n",
        "\n",
        "class Solution(object):\n",
        "    def preorder(self, root):\n",
        "        results = []\n",
        "        \n",
        "        self.helper(root, results)\n",
        "        \n",
        "        return results\n",
        "        \n",
        "        \n",
        "    def helper(self, root, results):\n",
        "        if not root:\n",
        "            return\n",
        "        \n",
        "        results.append(root.val)        \n",
        "        \n",
        "        for child in root.children:\n",
        "            self.helper(child, results)"
      ],
      "metadata": {
        "id": "J9ORXj5rFEsy"
      },
      "execution_count": null,
      "outputs": []
    },
    {
      "cell_type": "markdown",
      "source": [
        "####496. Next Greater Element I"
      ],
      "metadata": {
        "id": "_GFupuWGEWsf"
      }
    },
    {
      "cell_type": "code",
      "source": [
        "\"\"\"\n",
        "496. Next Greater Element I\n",
        "Easy\n",
        "\n",
        "4159\n",
        "\n",
        "255\n",
        "\n",
        "Add to List\n",
        "\n",
        "Share\n",
        "The next greater element of some element x in an array is the first greater element that is to the right of x in the same array.\n",
        "\n",
        "You are given two distinct 0-indexed integer arrays nums1 and nums2, where nums1 is a subset of nums2.\n",
        "\n",
        "For each 0 <= i < nums1.length, find the index j such that nums1[i] == nums2[j] and determine the next greater element of nums2[j] in nums2. If there is no next greater element, then the answer for this query is -1.\n",
        "\n",
        "Return an array ans of length nums1.length such that ans[i] is the next greater element as described above.\n",
        "\n",
        " \n",
        "\n",
        "Example 1:\n",
        "\n",
        "Input: nums1 = [4,1,2], nums2 = [1,3,4,2]\n",
        "Output: [-1,3,-1]\n",
        "Explanation: The next greater element for each value of nums1 is as follows:\n",
        "- 4 is underlined in nums2 = [1,3,4,2]. There is no next greater element, so the answer is -1.\n",
        "- 1 is underlined in nums2 = [1,3,4,2]. The next greater element is 3.\n",
        "- 2 is underlined in nums2 = [1,3,4,2]. There is no next greater element, so the answer is -1.\n",
        "Example 2:\n",
        "\n",
        "Input: nums1 = [2,4], nums2 = [1,2,3,4]\n",
        "Output: [3,-1]\n",
        "Explanation: The next greater element for each value of nums1 is as follows:\n",
        "- 2 is underlined in nums2 = [1,2,3,4]. The next greater element is 3.\n",
        "- 4 is underlined in nums2 = [1,2,3,4]. There is no next greater element, so the answer is -1.\n",
        " \n",
        "\n",
        "Constraints:\n",
        "\n",
        "1 <= nums1.length <= nums2.length <= 1000\n",
        "0 <= nums1[i], nums2[i] <= 104\n",
        "All integers in nums1 and nums2 are unique.\n",
        "All the integers of nums1 also appear in nums2.\n",
        " \n",
        "\n",
        "Follow up: Could you find an O(nums1.length + nums2.length) solution?\n",
        "\"\"\""
      ],
      "metadata": {
        "id": "toQvF3omEYkM"
      },
      "execution_count": null,
      "outputs": []
    },
    {
      "cell_type": "code",
      "source": [
        "# needs revision\n",
        "# code link: https://zhenyu0519.github.io/2020/06/22/lc496/\n",
        "\n",
        "\n",
        "\"\"\"\n",
        "Runtime: 72 ms, faster than 47.48% of Python online submissions for Next Greater Element I.\n",
        "Memory Usage: 13.7 MB, less than 32.48% of Python online submissions for Next Greater Element I.\n",
        "\"\"\"\n",
        "\n",
        "\n",
        "def nextGreaterElement(nums1, nums2):\n",
        "    if not nums1 or not nums2: return []\n",
        "    res = []\n",
        "    nums2_dic = {v:i for i, v in enumerate(nums2)}\n",
        "    for x in nums1:\n",
        "        index=nums2_dic[x]+1\n",
        "        while index < len(nums2) and x >= nums2[index]:\n",
        "            index += 1\n",
        "        if index == len(nums2):\n",
        "            res.append(-1)\n",
        "        else:\n",
        "            res.append(nums2[index])\n",
        "    return res"
      ],
      "metadata": {
        "id": "j25lC7IMEY7y"
      },
      "execution_count": null,
      "outputs": []
    },
    {
      "cell_type": "markdown",
      "source": [
        "####1232. Check If It Is a Straight Line"
      ],
      "metadata": {
        "id": "pmjR7aW5Qju2"
      }
    },
    {
      "cell_type": "code",
      "source": [
        "\"\"\"\n",
        "1232. Check If It Is a Straight Line\n",
        "Easy\n",
        "\n",
        "1047\n",
        "\n",
        "160\n",
        "\n",
        "Add to List\n",
        "\n",
        "Share\n",
        "You are given an array coordinates, coordinates[i] = [x, y], where [x, y] represents the coordinate of a point. Check if these points make a straight line in the XY plane.\n",
        "\n",
        " \n",
        "\n",
        " \n",
        "\n",
        "Example 1:\n",
        "\n",
        "\n",
        "\n",
        "Input: coordinates = [[1,2],[2,3],[3,4],[4,5],[5,6],[6,7]]\n",
        "Output: true\n",
        "Example 2:\n",
        "\n",
        "\n",
        "\n",
        "Input: coordinates = [[1,1],[2,2],[3,4],[4,5],[5,6],[7,7]]\n",
        "Output: false\n",
        " \n",
        "\n",
        "Constraints:\n",
        "\n",
        "2 <= coordinates.length <= 1000\n",
        "coordinates[i].length == 2\n",
        "-10^4 <= coordinates[i][0], coordinates[i][1] <= 10^4\n",
        "coordinates contains no duplicate point.\n",
        "\"\"\""
      ],
      "metadata": {
        "id": "U5B_PU_FQkbi"
      },
      "execution_count": null,
      "outputs": []
    },
    {
      "cell_type": "code",
      "source": [
        "\"\"\"\n",
        "Runtime: 78 ms, faster than 27.04% of Python online submissions for Check If It Is a Straight Line.\n",
        "Memory Usage: 13.9 MB, less than 78.52% of Python online submissions for Check If It Is a Straight Line.\n",
        "\"\"\"\n",
        "\n",
        "\n",
        "def checkStraightLine(coordinates):\n",
        "    if (coordinates[1][0] - coordinates[0][0]) != 0:\n",
        "        m = (coordinates[1][1] - coordinates[0][1]) / (coordinates[1][0] - coordinates[0][0])\n",
        "    \n",
        "        for i in range(2, len(coordinates)):\n",
        "            if (coordinates[i][0] - coordinates[i-1][0]) == 0:\n",
        "                return False\n",
        "            if (coordinates[i][1] - coordinates[i-1][1]) / (coordinates[i][0] - coordinates[i-1][0]) != m:\n",
        "                return False\n",
        "        return True\n",
        "    else:\n",
        "        for i in range(2, len(coordinates)):\n",
        "            if (coordinates[i][0] - coordinates[i-1][0]) != 0:\n",
        "                return False\n",
        "        return True\n",
        "\n",
        "\n",
        "checkStraightLine([[1,2],[2,3],[3,4],[4,5],[5,6],[6,7]])"
      ],
      "metadata": {
        "colab": {
          "base_uri": "https://localhost:8080/"
        },
        "id": "6vLflgzAQk4e",
        "outputId": "8078f2e8-7c90-4955-b26d-641c04be6c4f"
      },
      "execution_count": 1,
      "outputs": [
        {
          "output_type": "execute_result",
          "data": {
            "text/plain": [
              "True"
            ]
          },
          "metadata": {},
          "execution_count": 1
        }
      ]
    }
  ]
}