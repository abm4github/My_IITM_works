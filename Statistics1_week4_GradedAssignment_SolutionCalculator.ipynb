{
  "nbformat": 4,
  "nbformat_minor": 0,
  "metadata": {
    "colab": {
      "provenance": [],
      "authorship_tag": "ABX9TyOkQGZQyB6wOqToEbnZF4CU",
      "include_colab_link": true
    },
    "kernelspec": {
      "name": "python3",
      "display_name": "Python 3"
    },
    "language_info": {
      "name": "python"
    }
  },
  "cells": [
    {
      "cell_type": "markdown",
      "metadata": {
        "id": "view-in-github",
        "colab_type": "text"
      },
      "source": [
        "<a href=\"https://colab.research.google.com/github/abm4github/My_IITM_works/blob/main/Statistics1_week4_GradedAssignment_SolutionCalculator.ipynb\" target=\"_parent\"><img src=\"https://colab.research.google.com/assets/colab-badge.svg\" alt=\"Open In Colab\"/></a>"
      ]
    },
    {
      "cell_type": "markdown",
      "source": [
        "##stats 1 week 4"
      ],
      "metadata": {
        "id": "89Eg7dmG5fx8"
      }
    },
    {
      "cell_type": "markdown",
      "source": [
        "![image.png](data:image/png;base64,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)"
      ],
      "metadata": {
        "id": "JOHbbCJjU9jm"
      }
    },
    {
      "cell_type": "code",
      "source": [
        "from statistics import mean\n",
        "op = [4, 5, 1, 2, 3, 5, 4]\n",
        "bk = [15,10,17,12,16,10,13]\n",
        "\n",
        "avg_op = mean(op)\n",
        "avg_bk = mean(bk)\n",
        "\n",
        "print(avg_op)\n",
        "print(avg_bk)"
      ],
      "metadata": {
        "id": "-31HJ1lqRQcg",
        "colab": {
          "base_uri": "https://localhost:8080/"
        },
        "outputId": "7ab01cb0-6f6f-4627-ab4c-d0ba20393869"
      },
      "execution_count": 1,
      "outputs": [
        {
          "output_type": "stream",
          "name": "stdout",
          "text": [
            "3.4285714285714284\n",
            "13.285714285714286\n"
          ]
        }
      ]
    },
    {
      "cell_type": "code",
      "source": [
        "sum_sqr_error_op = 0\n",
        "for observation_op in op:\n",
        "  error_op = observation_op - avg_op\n",
        "  sqr_error_op = error_op ** 2\n",
        "  sum_sqr_error_op += sqr_error_op\n",
        "mean_sum_sqr_error_op = sum_sqr_error_op/len(op)\n",
        "root_mean_sum_sqr_error_op = mean_sum_sqr_error_op ** (1/2)\n",
        "population_standard_deviation_op = root_mean_sum_sqr_error_op\n",
        "\n",
        "print(population_standard_deviation_op)\n"
      ],
      "metadata": {
        "colab": {
          "base_uri": "https://localhost:8080/"
        },
        "id": "pAXqTkxW5c9D",
        "outputId": "82ee5340-6cf8-4037-d0b1-ffc81490074a"
      },
      "execution_count": 2,
      "outputs": [
        {
          "output_type": "stream",
          "name": "stdout",
          "text": [
            "1.3997084244475304\n"
          ]
        }
      ]
    },
    {
      "cell_type": "code",
      "source": [
        "sum_sqr_error_bk = 0\n",
        "for observation_bk in bk:\n",
        "  error_bk = observation_bk - avg_bk\n",
        "  sqr_error_bk = error_bk ** 2\n",
        "  sum_sqr_error_bk += sqr_error_bk\n",
        "sample_mean_sum_sqr_error_bk = sum_sqr_error_bk/(len(bk)-1)\n",
        "sample_root_mean_sum_sqr_error_bk = sample_mean_sum_sqr_error_bk ** (1/2)\n",
        "sample_standard_deviation_bk = sample_root_mean_sum_sqr_error_bk\n",
        "\n",
        "print(sample_standard_deviation_bk)"
      ],
      "metadata": {
        "colab": {
          "base_uri": "https://localhost:8080/"
        },
        "id": "dREaqq8Y87Gm",
        "outputId": "5f6cc136-310e-44a8-8355-c35ca3588a98"
      },
      "execution_count": 3,
      "outputs": [
        {
          "output_type": "stream",
          "name": "stdout",
          "text": [
            "2.811540841738193\n"
          ]
        }
      ]
    },
    {
      "cell_type": "code",
      "source": [
        "sum_error_mul = 0\n",
        "for i in range(len(op)):\n",
        "  error_mul = (op[i]-avg_op) * (bk[i]-avg_bk)\n",
        "  sum_error_mul += error_mul\n",
        "sample_mean_sum_error_mul = sum_error_mul / (len(op)-1)\n",
        "sample_covariance = sample_mean_sum_error_mul\n",
        "\n",
        "print(sample_covariance)"
      ],
      "metadata": {
        "colab": {
          "base_uri": "https://localhost:8080/"
        },
        "id": "6eoMPd2W9bLV",
        "outputId": "acfd8b80-8dda-4e62-a3a3-909d579143a5"
      },
      "execution_count": 4,
      "outputs": [
        {
          "output_type": "stream",
          "name": "stdout",
          "text": [
            "-2.9761904761904763\n"
          ]
        }
      ]
    },
    {
      "cell_type": "code",
      "source": [
        "sum_error_mul = 0\n",
        "for i in range(len(op)):\n",
        "  error_mul = (op[i]-avg_op) * (bk[i]-avg_bk)\n",
        "  sum_error_mul += error_mul\n",
        "\n",
        "sum_sqr_error_op = 0\n",
        "for observation_op in op:\n",
        "  error_op = observation_op - avg_op\n",
        "  sqr_error_op = error_op ** 2\n",
        "  sum_sqr_error_op += sqr_error_op  \n",
        "\n",
        "sum_sqr_error_bk = 0\n",
        "for observation_bk in bk:\n",
        "  error_bk = observation_bk - avg_bk\n",
        "  sqr_error_bk = error_bk ** 2\n",
        "  sum_sqr_error_bk += sqr_error_bk\n",
        "\n",
        "sum_sqr_error_mul = sum_sqr_error_op * sum_sqr_error_bk\n",
        "root_sum_sqr_error_mul = sum_sqr_error_mul ** (1/2)\n",
        "\n",
        "correlation = sum_error_mul / root_sum_sqr_error_mul\n",
        "\n",
        "print(correlation)"
      ],
      "metadata": {
        "colab": {
          "base_uri": "https://localhost:8080/"
        },
        "id": "4GIMubpuBZug",
        "outputId": "30a37238-5c65-4ca7-ec2a-2d8cde86c93c"
      },
      "execution_count": 5,
      "outputs": [
        {
          "output_type": "stream",
          "name": "stdout",
          "text": [
            "-0.700172992106595\n"
          ]
        }
      ]
    },
    {
      "cell_type": "markdown",
      "source": [
        "![image.png](data:image/png;base64,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)"
      ],
      "metadata": {
        "id": "UC6xWQ38Y-yZ"
      }
    },
    {
      "cell_type": "code",
      "source": [
        "good_arr = [50,93,64,127]\n",
        "poor_arr = [59,90,88,80]\n",
        "\n",
        "good = sum(good_arr)\n",
        "poor = sum(poor_arr)\n",
        "\n",
        "bright = good_arr[0] + poor_arr[0]\n",
        "average = good_arr[1] + poor_arr[1]\n",
        "dull = good_arr[2] + poor_arr[2]\n",
        "borderline = good_arr[3] + poor_arr[3]\n"
      ],
      "metadata": {
        "id": "QViju2ePY0au"
      },
      "execution_count": 12,
      "outputs": []
    },
    {
      "cell_type": "code",
      "source": [
        "total_students = good + poor\n",
        "print(total_students)"
      ],
      "metadata": {
        "colab": {
          "base_uri": "https://localhost:8080/"
        },
        "id": "7YOzfDAUZmyf",
        "outputId": "1664e783-abb7-4a74-b93e-28c8f2aa7b40"
      },
      "execution_count": 13,
      "outputs": [
        {
          "output_type": "stream",
          "name": "stdout",
          "text": [
            "651\n"
          ]
        }
      ]
    },
    {
      "cell_type": "code",
      "source": [
        "proportion_dull = dull/total_students\n",
        "\n",
        "print(proportion_dull)"
      ],
      "metadata": {
        "colab": {
          "base_uri": "https://localhost:8080/"
        },
        "id": "MGQ1P5uKZ8lZ",
        "outputId": "bd805752-36d2-4bf8-bb84-9641435869d6"
      },
      "execution_count": 16,
      "outputs": [
        {
          "output_type": "stream",
          "name": "stdout",
          "text": [
            "0.23348694316436253\n"
          ]
        }
      ]
    },
    {
      "cell_type": "code",
      "source": [
        "proportion_poor = poor/total_students\n",
        "\n",
        "print(proportion_poor)"
      ],
      "metadata": {
        "colab": {
          "base_uri": "https://localhost:8080/"
        },
        "id": "qi4kjX01ar50",
        "outputId": "19f2b514-43f6-4192-8bd2-4503c9cfa5a8"
      },
      "execution_count": 17,
      "outputs": [
        {
          "output_type": "stream",
          "name": "stdout",
          "text": [
            "0.4869431643625192\n"
          ]
        }
      ]
    },
    {
      "cell_type": "code",
      "source": [
        "proportion_good_in_borderline = good_arr[-1]/borderline\n",
        "\n",
        "print(proportion_good_in_borderline)"
      ],
      "metadata": {
        "colab": {
          "base_uri": "https://localhost:8080/"
        },
        "id": "savLVOt5bHup",
        "outputId": "ea9a6629-5be3-4ca2-e0c7-dcd1d868e546"
      },
      "execution_count": 18,
      "outputs": [
        {
          "output_type": "stream",
          "name": "stdout",
          "text": [
            "0.6135265700483091\n"
          ]
        }
      ]
    },
    {
      "cell_type": "code",
      "source": [
        "percentage_of_average_in_good = (good_arr[1]/average) * 100\n",
        "\n",
        "percentage_of_average_in_good"
      ],
      "metadata": {
        "colab": {
          "base_uri": "https://localhost:8080/"
        },
        "id": "YblJIWRAbsMC",
        "outputId": "99206082-03b1-444f-8b87-3e48892c5439"
      },
      "execution_count": 21,
      "outputs": [
        {
          "output_type": "execute_result",
          "data": {
            "text/plain": [
              "50.81967213114754"
            ]
          },
          "metadata": {},
          "execution_count": 21
        }
      ]
    },
    {
      "cell_type": "code",
      "source": [
        "percentage_of_bright_in_poor = (poor_arr[0]/bright) * 100\n",
        "\n",
        "percentage_of_bright_in_poor"
      ],
      "metadata": {
        "colab": {
          "base_uri": "https://localhost:8080/"
        },
        "id": "z6goKWgdcDgu",
        "outputId": "b8919cbe-525c-4662-d577-e5369566c38c"
      },
      "execution_count": 23,
      "outputs": [
        {
          "output_type": "execute_result",
          "data": {
            "text/plain": [
              "54.12844036697248"
            ]
          },
          "metadata": {},
          "execution_count": 23
        }
      ]
    }
  ]
}