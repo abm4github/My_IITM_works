{
  "nbformat": 4,
  "nbformat_minor": 0,
  "metadata": {
    "colab": {
      "provenance": [],
      "authorship_tag": "ABX9TyMohgWC3D3JolRXnFkT1Wh1",
      "include_colab_link": true
    },
    "kernelspec": {
      "name": "python3",
      "display_name": "Python 3"
    },
    "language_info": {
      "name": "python"
    }
  },
  "cells": [
    {
      "cell_type": "markdown",
      "metadata": {
        "id": "view-in-github",
        "colab_type": "text"
      },
      "source": [
        "<a href=\"https://colab.research.google.com/github/abm4github/My_IITM_works/blob/main/Statistics1_week4_GradedAssignment_SolutionCalculator.ipynb\" target=\"_parent\"><img src=\"https://colab.research.google.com/assets/colab-badge.svg\" alt=\"Open In Colab\"/></a>"
      ]
    },
    {
      "cell_type": "markdown",
      "source": [
        "##stats 1 week 4"
      ],
      "metadata": {
        "id": "89Eg7dmG5fx8"
      }
    },
    {
      "cell_type": "markdown",
      "source": [
        "![image.png](data:image/png;base64,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)"
      ],
      "metadata": {
        "id": "JOHbbCJjU9jm"
      }
    },
    {
      "cell_type": "code",
      "source": [
        "from statistics import mean\n",
        "op = [4, 5, 1, 2, 3, 5, 4]\n",
        "bk = [15,10,17,12,16,10,13]\n",
        "\n",
        "avg_op = mean(op)\n",
        "avg_bk = mean(bk)\n",
        "\n",
        "print(avg_op)\n",
        "print(avg_bk)"
      ],
      "metadata": {
        "id": "-31HJ1lqRQcg",
        "colab": {
          "base_uri": "https://localhost:8080/"
        },
        "outputId": "7ab01cb0-6f6f-4627-ab4c-d0ba20393869"
      },
      "execution_count": 1,
      "outputs": [
        {
          "output_type": "stream",
          "name": "stdout",
          "text": [
            "3.4285714285714284\n",
            "13.285714285714286\n"
          ]
        }
      ]
    },
    {
      "cell_type": "code",
      "source": [
        "sum_sqr_error_op = 0\n",
        "for observation_op in op:\n",
        "  error_op = observation_op - avg_op\n",
        "  sqr_error_op = error_op ** 2\n",
        "  sum_sqr_error_op += sqr_error_op\n",
        "mean_sum_sqr_error_op = sum_sqr_error_op/len(op)\n",
        "root_mean_sum_sqr_error_op = mean_sum_sqr_error_op ** (1/2)\n",
        "population_standard_deviation_op = root_mean_sum_sqr_error_op\n",
        "\n",
        "print(population_standard_deviation_op)\n"
      ],
      "metadata": {
        "colab": {
          "base_uri": "https://localhost:8080/"
        },
        "id": "pAXqTkxW5c9D",
        "outputId": "82ee5340-6cf8-4037-d0b1-ffc81490074a"
      },
      "execution_count": 2,
      "outputs": [
        {
          "output_type": "stream",
          "name": "stdout",
          "text": [
            "1.3997084244475304\n"
          ]
        }
      ]
    },
    {
      "cell_type": "code",
      "source": [
        "sum_sqr_error_bk = 0\n",
        "for observation_bk in bk:\n",
        "  error_bk = observation_bk - avg_bk\n",
        "  sqr_error_bk = error_bk ** 2\n",
        "  sum_sqr_error_bk += sqr_error_bk\n",
        "sample_mean_sum_sqr_error_bk = sum_sqr_error_bk/(len(bk)-1)\n",
        "sample_root_mean_sum_sqr_error_bk = sample_mean_sum_sqr_error_bk ** (1/2)\n",
        "sample_standard_deviation_bk = sample_root_mean_sum_sqr_error_bk\n",
        "\n",
        "print(sample_standard_deviation_bk)"
      ],
      "metadata": {
        "colab": {
          "base_uri": "https://localhost:8080/"
        },
        "id": "dREaqq8Y87Gm",
        "outputId": "5f6cc136-310e-44a8-8355-c35ca3588a98"
      },
      "execution_count": 3,
      "outputs": [
        {
          "output_type": "stream",
          "name": "stdout",
          "text": [
            "2.811540841738193\n"
          ]
        }
      ]
    },
    {
      "cell_type": "code",
      "source": [
        "sum_error_mul = 0\n",
        "for i in range(len(op)):\n",
        "  error_mul = (op[i]-avg_op) * (bk[i]-avg_bk)\n",
        "  sum_error_mul += error_mul\n",
        "sample_mean_sum_error_mul = sum_error_mul / (len(op)-1)\n",
        "sample_covariance = sample_mean_sum_error_mul\n",
        "\n",
        "print(sample_covariance)"
      ],
      "metadata": {
        "colab": {
          "base_uri": "https://localhost:8080/"
        },
        "id": "6eoMPd2W9bLV",
        "outputId": "acfd8b80-8dda-4e62-a3a3-909d579143a5"
      },
      "execution_count": 4,
      "outputs": [
        {
          "output_type": "stream",
          "name": "stdout",
          "text": [
            "-2.9761904761904763\n"
          ]
        }
      ]
    },
    {
      "cell_type": "code",
      "source": [
        "sum_error_mul = 0\n",
        "for i in range(len(op)):\n",
        "  error_mul = (op[i]-avg_op) * (bk[i]-avg_bk)\n",
        "  sum_error_mul += error_mul\n",
        "\n",
        "sum_sqr_error_op = 0\n",
        "for observation_op in op:\n",
        "  error_op = observation_op - avg_op\n",
        "  sqr_error_op = error_op ** 2\n",
        "  sum_sqr_error_op += sqr_error_op  \n",
        "\n",
        "sum_sqr_error_bk = 0\n",
        "for observation_bk in bk:\n",
        "  error_bk = observation_bk - avg_bk\n",
        "  sqr_error_bk = error_bk ** 2\n",
        "  sum_sqr_error_bk += sqr_error_bk\n",
        "\n",
        "sum_sqr_error_mul = sum_sqr_error_op * sum_sqr_error_bk\n",
        "root_sum_sqr_error_mul = sum_sqr_error_mul ** (1/2)\n",
        "\n",
        "correlation = sum_error_mul / root_sum_sqr_error_mul\n",
        "\n",
        "print(correlation)"
      ],
      "metadata": {
        "colab": {
          "base_uri": "https://localhost:8080/"
        },
        "id": "4GIMubpuBZug",
        "outputId": "30a37238-5c65-4ca7-ec2a-2d8cde86c93c"
      },
      "execution_count": 5,
      "outputs": [
        {
          "output_type": "stream",
          "name": "stdout",
          "text": [
            "-0.700172992106595\n"
          ]
        }
      ]
    }
  ]
}